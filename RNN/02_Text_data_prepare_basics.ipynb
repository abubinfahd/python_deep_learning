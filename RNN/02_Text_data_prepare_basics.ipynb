{
  "nbformat": 4,
  "nbformat_minor": 0,
  "metadata": {
    "colab": {
      "provenance": []
    },
    "kernelspec": {
      "name": "python3",
      "display_name": "Python 3"
    },
    "language_info": {
      "name": "python"
    }
  },
  "cells": [
    {
      "cell_type": "code",
      "execution_count": null,
      "metadata": {
        "id": "BOqRk78QzQHn"
      },
      "outputs": [],
      "source": [
        "import numpy as np\n",
        "\n",
        "docs = [\n",
        "    \"Dhaka is the capital of Bangladesh\",\n",
        "\"The Sundarbans is a famous mangrove forest\",\n",
        "\"The Padma River is a major river in Bangladesh\",\n",
        "\"Bangladesh gained independence in 1971\",\n",
        "\"The national language is Bengali\",\n",
        "\"Cox's Bazar has the longest sea beach\",\n",
        "\"The national sport is Kabaddi\",\n",
        "\"Bangladesh has a rich cultural heritage\",\n",
        "\"The population is over 160 million\",\n",
        "\"Dhaka is known for its vibrant street food\"\n",
        "]"
      ]
    },
    {
      "cell_type": "code",
      "source": [
        "from keras.preprocessing.text import Tokenizer\n",
        "tokenizer = Tokenizer()\n",
        "tokenizer.fit_on_texts(docs)"
      ],
      "metadata": {
        "id": "ZaTZUgIB2BgT"
      },
      "execution_count": null,
      "outputs": []
    },
    {
      "cell_type": "code",
      "source": [
        "tokenizer.word_index"
      ],
      "metadata": {
        "colab": {
          "base_uri": "https://localhost:8080/"
        },
        "id": "9H6a27zu2Gct",
        "outputId": "851f7f02-ad40-48b7-e3d5-5b3f2df9b034"
      },
      "execution_count": null,
      "outputs": [
        {
          "output_type": "execute_result",
          "data": {
            "text/plain": [
              "{'is': 1,\n",
              " 'the': 2,\n",
              " 'bangladesh': 3,\n",
              " 'a': 4,\n",
              " 'dhaka': 5,\n",
              " 'river': 6,\n",
              " 'in': 7,\n",
              " 'national': 8,\n",
              " 'has': 9,\n",
              " 'capital': 10,\n",
              " 'of': 11,\n",
              " 'sundarbans': 12,\n",
              " 'famous': 13,\n",
              " 'mangrove': 14,\n",
              " 'forest': 15,\n",
              " 'padma': 16,\n",
              " 'major': 17,\n",
              " 'gained': 18,\n",
              " 'independence': 19,\n",
              " '1971': 20,\n",
              " 'language': 21,\n",
              " 'bengali': 22,\n",
              " \"cox's\": 23,\n",
              " 'bazar': 24,\n",
              " 'longest': 25,\n",
              " 'sea': 26,\n",
              " 'beach': 27,\n",
              " 'sport': 28,\n",
              " 'kabaddi': 29,\n",
              " 'rich': 30,\n",
              " 'cultural': 31,\n",
              " 'heritage': 32,\n",
              " 'population': 33,\n",
              " 'over': 34,\n",
              " '160': 35,\n",
              " 'million': 36,\n",
              " 'known': 37,\n",
              " 'for': 38,\n",
              " 'its': 39,\n",
              " 'vibrant': 40,\n",
              " 'street': 41,\n",
              " 'food': 42}"
            ]
          },
          "metadata": {},
          "execution_count": 3
        }
      ]
    },
    {
      "cell_type": "code",
      "source": [
        "tokenizer.word_counts"
      ],
      "metadata": {
        "colab": {
          "base_uri": "https://localhost:8080/"
        },
        "id": "9In3BLya2eka",
        "outputId": "197f2147-38b5-4a3f-f315-e10a43fcaff4"
      },
      "execution_count": null,
      "outputs": [
        {
          "output_type": "execute_result",
          "data": {
            "text/plain": [
              "OrderedDict([('dhaka', 2),\n",
              "             ('is', 7),\n",
              "             ('the', 7),\n",
              "             ('capital', 1),\n",
              "             ('of', 1),\n",
              "             ('bangladesh', 4),\n",
              "             ('sundarbans', 1),\n",
              "             ('a', 3),\n",
              "             ('famous', 1),\n",
              "             ('mangrove', 1),\n",
              "             ('forest', 1),\n",
              "             ('padma', 1),\n",
              "             ('river', 2),\n",
              "             ('major', 1),\n",
              "             ('in', 2),\n",
              "             ('gained', 1),\n",
              "             ('independence', 1),\n",
              "             ('1971', 1),\n",
              "             ('national', 2),\n",
              "             ('language', 1),\n",
              "             ('bengali', 1),\n",
              "             (\"cox's\", 1),\n",
              "             ('bazar', 1),\n",
              "             ('has', 2),\n",
              "             ('longest', 1),\n",
              "             ('sea', 1),\n",
              "             ('beach', 1),\n",
              "             ('sport', 1),\n",
              "             ('kabaddi', 1),\n",
              "             ('rich', 1),\n",
              "             ('cultural', 1),\n",
              "             ('heritage', 1),\n",
              "             ('population', 1),\n",
              "             ('over', 1),\n",
              "             ('160', 1),\n",
              "             ('million', 1),\n",
              "             ('known', 1),\n",
              "             ('for', 1),\n",
              "             ('its', 1),\n",
              "             ('vibrant', 1),\n",
              "             ('street', 1),\n",
              "             ('food', 1)])"
            ]
          },
          "metadata": {},
          "execution_count": 4
        }
      ]
    },
    {
      "cell_type": "code",
      "source": [
        "tokenizer.document_count"
      ],
      "metadata": {
        "colab": {
          "base_uri": "https://localhost:8080/"
        },
        "id": "Og1Adyb32kRN",
        "outputId": "ff172cf9-df39-400c-e29a-bf4ea5a02f51"
      },
      "execution_count": null,
      "outputs": [
        {
          "output_type": "execute_result",
          "data": {
            "text/plain": [
              "10"
            ]
          },
          "metadata": {},
          "execution_count": 5
        }
      ]
    },
    {
      "cell_type": "code",
      "source": [
        "sentences = tokenizer.texts_to_sequences(docs)\n",
        "sentences"
      ],
      "metadata": {
        "colab": {
          "base_uri": "https://localhost:8080/"
        },
        "id": "qz8AVyW13Eb4",
        "outputId": "72667cfc-fd7f-4f3a-ed69-93bf5672f307"
      },
      "execution_count": null,
      "outputs": [
        {
          "output_type": "execute_result",
          "data": {
            "text/plain": [
              "[[5, 1, 2, 10, 11, 3],\n",
              " [2, 12, 1, 4, 13, 14, 15],\n",
              " [2, 16, 6, 1, 4, 17, 6, 7, 3],\n",
              " [3, 18, 19, 7, 20],\n",
              " [2, 8, 21, 1, 22],\n",
              " [23, 24, 9, 2, 25, 26, 27],\n",
              " [2, 8, 28, 1, 29],\n",
              " [3, 9, 4, 30, 31, 32],\n",
              " [2, 33, 1, 34, 35, 36],\n",
              " [5, 1, 37, 38, 39, 40, 41, 42]]"
            ]
          },
          "metadata": {},
          "execution_count": 6
        }
      ]
    },
    {
      "cell_type": "code",
      "source": [
        "from keras.utils import pad_sequences\n",
        "padded_sentences = pad_sequences(sentences, padding=\"post\")\n",
        "padded_sentences"
      ],
      "metadata": {
        "colab": {
          "base_uri": "https://localhost:8080/"
        },
        "id": "HDyEMNbR3Xss",
        "outputId": "799a2c41-4e2b-4b43-8015-a1e3ca32dd08"
      },
      "execution_count": null,
      "outputs": [
        {
          "output_type": "execute_result",
          "data": {
            "text/plain": [
              "array([[ 5,  1,  2, 10, 11,  3,  0,  0,  0],\n",
              "       [ 2, 12,  1,  4, 13, 14, 15,  0,  0],\n",
              "       [ 2, 16,  6,  1,  4, 17,  6,  7,  3],\n",
              "       [ 3, 18, 19,  7, 20,  0,  0,  0,  0],\n",
              "       [ 2,  8, 21,  1, 22,  0,  0,  0,  0],\n",
              "       [23, 24,  9,  2, 25, 26, 27,  0,  0],\n",
              "       [ 2,  8, 28,  1, 29,  0,  0,  0,  0],\n",
              "       [ 3,  9,  4, 30, 31, 32,  0,  0,  0],\n",
              "       [ 2, 33,  1, 34, 35, 36,  0,  0,  0],\n",
              "       [ 5,  1, 37, 38, 39, 40, 41, 42,  0]], dtype=int32)"
            ]
          },
          "metadata": {},
          "execution_count": 8
        }
      ]
    }
  ]
}