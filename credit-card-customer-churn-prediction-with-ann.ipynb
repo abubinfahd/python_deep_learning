{
 "cells": [
  {
   "cell_type": "code",
   "execution_count": 1,
   "id": "eb167daa",
   "metadata": {
    "_cell_guid": "b1076dfc-b9ad-4769-8c92-a6c4dae69d19",
    "_uuid": "8f2839f25d086af736a60e9eeb907d3b93b6e0e5",
    "execution": {
     "iopub.execute_input": "2023-08-06T02:30:52.159217Z",
     "iopub.status.busy": "2023-08-06T02:30:52.158502Z",
     "iopub.status.idle": "2023-08-06T02:30:52.176430Z",
     "shell.execute_reply": "2023-08-06T02:30:52.175580Z"
    },
    "papermill": {
     "duration": 0.029023,
     "end_time": "2023-08-06T02:30:52.178549",
     "exception": false,
     "start_time": "2023-08-06T02:30:52.149526",
     "status": "completed"
    },
    "tags": []
   },
   "outputs": [
    {
     "name": "stdout",
     "output_type": "stream",
     "text": [
      "/kaggle/input/credit-card-customer-churn-prediction/Churn_Modelling.csv\n"
     ]
    }
   ],
   "source": [
    "# This Python 3 environment comes with many helpful analytics libraries installed\n",
    "# It is defined by the kaggle/python Docker image: https://github.com/kaggle/docker-python\n",
    "# For example, here's several helpful packages to load\n",
    "\n",
    "import numpy as np # linear algebra\n",
    "import pandas as pd # data processing, CSV file I/O (e.g. pd.read_csv)\n",
    "\n",
    "# Input data files are available in the read-only \"../input/\" directory\n",
    "# For example, running this (by clicking run or pressing Shift+Enter) will list all files under the input directory\n",
    "\n",
    "import os\n",
    "for dirname, _, filenames in os.walk('/kaggle/input'):\n",
    "    for filename in filenames:\n",
    "        print(os.path.join(dirname, filename))\n",
    "\n",
    "# You can write up to 20GB to the current directory (/kaggle/working/) that gets preserved as output when you create a version using \"Save & Run All\" \n",
    "# You can also write temporary files to /kaggle/temp/, but they won't be saved outside of the current session"
   ]
  },
  {
   "cell_type": "markdown",
   "id": "a497d52c",
   "metadata": {
    "papermill": {
     "duration": 0.006298,
     "end_time": "2023-08-06T02:30:52.191617",
     "exception": false,
     "start_time": "2023-08-06T02:30:52.185319",
     "status": "completed"
    },
    "tags": []
   },
   "source": [
    "# Read Data"
   ]
  },
  {
   "cell_type": "code",
   "execution_count": 2,
   "id": "45cefaeb",
   "metadata": {
    "execution": {
     "iopub.execute_input": "2023-08-06T02:30:52.206897Z",
     "iopub.status.busy": "2023-08-06T02:30:52.206220Z",
     "iopub.status.idle": "2023-08-06T02:30:52.276060Z",
     "shell.execute_reply": "2023-08-06T02:30:52.275358Z"
    },
    "papermill": {
     "duration": 0.081389,
     "end_time": "2023-08-06T02:30:52.279758",
     "exception": false,
     "start_time": "2023-08-06T02:30:52.198369",
     "status": "completed"
    },
    "tags": []
   },
   "outputs": [
    {
     "data": {
      "text/html": [
       "<div>\n",
       "<style scoped>\n",
       "    .dataframe tbody tr th:only-of-type {\n",
       "        vertical-align: middle;\n",
       "    }\n",
       "\n",
       "    .dataframe tbody tr th {\n",
       "        vertical-align: top;\n",
       "    }\n",
       "\n",
       "    .dataframe thead th {\n",
       "        text-align: right;\n",
       "    }\n",
       "</style>\n",
       "<table border=\"1\" class=\"dataframe\">\n",
       "  <thead>\n",
       "    <tr style=\"text-align: right;\">\n",
       "      <th></th>\n",
       "      <th>RowNumber</th>\n",
       "      <th>CustomerId</th>\n",
       "      <th>Surname</th>\n",
       "      <th>CreditScore</th>\n",
       "      <th>Geography</th>\n",
       "      <th>Gender</th>\n",
       "      <th>Age</th>\n",
       "      <th>Tenure</th>\n",
       "      <th>Balance</th>\n",
       "      <th>NumOfProducts</th>\n",
       "      <th>HasCrCard</th>\n",
       "      <th>IsActiveMember</th>\n",
       "      <th>EstimatedSalary</th>\n",
       "      <th>Exited</th>\n",
       "    </tr>\n",
       "  </thead>\n",
       "  <tbody>\n",
       "    <tr>\n",
       "      <th>0</th>\n",
       "      <td>1</td>\n",
       "      <td>15634602</td>\n",
       "      <td>Hargrave</td>\n",
       "      <td>619</td>\n",
       "      <td>France</td>\n",
       "      <td>Female</td>\n",
       "      <td>42</td>\n",
       "      <td>2</td>\n",
       "      <td>0.00</td>\n",
       "      <td>1</td>\n",
       "      <td>1</td>\n",
       "      <td>1</td>\n",
       "      <td>101348.88</td>\n",
       "      <td>1</td>\n",
       "    </tr>\n",
       "    <tr>\n",
       "      <th>1</th>\n",
       "      <td>2</td>\n",
       "      <td>15647311</td>\n",
       "      <td>Hill</td>\n",
       "      <td>608</td>\n",
       "      <td>Spain</td>\n",
       "      <td>Female</td>\n",
       "      <td>41</td>\n",
       "      <td>1</td>\n",
       "      <td>83807.86</td>\n",
       "      <td>1</td>\n",
       "      <td>0</td>\n",
       "      <td>1</td>\n",
       "      <td>112542.58</td>\n",
       "      <td>0</td>\n",
       "    </tr>\n",
       "    <tr>\n",
       "      <th>2</th>\n",
       "      <td>3</td>\n",
       "      <td>15619304</td>\n",
       "      <td>Onio</td>\n",
       "      <td>502</td>\n",
       "      <td>France</td>\n",
       "      <td>Female</td>\n",
       "      <td>42</td>\n",
       "      <td>8</td>\n",
       "      <td>159660.80</td>\n",
       "      <td>3</td>\n",
       "      <td>1</td>\n",
       "      <td>0</td>\n",
       "      <td>113931.57</td>\n",
       "      <td>1</td>\n",
       "    </tr>\n",
       "    <tr>\n",
       "      <th>3</th>\n",
       "      <td>4</td>\n",
       "      <td>15701354</td>\n",
       "      <td>Boni</td>\n",
       "      <td>699</td>\n",
       "      <td>France</td>\n",
       "      <td>Female</td>\n",
       "      <td>39</td>\n",
       "      <td>1</td>\n",
       "      <td>0.00</td>\n",
       "      <td>2</td>\n",
       "      <td>0</td>\n",
       "      <td>0</td>\n",
       "      <td>93826.63</td>\n",
       "      <td>0</td>\n",
       "    </tr>\n",
       "    <tr>\n",
       "      <th>4</th>\n",
       "      <td>5</td>\n",
       "      <td>15737888</td>\n",
       "      <td>Mitchell</td>\n",
       "      <td>850</td>\n",
       "      <td>Spain</td>\n",
       "      <td>Female</td>\n",
       "      <td>43</td>\n",
       "      <td>2</td>\n",
       "      <td>125510.82</td>\n",
       "      <td>1</td>\n",
       "      <td>1</td>\n",
       "      <td>1</td>\n",
       "      <td>79084.10</td>\n",
       "      <td>0</td>\n",
       "    </tr>\n",
       "  </tbody>\n",
       "</table>\n",
       "</div>"
      ],
      "text/plain": [
       "   RowNumber  CustomerId   Surname  CreditScore Geography  Gender  Age  \\\n",
       "0          1    15634602  Hargrave          619    France  Female   42   \n",
       "1          2    15647311      Hill          608     Spain  Female   41   \n",
       "2          3    15619304      Onio          502    France  Female   42   \n",
       "3          4    15701354      Boni          699    France  Female   39   \n",
       "4          5    15737888  Mitchell          850     Spain  Female   43   \n",
       "\n",
       "   Tenure    Balance  NumOfProducts  HasCrCard  IsActiveMember  \\\n",
       "0       2       0.00              1          1               1   \n",
       "1       1   83807.86              1          0               1   \n",
       "2       8  159660.80              3          1               0   \n",
       "3       1       0.00              2          0               0   \n",
       "4       2  125510.82              1          1               1   \n",
       "\n",
       "   EstimatedSalary  Exited  \n",
       "0        101348.88       1  \n",
       "1        112542.58       0  \n",
       "2        113931.57       1  \n",
       "3         93826.63       0  \n",
       "4         79084.10       0  "
      ]
     },
     "execution_count": 2,
     "metadata": {},
     "output_type": "execute_result"
    }
   ],
   "source": [
    "df = pd.read_csv(\"/kaggle/input/credit-card-customer-churn-prediction/Churn_Modelling.csv\")\n",
    "df.head()"
   ]
  },
  {
   "cell_type": "code",
   "execution_count": 3,
   "id": "886ebb5c",
   "metadata": {
    "execution": {
     "iopub.execute_input": "2023-08-06T02:30:52.300203Z",
     "iopub.status.busy": "2023-08-06T02:30:52.299500Z",
     "iopub.status.idle": "2023-08-06T02:30:52.306381Z",
     "shell.execute_reply": "2023-08-06T02:30:52.305658Z"
    },
    "papermill": {
     "duration": 0.020365,
     "end_time": "2023-08-06T02:30:52.309463",
     "exception": false,
     "start_time": "2023-08-06T02:30:52.289098",
     "status": "completed"
    },
    "tags": []
   },
   "outputs": [
    {
     "data": {
      "text/plain": [
       "(10000, 14)"
      ]
     },
     "execution_count": 3,
     "metadata": {},
     "output_type": "execute_result"
    }
   ],
   "source": [
    "df.shape"
   ]
  },
  {
   "cell_type": "code",
   "execution_count": 4,
   "id": "3f9a4f23",
   "metadata": {
    "execution": {
     "iopub.execute_input": "2023-08-06T02:30:52.330546Z",
     "iopub.status.busy": "2023-08-06T02:30:52.329196Z",
     "iopub.status.idle": "2023-08-06T02:30:52.360360Z",
     "shell.execute_reply": "2023-08-06T02:30:52.359469Z"
    },
    "papermill": {
     "duration": 0.042404,
     "end_time": "2023-08-06T02:30:52.362285",
     "exception": false,
     "start_time": "2023-08-06T02:30:52.319881",
     "status": "completed"
    },
    "tags": []
   },
   "outputs": [
    {
     "name": "stdout",
     "output_type": "stream",
     "text": [
      "<class 'pandas.core.frame.DataFrame'>\n",
      "RangeIndex: 10000 entries, 0 to 9999\n",
      "Data columns (total 14 columns):\n",
      " #   Column           Non-Null Count  Dtype  \n",
      "---  ------           --------------  -----  \n",
      " 0   RowNumber        10000 non-null  int64  \n",
      " 1   CustomerId       10000 non-null  int64  \n",
      " 2   Surname          10000 non-null  object \n",
      " 3   CreditScore      10000 non-null  int64  \n",
      " 4   Geography        10000 non-null  object \n",
      " 5   Gender           10000 non-null  object \n",
      " 6   Age              10000 non-null  int64  \n",
      " 7   Tenure           10000 non-null  int64  \n",
      " 8   Balance          10000 non-null  float64\n",
      " 9   NumOfProducts    10000 non-null  int64  \n",
      " 10  HasCrCard        10000 non-null  int64  \n",
      " 11  IsActiveMember   10000 non-null  int64  \n",
      " 12  EstimatedSalary  10000 non-null  float64\n",
      " 13  Exited           10000 non-null  int64  \n",
      "dtypes: float64(2), int64(9), object(3)\n",
      "memory usage: 1.1+ MB\n"
     ]
    }
   ],
   "source": [
    "df.info()"
   ]
  },
  {
   "cell_type": "code",
   "execution_count": 5,
   "id": "8ce4899c",
   "metadata": {
    "execution": {
     "iopub.execute_input": "2023-08-06T02:30:52.378557Z",
     "iopub.status.busy": "2023-08-06T02:30:52.377820Z",
     "iopub.status.idle": "2023-08-06T02:30:52.395074Z",
     "shell.execute_reply": "2023-08-06T02:30:52.394018Z"
    },
    "papermill": {
     "duration": 0.027406,
     "end_time": "2023-08-06T02:30:52.396991",
     "exception": false,
     "start_time": "2023-08-06T02:30:52.369585",
     "status": "completed"
    },
    "tags": []
   },
   "outputs": [
    {
     "data": {
      "text/plain": [
       "0"
      ]
     },
     "execution_count": 5,
     "metadata": {},
     "output_type": "execute_result"
    }
   ],
   "source": [
    "df.duplicated().sum()"
   ]
  },
  {
   "cell_type": "code",
   "execution_count": 6,
   "id": "b44bc8cf",
   "metadata": {
    "execution": {
     "iopub.execute_input": "2023-08-06T02:30:52.412809Z",
     "iopub.status.busy": "2023-08-06T02:30:52.412159Z",
     "iopub.status.idle": "2023-08-06T02:30:52.418909Z",
     "shell.execute_reply": "2023-08-06T02:30:52.418230Z"
    },
    "papermill": {
     "duration": 0.016521,
     "end_time": "2023-08-06T02:30:52.420595",
     "exception": false,
     "start_time": "2023-08-06T02:30:52.404074",
     "status": "completed"
    },
    "tags": []
   },
   "outputs": [
    {
     "data": {
      "text/plain": [
       "0    7963\n",
       "1    2037\n",
       "Name: Exited, dtype: int64"
      ]
     },
     "execution_count": 6,
     "metadata": {},
     "output_type": "execute_result"
    }
   ],
   "source": [
    "df['Exited'].value_counts()"
   ]
  },
  {
   "cell_type": "code",
   "execution_count": 7,
   "id": "90688b06",
   "metadata": {
    "execution": {
     "iopub.execute_input": "2023-08-06T02:30:52.436576Z",
     "iopub.status.busy": "2023-08-06T02:30:52.435970Z",
     "iopub.status.idle": "2023-08-06T02:30:52.443111Z",
     "shell.execute_reply": "2023-08-06T02:30:52.442445Z"
    },
    "papermill": {
     "duration": 0.0171,
     "end_time": "2023-08-06T02:30:52.444806",
     "exception": false,
     "start_time": "2023-08-06T02:30:52.427706",
     "status": "completed"
    },
    "tags": []
   },
   "outputs": [
    {
     "data": {
      "text/plain": [
       "France     5014\n",
       "Germany    2509\n",
       "Spain      2477\n",
       "Name: Geography, dtype: int64"
      ]
     },
     "execution_count": 7,
     "metadata": {},
     "output_type": "execute_result"
    }
   ],
   "source": [
    "df['Geography'].value_counts()"
   ]
  },
  {
   "cell_type": "code",
   "execution_count": 8,
   "id": "cbabb9c4",
   "metadata": {
    "execution": {
     "iopub.execute_input": "2023-08-06T02:30:52.467549Z",
     "iopub.status.busy": "2023-08-06T02:30:52.467137Z",
     "iopub.status.idle": "2023-08-06T02:30:52.478385Z",
     "shell.execute_reply": "2023-08-06T02:30:52.476591Z"
    },
    "papermill": {
     "duration": 0.025867,
     "end_time": "2023-08-06T02:30:52.480970",
     "exception": false,
     "start_time": "2023-08-06T02:30:52.455103",
     "status": "completed"
    },
    "tags": []
   },
   "outputs": [
    {
     "data": {
      "text/plain": [
       "Male      5457\n",
       "Female    4543\n",
       "Name: Gender, dtype: int64"
      ]
     },
     "execution_count": 8,
     "metadata": {},
     "output_type": "execute_result"
    }
   ],
   "source": [
    "df['Gender'].value_counts()"
   ]
  },
  {
   "cell_type": "code",
   "execution_count": 9,
   "id": "78de233a",
   "metadata": {
    "execution": {
     "iopub.execute_input": "2023-08-06T02:30:52.506276Z",
     "iopub.status.busy": "2023-08-06T02:30:52.505676Z",
     "iopub.status.idle": "2023-08-06T02:30:52.527550Z",
     "shell.execute_reply": "2023-08-06T02:30:52.525240Z"
    },
    "papermill": {
     "duration": 0.03553,
     "end_time": "2023-08-06T02:30:52.530531",
     "exception": false,
     "start_time": "2023-08-06T02:30:52.495001",
     "status": "completed"
    },
    "tags": []
   },
   "outputs": [
    {
     "data": {
      "text/html": [
       "<div>\n",
       "<style scoped>\n",
       "    .dataframe tbody tr th:only-of-type {\n",
       "        vertical-align: middle;\n",
       "    }\n",
       "\n",
       "    .dataframe tbody tr th {\n",
       "        vertical-align: top;\n",
       "    }\n",
       "\n",
       "    .dataframe thead th {\n",
       "        text-align: right;\n",
       "    }\n",
       "</style>\n",
       "<table border=\"1\" class=\"dataframe\">\n",
       "  <thead>\n",
       "    <tr style=\"text-align: right;\">\n",
       "      <th></th>\n",
       "      <th>CreditScore</th>\n",
       "      <th>Geography</th>\n",
       "      <th>Gender</th>\n",
       "      <th>Age</th>\n",
       "      <th>Tenure</th>\n",
       "      <th>Balance</th>\n",
       "      <th>NumOfProducts</th>\n",
       "      <th>HasCrCard</th>\n",
       "      <th>IsActiveMember</th>\n",
       "      <th>EstimatedSalary</th>\n",
       "      <th>Exited</th>\n",
       "    </tr>\n",
       "  </thead>\n",
       "  <tbody>\n",
       "    <tr>\n",
       "      <th>0</th>\n",
       "      <td>619</td>\n",
       "      <td>France</td>\n",
       "      <td>Female</td>\n",
       "      <td>42</td>\n",
       "      <td>2</td>\n",
       "      <td>0.00</td>\n",
       "      <td>1</td>\n",
       "      <td>1</td>\n",
       "      <td>1</td>\n",
       "      <td>101348.88</td>\n",
       "      <td>1</td>\n",
       "    </tr>\n",
       "    <tr>\n",
       "      <th>1</th>\n",
       "      <td>608</td>\n",
       "      <td>Spain</td>\n",
       "      <td>Female</td>\n",
       "      <td>41</td>\n",
       "      <td>1</td>\n",
       "      <td>83807.86</td>\n",
       "      <td>1</td>\n",
       "      <td>0</td>\n",
       "      <td>1</td>\n",
       "      <td>112542.58</td>\n",
       "      <td>0</td>\n",
       "    </tr>\n",
       "    <tr>\n",
       "      <th>2</th>\n",
       "      <td>502</td>\n",
       "      <td>France</td>\n",
       "      <td>Female</td>\n",
       "      <td>42</td>\n",
       "      <td>8</td>\n",
       "      <td>159660.80</td>\n",
       "      <td>3</td>\n",
       "      <td>1</td>\n",
       "      <td>0</td>\n",
       "      <td>113931.57</td>\n",
       "      <td>1</td>\n",
       "    </tr>\n",
       "    <tr>\n",
       "      <th>3</th>\n",
       "      <td>699</td>\n",
       "      <td>France</td>\n",
       "      <td>Female</td>\n",
       "      <td>39</td>\n",
       "      <td>1</td>\n",
       "      <td>0.00</td>\n",
       "      <td>2</td>\n",
       "      <td>0</td>\n",
       "      <td>0</td>\n",
       "      <td>93826.63</td>\n",
       "      <td>0</td>\n",
       "    </tr>\n",
       "    <tr>\n",
       "      <th>4</th>\n",
       "      <td>850</td>\n",
       "      <td>Spain</td>\n",
       "      <td>Female</td>\n",
       "      <td>43</td>\n",
       "      <td>2</td>\n",
       "      <td>125510.82</td>\n",
       "      <td>1</td>\n",
       "      <td>1</td>\n",
       "      <td>1</td>\n",
       "      <td>79084.10</td>\n",
       "      <td>0</td>\n",
       "    </tr>\n",
       "  </tbody>\n",
       "</table>\n",
       "</div>"
      ],
      "text/plain": [
       "   CreditScore Geography  Gender  Age  Tenure    Balance  NumOfProducts  \\\n",
       "0          619    France  Female   42       2       0.00              1   \n",
       "1          608     Spain  Female   41       1   83807.86              1   \n",
       "2          502    France  Female   42       8  159660.80              3   \n",
       "3          699    France  Female   39       1       0.00              2   \n",
       "4          850     Spain  Female   43       2  125510.82              1   \n",
       "\n",
       "   HasCrCard  IsActiveMember  EstimatedSalary  Exited  \n",
       "0          1               1        101348.88       1  \n",
       "1          0               1        112542.58       0  \n",
       "2          1               0        113931.57       1  \n",
       "3          0               0         93826.63       0  \n",
       "4          1               1         79084.10       0  "
      ]
     },
     "execution_count": 9,
     "metadata": {},
     "output_type": "execute_result"
    }
   ],
   "source": [
    "# drop unecessary columns\n",
    "df.drop(columns=[\"CustomerId\",\"Surname\",\"RowNumber\"], inplace=True)\n",
    "df.head()"
   ]
  },
  {
   "cell_type": "code",
   "execution_count": 10,
   "id": "4161bef3",
   "metadata": {
    "execution": {
     "iopub.execute_input": "2023-08-06T02:30:52.553065Z",
     "iopub.status.busy": "2023-08-06T02:30:52.551486Z",
     "iopub.status.idle": "2023-08-06T02:30:52.576515Z",
     "shell.execute_reply": "2023-08-06T02:30:52.575720Z"
    },
    "papermill": {
     "duration": 0.038549,
     "end_time": "2023-08-06T02:30:52.578497",
     "exception": false,
     "start_time": "2023-08-06T02:30:52.539948",
     "status": "completed"
    },
    "tags": []
   },
   "outputs": [
    {
     "data": {
      "text/html": [
       "<div>\n",
       "<style scoped>\n",
       "    .dataframe tbody tr th:only-of-type {\n",
       "        vertical-align: middle;\n",
       "    }\n",
       "\n",
       "    .dataframe tbody tr th {\n",
       "        vertical-align: top;\n",
       "    }\n",
       "\n",
       "    .dataframe thead th {\n",
       "        text-align: right;\n",
       "    }\n",
       "</style>\n",
       "<table border=\"1\" class=\"dataframe\">\n",
       "  <thead>\n",
       "    <tr style=\"text-align: right;\">\n",
       "      <th></th>\n",
       "      <th>CreditScore</th>\n",
       "      <th>Age</th>\n",
       "      <th>Tenure</th>\n",
       "      <th>Balance</th>\n",
       "      <th>NumOfProducts</th>\n",
       "      <th>HasCrCard</th>\n",
       "      <th>IsActiveMember</th>\n",
       "      <th>EstimatedSalary</th>\n",
       "      <th>Exited</th>\n",
       "      <th>Geography_Germany</th>\n",
       "      <th>Geography_Spain</th>\n",
       "      <th>Gender_Male</th>\n",
       "    </tr>\n",
       "  </thead>\n",
       "  <tbody>\n",
       "    <tr>\n",
       "      <th>0</th>\n",
       "      <td>619</td>\n",
       "      <td>42</td>\n",
       "      <td>2</td>\n",
       "      <td>0.00</td>\n",
       "      <td>1</td>\n",
       "      <td>1</td>\n",
       "      <td>1</td>\n",
       "      <td>101348.88</td>\n",
       "      <td>1</td>\n",
       "      <td>0</td>\n",
       "      <td>0</td>\n",
       "      <td>0</td>\n",
       "    </tr>\n",
       "    <tr>\n",
       "      <th>1</th>\n",
       "      <td>608</td>\n",
       "      <td>41</td>\n",
       "      <td>1</td>\n",
       "      <td>83807.86</td>\n",
       "      <td>1</td>\n",
       "      <td>0</td>\n",
       "      <td>1</td>\n",
       "      <td>112542.58</td>\n",
       "      <td>0</td>\n",
       "      <td>0</td>\n",
       "      <td>1</td>\n",
       "      <td>0</td>\n",
       "    </tr>\n",
       "    <tr>\n",
       "      <th>2</th>\n",
       "      <td>502</td>\n",
       "      <td>42</td>\n",
       "      <td>8</td>\n",
       "      <td>159660.80</td>\n",
       "      <td>3</td>\n",
       "      <td>1</td>\n",
       "      <td>0</td>\n",
       "      <td>113931.57</td>\n",
       "      <td>1</td>\n",
       "      <td>0</td>\n",
       "      <td>0</td>\n",
       "      <td>0</td>\n",
       "    </tr>\n",
       "    <tr>\n",
       "      <th>3</th>\n",
       "      <td>699</td>\n",
       "      <td>39</td>\n",
       "      <td>1</td>\n",
       "      <td>0.00</td>\n",
       "      <td>2</td>\n",
       "      <td>0</td>\n",
       "      <td>0</td>\n",
       "      <td>93826.63</td>\n",
       "      <td>0</td>\n",
       "      <td>0</td>\n",
       "      <td>0</td>\n",
       "      <td>0</td>\n",
       "    </tr>\n",
       "    <tr>\n",
       "      <th>4</th>\n",
       "      <td>850</td>\n",
       "      <td>43</td>\n",
       "      <td>2</td>\n",
       "      <td>125510.82</td>\n",
       "      <td>1</td>\n",
       "      <td>1</td>\n",
       "      <td>1</td>\n",
       "      <td>79084.10</td>\n",
       "      <td>0</td>\n",
       "      <td>0</td>\n",
       "      <td>1</td>\n",
       "      <td>0</td>\n",
       "    </tr>\n",
       "  </tbody>\n",
       "</table>\n",
       "</div>"
      ],
      "text/plain": [
       "   CreditScore  Age  Tenure    Balance  NumOfProducts  HasCrCard  \\\n",
       "0          619   42       2       0.00              1          1   \n",
       "1          608   41       1   83807.86              1          0   \n",
       "2          502   42       8  159660.80              3          1   \n",
       "3          699   39       1       0.00              2          0   \n",
       "4          850   43       2  125510.82              1          1   \n",
       "\n",
       "   IsActiveMember  EstimatedSalary  Exited  Geography_Germany  \\\n",
       "0               1        101348.88       1                  0   \n",
       "1               1        112542.58       0                  0   \n",
       "2               0        113931.57       1                  0   \n",
       "3               0         93826.63       0                  0   \n",
       "4               1         79084.10       0                  0   \n",
       "\n",
       "   Geography_Spain  Gender_Male  \n",
       "0                0            0  \n",
       "1                1            0  \n",
       "2                0            0  \n",
       "3                0            0  \n",
       "4                1            0  "
      ]
     },
     "execution_count": 10,
     "metadata": {},
     "output_type": "execute_result"
    }
   ],
   "source": [
    "# feature extraction\n",
    "df = pd.get_dummies(df,columns=[\"Geography\", \"Gender\"], drop_first=True)\n",
    "df.head()"
   ]
  },
  {
   "cell_type": "code",
   "execution_count": 11,
   "id": "78b40c15",
   "metadata": {
    "execution": {
     "iopub.execute_input": "2023-08-06T02:30:52.599850Z",
     "iopub.status.busy": "2023-08-06T02:30:52.599200Z",
     "iopub.status.idle": "2023-08-06T02:30:52.604485Z",
     "shell.execute_reply": "2023-08-06T02:30:52.603801Z"
    },
    "papermill": {
     "duration": 0.017725,
     "end_time": "2023-08-06T02:30:52.606654",
     "exception": false,
     "start_time": "2023-08-06T02:30:52.588929",
     "status": "completed"
    },
    "tags": []
   },
   "outputs": [],
   "source": [
    "# target and features\n",
    "X = df.drop(columns=['Exited'])\n",
    "y = df[\"Exited\"]"
   ]
  },
  {
   "cell_type": "markdown",
   "id": "2d78f0d9",
   "metadata": {
    "papermill": {
     "duration": 0.008767,
     "end_time": "2023-08-06T02:30:52.624174",
     "exception": false,
     "start_time": "2023-08-06T02:30:52.615407",
     "status": "completed"
    },
    "tags": []
   },
   "source": [
    "# Split Dataset"
   ]
  },
  {
   "cell_type": "code",
   "execution_count": 12,
   "id": "2239c111",
   "metadata": {
    "execution": {
     "iopub.execute_input": "2023-08-06T02:30:52.644569Z",
     "iopub.status.busy": "2023-08-06T02:30:52.643646Z",
     "iopub.status.idle": "2023-08-06T02:30:53.966702Z",
     "shell.execute_reply": "2023-08-06T02:30:53.965251Z"
    },
    "papermill": {
     "duration": 1.336148,
     "end_time": "2023-08-06T02:30:53.969431",
     "exception": false,
     "start_time": "2023-08-06T02:30:52.633283",
     "status": "completed"
    },
    "tags": []
   },
   "outputs": [
    {
     "name": "stderr",
     "output_type": "stream",
     "text": [
      "/opt/conda/lib/python3.10/site-packages/scipy/__init__.py:146: UserWarning: A NumPy version >=1.16.5 and <1.23.0 is required for this version of SciPy (detected version 1.23.5\n",
      "  warnings.warn(f\"A NumPy version >={np_minversion} and <{np_maxversion}\"\n"
     ]
    }
   ],
   "source": [
    "# split dataset\n",
    "from sklearn.model_selection import train_test_split\n",
    "\n",
    "X_train, X_test, y_train, y_test = train_test_split(X, y, test_size=0.2, random_state=42)"
   ]
  },
  {
   "cell_type": "code",
   "execution_count": 13,
   "id": "fba10a6e",
   "metadata": {
    "execution": {
     "iopub.execute_input": "2023-08-06T02:30:53.988580Z",
     "iopub.status.busy": "2023-08-06T02:30:53.988179Z",
     "iopub.status.idle": "2023-08-06T02:30:53.996053Z",
     "shell.execute_reply": "2023-08-06T02:30:53.994527Z"
    },
    "papermill": {
     "duration": 0.020602,
     "end_time": "2023-08-06T02:30:53.998743",
     "exception": false,
     "start_time": "2023-08-06T02:30:53.978141",
     "status": "completed"
    },
    "tags": []
   },
   "outputs": [
    {
     "data": {
      "text/plain": [
       "(8000, 11)"
      ]
     },
     "execution_count": 13,
     "metadata": {},
     "output_type": "execute_result"
    }
   ],
   "source": [
    "X_train.shape"
   ]
  },
  {
   "cell_type": "markdown",
   "id": "e13a10a7",
   "metadata": {
    "papermill": {
     "duration": 0.007643,
     "end_time": "2023-08-06T02:30:54.014878",
     "exception": false,
     "start_time": "2023-08-06T02:30:54.007235",
     "status": "completed"
    },
    "tags": []
   },
   "source": [
    "# Preprocessing"
   ]
  },
  {
   "cell_type": "code",
   "execution_count": 14,
   "id": "0fea2a06",
   "metadata": {
    "execution": {
     "iopub.execute_input": "2023-08-06T02:30:54.032899Z",
     "iopub.status.busy": "2023-08-06T02:30:54.031646Z",
     "iopub.status.idle": "2023-08-06T02:30:54.036873Z",
     "shell.execute_reply": "2023-08-06T02:30:54.035584Z"
    },
    "papermill": {
     "duration": 0.016643,
     "end_time": "2023-08-06T02:30:54.039331",
     "exception": false,
     "start_time": "2023-08-06T02:30:54.022688",
     "status": "completed"
    },
    "tags": []
   },
   "outputs": [],
   "source": [
    "from sklearn.preprocessing import StandardScaler\n",
    "scaler = StandardScaler()"
   ]
  },
  {
   "cell_type": "code",
   "execution_count": 15,
   "id": "2b91e858",
   "metadata": {
    "execution": {
     "iopub.execute_input": "2023-08-06T02:30:54.057682Z",
     "iopub.status.busy": "2023-08-06T02:30:54.057233Z",
     "iopub.status.idle": "2023-08-06T02:30:54.070836Z",
     "shell.execute_reply": "2023-08-06T02:30:54.069192Z"
    },
    "papermill": {
     "duration": 0.025508,
     "end_time": "2023-08-06T02:30:54.073236",
     "exception": false,
     "start_time": "2023-08-06T02:30:54.047728",
     "status": "completed"
    },
    "tags": []
   },
   "outputs": [],
   "source": [
    "X_train_scaled = scaler.fit_transform(X_train)\n",
    "X_test_scaled = scaler.transform(X_test)"
   ]
  },
  {
   "cell_type": "code",
   "execution_count": 16,
   "id": "4cc6222a",
   "metadata": {
    "execution": {
     "iopub.execute_input": "2023-08-06T02:30:54.091248Z",
     "iopub.status.busy": "2023-08-06T02:30:54.090863Z",
     "iopub.status.idle": "2023-08-06T02:30:54.098968Z",
     "shell.execute_reply": "2023-08-06T02:30:54.097606Z"
    },
    "papermill": {
     "duration": 0.020253,
     "end_time": "2023-08-06T02:30:54.101681",
     "exception": false,
     "start_time": "2023-08-06T02:30:54.081428",
     "status": "completed"
    },
    "tags": []
   },
   "outputs": [
    {
     "data": {
      "text/plain": [
       "array([[ 0.35649971, -0.6557859 ,  0.34567966, ..., -0.57946723,\n",
       "        -0.57638802,  0.91324755],\n",
       "       [-0.20389777,  0.29493847, -0.3483691 , ...,  1.72572313,\n",
       "        -0.57638802,  0.91324755],\n",
       "       [-0.96147213, -1.41636539, -0.69539349, ..., -0.57946723,\n",
       "         1.73494238,  0.91324755],\n",
       "       ...,\n",
       "       [ 0.86500853, -0.08535128, -1.38944225, ..., -0.57946723,\n",
       "        -0.57638802, -1.09499335],\n",
       "       [ 0.15932282,  0.3900109 ,  1.03972843, ..., -0.57946723,\n",
       "        -0.57638802,  0.91324755],\n",
       "       [ 0.47065475,  1.15059039, -1.38944225, ...,  1.72572313,\n",
       "        -0.57638802,  0.91324755]])"
      ]
     },
     "execution_count": 16,
     "metadata": {},
     "output_type": "execute_result"
    }
   ],
   "source": [
    "X_train_scaled"
   ]
  },
  {
   "cell_type": "markdown",
   "id": "fa272efe",
   "metadata": {
    "papermill": {
     "duration": 0.007917,
     "end_time": "2023-08-06T02:30:54.118161",
     "exception": false,
     "start_time": "2023-08-06T02:30:54.110244",
     "status": "completed"
    },
    "tags": []
   },
   "source": [
    "# Model building"
   ]
  },
  {
   "cell_type": "code",
   "execution_count": 17,
   "id": "c651f9d5",
   "metadata": {
    "execution": {
     "iopub.execute_input": "2023-08-06T02:30:54.136107Z",
     "iopub.status.busy": "2023-08-06T02:30:54.135703Z",
     "iopub.status.idle": "2023-08-06T02:31:03.469169Z",
     "shell.execute_reply": "2023-08-06T02:31:03.467318Z"
    },
    "papermill": {
     "duration": 9.345213,
     "end_time": "2023-08-06T02:31:03.471581",
     "exception": false,
     "start_time": "2023-08-06T02:30:54.126368",
     "status": "completed"
    },
    "tags": []
   },
   "outputs": [
    {
     "name": "stderr",
     "output_type": "stream",
     "text": [
      "/opt/conda/lib/python3.10/site-packages/tensorflow_io/python/ops/__init__.py:98: UserWarning: unable to load libtensorflow_io_plugins.so: unable to open file: libtensorflow_io_plugins.so, from paths: ['/opt/conda/lib/python3.10/site-packages/tensorflow_io/python/ops/libtensorflow_io_plugins.so']\n",
      "caused by: ['/opt/conda/lib/python3.10/site-packages/tensorflow_io/python/ops/libtensorflow_io_plugins.so: undefined symbol: _ZN3tsl6StatusC1EN10tensorflow5error4CodeESt17basic_string_viewIcSt11char_traitsIcEENS_14SourceLocationE']\n",
      "  warnings.warn(f\"unable to load libtensorflow_io_plugins.so: {e}\")\n",
      "/opt/conda/lib/python3.10/site-packages/tensorflow_io/python/ops/__init__.py:104: UserWarning: file system plugins are not loaded: unable to open file: libtensorflow_io.so, from paths: ['/opt/conda/lib/python3.10/site-packages/tensorflow_io/python/ops/libtensorflow_io.so']\n",
      "caused by: ['/opt/conda/lib/python3.10/site-packages/tensorflow_io/python/ops/libtensorflow_io.so: undefined symbol: _ZTVN10tensorflow13GcsFileSystemE']\n",
      "  warnings.warn(f\"file system plugins are not loaded: {e}\")\n"
     ]
    }
   ],
   "source": [
    "import tensorflow\n",
    "from tensorflow import keras\n",
    "from tensorflow.keras import Sequential\n",
    "from tensorflow.keras.layers import Dense"
   ]
  },
  {
   "cell_type": "code",
   "execution_count": 18,
   "id": "0da87919",
   "metadata": {
    "execution": {
     "iopub.execute_input": "2023-08-06T02:31:03.489954Z",
     "iopub.status.busy": "2023-08-06T02:31:03.489199Z",
     "iopub.status.idle": "2023-08-06T02:31:03.679258Z",
     "shell.execute_reply": "2023-08-06T02:31:03.677571Z"
    },
    "papermill": {
     "duration": 0.201642,
     "end_time": "2023-08-06T02:31:03.681681",
     "exception": false,
     "start_time": "2023-08-06T02:31:03.480039",
     "status": "completed"
    },
    "tags": []
   },
   "outputs": [],
   "source": [
    "model = Sequential()\n",
    "\n",
    "model.add(Dense(11, activation='relu', input_dim=11))\n",
    "model.add(Dense(11, activation='relu'))\n",
    "model.add(Dense(1, activation='sigmoid'))"
   ]
  },
  {
   "cell_type": "code",
   "execution_count": 19,
   "id": "d961e39a",
   "metadata": {
    "execution": {
     "iopub.execute_input": "2023-08-06T02:31:03.700759Z",
     "iopub.status.busy": "2023-08-06T02:31:03.700335Z",
     "iopub.status.idle": "2023-08-06T02:31:03.724462Z",
     "shell.execute_reply": "2023-08-06T02:31:03.723345Z"
    },
    "papermill": {
     "duration": 0.036004,
     "end_time": "2023-08-06T02:31:03.726355",
     "exception": false,
     "start_time": "2023-08-06T02:31:03.690351",
     "status": "completed"
    },
    "tags": []
   },
   "outputs": [
    {
     "name": "stdout",
     "output_type": "stream",
     "text": [
      "Model: \"sequential\"\n",
      "_________________________________________________________________\n",
      " Layer (type)                Output Shape              Param #   \n",
      "=================================================================\n",
      " dense (Dense)               (None, 11)                132       \n",
      "                                                                 \n",
      " dense_1 (Dense)             (None, 11)                132       \n",
      "                                                                 \n",
      " dense_2 (Dense)             (None, 1)                 12        \n",
      "                                                                 \n",
      "=================================================================\n",
      "Total params: 276\n",
      "Trainable params: 276\n",
      "Non-trainable params: 0\n",
      "_________________________________________________________________\n"
     ]
    }
   ],
   "source": [
    "model.summary()"
   ]
  },
  {
   "cell_type": "code",
   "execution_count": 20,
   "id": "8d4e673e",
   "metadata": {
    "execution": {
     "iopub.execute_input": "2023-08-06T02:31:03.747661Z",
     "iopub.status.busy": "2023-08-06T02:31:03.747179Z",
     "iopub.status.idle": "2023-08-06T02:31:03.767181Z",
     "shell.execute_reply": "2023-08-06T02:31:03.765934Z"
    },
    "papermill": {
     "duration": 0.033907,
     "end_time": "2023-08-06T02:31:03.769815",
     "exception": false,
     "start_time": "2023-08-06T02:31:03.735908",
     "status": "completed"
    },
    "tags": []
   },
   "outputs": [],
   "source": [
    "model.compile(loss=\"binary_crossentropy\", optimizer='Adam',metrics=['accuracy'])"
   ]
  },
  {
   "cell_type": "code",
   "execution_count": 21,
   "id": "f133fb7f",
   "metadata": {
    "execution": {
     "iopub.execute_input": "2023-08-06T02:31:03.790618Z",
     "iopub.status.busy": "2023-08-06T02:31:03.790132Z",
     "iopub.status.idle": "2023-08-06T02:32:26.544868Z",
     "shell.execute_reply": "2023-08-06T02:32:26.543742Z"
    },
    "papermill": {
     "duration": 82.768026,
     "end_time": "2023-08-06T02:32:26.547462",
     "exception": false,
     "start_time": "2023-08-06T02:31:03.779436",
     "status": "completed"
    },
    "tags": []
   },
   "outputs": [
    {
     "name": "stdout",
     "output_type": "stream",
     "text": [
      "Epoch 1/100\n",
      "200/200 [==============================] - 1s 3ms/step - loss: 0.5214 - accuracy: 0.7720 - val_loss: 0.4561 - val_accuracy: 0.8006\n",
      "Epoch 2/100\n",
      "200/200 [==============================] - 0s 2ms/step - loss: 0.4564 - accuracy: 0.7961 - val_loss: 0.4332 - val_accuracy: 0.8106\n",
      "Epoch 3/100\n",
      "200/200 [==============================] - 0s 2ms/step - loss: 0.4347 - accuracy: 0.8092 - val_loss: 0.4185 - val_accuracy: 0.8219\n",
      "Epoch 4/100\n",
      "200/200 [==============================] - 0s 2ms/step - loss: 0.4186 - accuracy: 0.8164 - val_loss: 0.4070 - val_accuracy: 0.8319\n",
      "Epoch 5/100\n",
      "200/200 [==============================] - 0s 2ms/step - loss: 0.4044 - accuracy: 0.8295 - val_loss: 0.3954 - val_accuracy: 0.8425\n",
      "Epoch 6/100\n",
      "200/200 [==============================] - 0s 2ms/step - loss: 0.3912 - accuracy: 0.8391 - val_loss: 0.3861 - val_accuracy: 0.8363\n",
      "Epoch 7/100\n",
      "200/200 [==============================] - 1s 3ms/step - loss: 0.3798 - accuracy: 0.8459 - val_loss: 0.3768 - val_accuracy: 0.8456\n",
      "Epoch 8/100\n",
      "200/200 [==============================] - 0s 2ms/step - loss: 0.3705 - accuracy: 0.8487 - val_loss: 0.3682 - val_accuracy: 0.8481\n",
      "Epoch 9/100\n",
      "200/200 [==============================] - 0s 2ms/step - loss: 0.3637 - accuracy: 0.8511 - val_loss: 0.3611 - val_accuracy: 0.8487\n",
      "Epoch 10/100\n",
      "200/200 [==============================] - 0s 2ms/step - loss: 0.3584 - accuracy: 0.8536 - val_loss: 0.3574 - val_accuracy: 0.8500\n",
      "Epoch 11/100\n",
      "200/200 [==============================] - 0s 2ms/step - loss: 0.3545 - accuracy: 0.8544 - val_loss: 0.3546 - val_accuracy: 0.8544\n",
      "Epoch 12/100\n",
      "200/200 [==============================] - 0s 2ms/step - loss: 0.3503 - accuracy: 0.8544 - val_loss: 0.3518 - val_accuracy: 0.8531\n",
      "Epoch 13/100\n",
      "200/200 [==============================] - 0s 2ms/step - loss: 0.3486 - accuracy: 0.8580 - val_loss: 0.3509 - val_accuracy: 0.8537\n",
      "Epoch 14/100\n",
      "200/200 [==============================] - 0s 2ms/step - loss: 0.3467 - accuracy: 0.8573 - val_loss: 0.3501 - val_accuracy: 0.8537\n",
      "Epoch 15/100\n",
      "200/200 [==============================] - 0s 2ms/step - loss: 0.3445 - accuracy: 0.8611 - val_loss: 0.3490 - val_accuracy: 0.8531\n",
      "Epoch 16/100\n",
      "200/200 [==============================] - 0s 2ms/step - loss: 0.3437 - accuracy: 0.8577 - val_loss: 0.3492 - val_accuracy: 0.8544\n",
      "Epoch 17/100\n",
      "200/200 [==============================] - 0s 2ms/step - loss: 0.3426 - accuracy: 0.8616 - val_loss: 0.3483 - val_accuracy: 0.8500\n",
      "Epoch 18/100\n",
      "200/200 [==============================] - 0s 2ms/step - loss: 0.3426 - accuracy: 0.8584 - val_loss: 0.3468 - val_accuracy: 0.8544\n",
      "Epoch 19/100\n",
      "200/200 [==============================] - 0s 2ms/step - loss: 0.3413 - accuracy: 0.8606 - val_loss: 0.3481 - val_accuracy: 0.8544\n",
      "Epoch 20/100\n",
      "200/200 [==============================] - 0s 2ms/step - loss: 0.3400 - accuracy: 0.8617 - val_loss: 0.3465 - val_accuracy: 0.8550\n",
      "Epoch 21/100\n",
      "200/200 [==============================] - 0s 2ms/step - loss: 0.3398 - accuracy: 0.8614 - val_loss: 0.3454 - val_accuracy: 0.8550\n",
      "Epoch 22/100\n",
      "200/200 [==============================] - 0s 2ms/step - loss: 0.3388 - accuracy: 0.8631 - val_loss: 0.3468 - val_accuracy: 0.8544\n",
      "Epoch 23/100\n",
      "200/200 [==============================] - 0s 2ms/step - loss: 0.3390 - accuracy: 0.8641 - val_loss: 0.3452 - val_accuracy: 0.8537\n",
      "Epoch 24/100\n",
      "200/200 [==============================] - 0s 2ms/step - loss: 0.3384 - accuracy: 0.8617 - val_loss: 0.3441 - val_accuracy: 0.8575\n",
      "Epoch 25/100\n",
      "200/200 [==============================] - 0s 2ms/step - loss: 0.3377 - accuracy: 0.8616 - val_loss: 0.3444 - val_accuracy: 0.8556\n",
      "Epoch 26/100\n",
      "200/200 [==============================] - 0s 2ms/step - loss: 0.3371 - accuracy: 0.8639 - val_loss: 0.3445 - val_accuracy: 0.8550\n",
      "Epoch 27/100\n",
      "200/200 [==============================] - 0s 2ms/step - loss: 0.3360 - accuracy: 0.8633 - val_loss: 0.3449 - val_accuracy: 0.8494\n",
      "Epoch 28/100\n",
      "200/200 [==============================] - 0s 2ms/step - loss: 0.3358 - accuracy: 0.8650 - val_loss: 0.3450 - val_accuracy: 0.8494\n",
      "Epoch 29/100\n",
      "200/200 [==============================] - 0s 2ms/step - loss: 0.3360 - accuracy: 0.8645 - val_loss: 0.3437 - val_accuracy: 0.8525\n",
      "Epoch 30/100\n",
      "200/200 [==============================] - 0s 2ms/step - loss: 0.3352 - accuracy: 0.8642 - val_loss: 0.3436 - val_accuracy: 0.8556\n",
      "Epoch 31/100\n",
      "200/200 [==============================] - 0s 2ms/step - loss: 0.3346 - accuracy: 0.8653 - val_loss: 0.3450 - val_accuracy: 0.8531\n",
      "Epoch 32/100\n",
      "200/200 [==============================] - 0s 2ms/step - loss: 0.3350 - accuracy: 0.8639 - val_loss: 0.3430 - val_accuracy: 0.8519\n",
      "Epoch 33/100\n",
      "200/200 [==============================] - 0s 2ms/step - loss: 0.3346 - accuracy: 0.8637 - val_loss: 0.3436 - val_accuracy: 0.8525\n",
      "Epoch 34/100\n",
      "200/200 [==============================] - 0s 2ms/step - loss: 0.3338 - accuracy: 0.8639 - val_loss: 0.3429 - val_accuracy: 0.8525\n",
      "Epoch 35/100\n",
      "200/200 [==============================] - 0s 2ms/step - loss: 0.3337 - accuracy: 0.8630 - val_loss: 0.3435 - val_accuracy: 0.8537\n",
      "Epoch 36/100\n",
      "200/200 [==============================] - 0s 2ms/step - loss: 0.3338 - accuracy: 0.8647 - val_loss: 0.3429 - val_accuracy: 0.8562\n",
      "Epoch 37/100\n",
      "200/200 [==============================] - 0s 2ms/step - loss: 0.3332 - accuracy: 0.8630 - val_loss: 0.3422 - val_accuracy: 0.8494\n",
      "Epoch 38/100\n",
      "200/200 [==============================] - 0s 2ms/step - loss: 0.3331 - accuracy: 0.8658 - val_loss: 0.3414 - val_accuracy: 0.8519\n",
      "Epoch 39/100\n",
      "200/200 [==============================] - 0s 2ms/step - loss: 0.3327 - accuracy: 0.8652 - val_loss: 0.3423 - val_accuracy: 0.8556\n",
      "Epoch 40/100\n",
      "200/200 [==============================] - 0s 2ms/step - loss: 0.3326 - accuracy: 0.8637 - val_loss: 0.3415 - val_accuracy: 0.8525\n",
      "Epoch 41/100\n",
      "200/200 [==============================] - 0s 2ms/step - loss: 0.3327 - accuracy: 0.8662 - val_loss: 0.3442 - val_accuracy: 0.8544\n",
      "Epoch 42/100\n",
      "200/200 [==============================] - 0s 2ms/step - loss: 0.3322 - accuracy: 0.8631 - val_loss: 0.3454 - val_accuracy: 0.8556\n",
      "Epoch 43/100\n",
      "200/200 [==============================] - 0s 2ms/step - loss: 0.3315 - accuracy: 0.8664 - val_loss: 0.3424 - val_accuracy: 0.8512\n",
      "Epoch 44/100\n",
      "200/200 [==============================] - 0s 2ms/step - loss: 0.3315 - accuracy: 0.8680 - val_loss: 0.3425 - val_accuracy: 0.8487\n",
      "Epoch 45/100\n",
      "200/200 [==============================] - 0s 2ms/step - loss: 0.3315 - accuracy: 0.8659 - val_loss: 0.3421 - val_accuracy: 0.8506\n",
      "Epoch 46/100\n",
      "200/200 [==============================] - 0s 2ms/step - loss: 0.3311 - accuracy: 0.8669 - val_loss: 0.3423 - val_accuracy: 0.8544\n",
      "Epoch 47/100\n",
      "200/200 [==============================] - 0s 2ms/step - loss: 0.3310 - accuracy: 0.8673 - val_loss: 0.3415 - val_accuracy: 0.8506\n",
      "Epoch 48/100\n",
      "200/200 [==============================] - 0s 2ms/step - loss: 0.3306 - accuracy: 0.8666 - val_loss: 0.3401 - val_accuracy: 0.8506\n",
      "Epoch 49/100\n",
      "200/200 [==============================] - 0s 2ms/step - loss: 0.3303 - accuracy: 0.8650 - val_loss: 0.3416 - val_accuracy: 0.8525\n",
      "Epoch 50/100\n",
      "200/200 [==============================] - 0s 2ms/step - loss: 0.3301 - accuracy: 0.8664 - val_loss: 0.3416 - val_accuracy: 0.8556\n",
      "Epoch 51/100\n",
      "200/200 [==============================] - 0s 2ms/step - loss: 0.3303 - accuracy: 0.8658 - val_loss: 0.3414 - val_accuracy: 0.8500\n",
      "Epoch 52/100\n",
      "200/200 [==============================] - 0s 2ms/step - loss: 0.3299 - accuracy: 0.8673 - val_loss: 0.3427 - val_accuracy: 0.8506\n",
      "Epoch 53/100\n",
      "200/200 [==============================] - 0s 2ms/step - loss: 0.3299 - accuracy: 0.8669 - val_loss: 0.3416 - val_accuracy: 0.8519\n",
      "Epoch 54/100\n",
      "200/200 [==============================] - 0s 2ms/step - loss: 0.3299 - accuracy: 0.8684 - val_loss: 0.3400 - val_accuracy: 0.8519\n",
      "Epoch 55/100\n",
      "200/200 [==============================] - 0s 2ms/step - loss: 0.3296 - accuracy: 0.8658 - val_loss: 0.3418 - val_accuracy: 0.8525\n",
      "Epoch 56/100\n",
      "200/200 [==============================] - 0s 2ms/step - loss: 0.3295 - accuracy: 0.8675 - val_loss: 0.3403 - val_accuracy: 0.8525\n",
      "Epoch 57/100\n",
      "200/200 [==============================] - 0s 2ms/step - loss: 0.3299 - accuracy: 0.8648 - val_loss: 0.3425 - val_accuracy: 0.8550\n",
      "Epoch 58/100\n",
      "200/200 [==============================] - 0s 2ms/step - loss: 0.3299 - accuracy: 0.8670 - val_loss: 0.3398 - val_accuracy: 0.8512\n",
      "Epoch 59/100\n",
      "200/200 [==============================] - 0s 2ms/step - loss: 0.3290 - accuracy: 0.8678 - val_loss: 0.3398 - val_accuracy: 0.8519\n",
      "Epoch 60/100\n",
      "200/200 [==============================] - 0s 2ms/step - loss: 0.3292 - accuracy: 0.8684 - val_loss: 0.3416 - val_accuracy: 0.8469\n",
      "Epoch 61/100\n",
      "200/200 [==============================] - 0s 2ms/step - loss: 0.3285 - accuracy: 0.8684 - val_loss: 0.3411 - val_accuracy: 0.8519\n",
      "Epoch 62/100\n",
      "200/200 [==============================] - 0s 2ms/step - loss: 0.3287 - accuracy: 0.8686 - val_loss: 0.3402 - val_accuracy: 0.8512\n",
      "Epoch 63/100\n",
      "200/200 [==============================] - 0s 2ms/step - loss: 0.3289 - accuracy: 0.8673 - val_loss: 0.3399 - val_accuracy: 0.8537\n",
      "Epoch 64/100\n",
      "200/200 [==============================] - 0s 2ms/step - loss: 0.3282 - accuracy: 0.8678 - val_loss: 0.3410 - val_accuracy: 0.8506\n",
      "Epoch 65/100\n",
      "200/200 [==============================] - 0s 2ms/step - loss: 0.3282 - accuracy: 0.8670 - val_loss: 0.3408 - val_accuracy: 0.8537\n",
      "Epoch 66/100\n",
      "200/200 [==============================] - 0s 2ms/step - loss: 0.3275 - accuracy: 0.8692 - val_loss: 0.3417 - val_accuracy: 0.8500\n",
      "Epoch 67/100\n",
      "200/200 [==============================] - 0s 2ms/step - loss: 0.3280 - accuracy: 0.8677 - val_loss: 0.3397 - val_accuracy: 0.8500\n",
      "Epoch 68/100\n",
      "200/200 [==============================] - 0s 2ms/step - loss: 0.3273 - accuracy: 0.8675 - val_loss: 0.3416 - val_accuracy: 0.8500\n",
      "Epoch 69/100\n",
      "200/200 [==============================] - 0s 2ms/step - loss: 0.3275 - accuracy: 0.8702 - val_loss: 0.3404 - val_accuracy: 0.8500\n",
      "Epoch 70/100\n",
      "200/200 [==============================] - 1s 3ms/step - loss: 0.3274 - accuracy: 0.8678 - val_loss: 0.3409 - val_accuracy: 0.8512\n",
      "Epoch 71/100\n",
      "200/200 [==============================] - 0s 2ms/step - loss: 0.3270 - accuracy: 0.8664 - val_loss: 0.3416 - val_accuracy: 0.8519\n",
      "Epoch 72/100\n",
      "200/200 [==============================] - 0s 2ms/step - loss: 0.3270 - accuracy: 0.8702 - val_loss: 0.3403 - val_accuracy: 0.8512\n",
      "Epoch 73/100\n",
      "200/200 [==============================] - 0s 2ms/step - loss: 0.3270 - accuracy: 0.8673 - val_loss: 0.3419 - val_accuracy: 0.8531\n",
      "Epoch 74/100\n",
      "200/200 [==============================] - 0s 2ms/step - loss: 0.3271 - accuracy: 0.8675 - val_loss: 0.3397 - val_accuracy: 0.8519\n",
      "Epoch 75/100\n",
      "200/200 [==============================] - 0s 2ms/step - loss: 0.3266 - accuracy: 0.8675 - val_loss: 0.3400 - val_accuracy: 0.8525\n",
      "Epoch 76/100\n",
      "200/200 [==============================] - 0s 2ms/step - loss: 0.3268 - accuracy: 0.8664 - val_loss: 0.3408 - val_accuracy: 0.8525\n",
      "Epoch 77/100\n",
      "200/200 [==============================] - 0s 2ms/step - loss: 0.3265 - accuracy: 0.8667 - val_loss: 0.3406 - val_accuracy: 0.8512\n",
      "Epoch 78/100\n",
      "200/200 [==============================] - 0s 2ms/step - loss: 0.3262 - accuracy: 0.8669 - val_loss: 0.3398 - val_accuracy: 0.8500\n",
      "Epoch 79/100\n",
      "200/200 [==============================] - 1s 3ms/step - loss: 0.3264 - accuracy: 0.8687 - val_loss: 0.3409 - val_accuracy: 0.8531\n",
      "Epoch 80/100\n",
      "200/200 [==============================] - 0s 2ms/step - loss: 0.3272 - accuracy: 0.8653 - val_loss: 0.3403 - val_accuracy: 0.8519\n",
      "Epoch 81/100\n",
      "200/200 [==============================] - 0s 2ms/step - loss: 0.3261 - accuracy: 0.8677 - val_loss: 0.3409 - val_accuracy: 0.8500\n",
      "Epoch 82/100\n",
      "200/200 [==============================] - 0s 2ms/step - loss: 0.3263 - accuracy: 0.8706 - val_loss: 0.3402 - val_accuracy: 0.8500\n",
      "Epoch 83/100\n",
      "200/200 [==============================] - 0s 2ms/step - loss: 0.3262 - accuracy: 0.8666 - val_loss: 0.3407 - val_accuracy: 0.8544\n",
      "Epoch 84/100\n",
      "200/200 [==============================] - 0s 2ms/step - loss: 0.3259 - accuracy: 0.8673 - val_loss: 0.3395 - val_accuracy: 0.8500\n",
      "Epoch 85/100\n",
      "200/200 [==============================] - 0s 2ms/step - loss: 0.3257 - accuracy: 0.8667 - val_loss: 0.3392 - val_accuracy: 0.8537\n",
      "Epoch 86/100\n",
      "200/200 [==============================] - 0s 2ms/step - loss: 0.3257 - accuracy: 0.8664 - val_loss: 0.3409 - val_accuracy: 0.8531\n",
      "Epoch 87/100\n",
      "200/200 [==============================] - 0s 2ms/step - loss: 0.3256 - accuracy: 0.8664 - val_loss: 0.3418 - val_accuracy: 0.8550\n",
      "Epoch 88/100\n",
      "200/200 [==============================] - 0s 2ms/step - loss: 0.3262 - accuracy: 0.8683 - val_loss: 0.3401 - val_accuracy: 0.8512\n",
      "Epoch 89/100\n",
      "200/200 [==============================] - 0s 2ms/step - loss: 0.3260 - accuracy: 0.8673 - val_loss: 0.3403 - val_accuracy: 0.8506\n",
      "Epoch 90/100\n",
      "200/200 [==============================] - 0s 2ms/step - loss: 0.3254 - accuracy: 0.8683 - val_loss: 0.3396 - val_accuracy: 0.8519\n",
      "Epoch 91/100\n",
      "200/200 [==============================] - 0s 2ms/step - loss: 0.3252 - accuracy: 0.8684 - val_loss: 0.3386 - val_accuracy: 0.8487\n",
      "Epoch 92/100\n",
      "200/200 [==============================] - 0s 2ms/step - loss: 0.3246 - accuracy: 0.8697 - val_loss: 0.3389 - val_accuracy: 0.8512\n",
      "Epoch 93/100\n",
      "200/200 [==============================] - 0s 2ms/step - loss: 0.3249 - accuracy: 0.8694 - val_loss: 0.3415 - val_accuracy: 0.8537\n",
      "Epoch 94/100\n",
      "200/200 [==============================] - 0s 2ms/step - loss: 0.3249 - accuracy: 0.8689 - val_loss: 0.3387 - val_accuracy: 0.8519\n",
      "Epoch 95/100\n",
      "200/200 [==============================] - 0s 2ms/step - loss: 0.3252 - accuracy: 0.8652 - val_loss: 0.3391 - val_accuracy: 0.8531\n",
      "Epoch 96/100\n",
      "200/200 [==============================] - 0s 2ms/step - loss: 0.3245 - accuracy: 0.8705 - val_loss: 0.3403 - val_accuracy: 0.8556\n",
      "Epoch 97/100\n",
      "200/200 [==============================] - 0s 2ms/step - loss: 0.3249 - accuracy: 0.8684 - val_loss: 0.3383 - val_accuracy: 0.8500\n",
      "Epoch 98/100\n",
      "200/200 [==============================] - 0s 2ms/step - loss: 0.3240 - accuracy: 0.8678 - val_loss: 0.3399 - val_accuracy: 0.8506\n",
      "Epoch 99/100\n",
      "200/200 [==============================] - 0s 2ms/step - loss: 0.3243 - accuracy: 0.8687 - val_loss: 0.3388 - val_accuracy: 0.8519\n",
      "Epoch 100/100\n",
      "200/200 [==============================] - 0s 2ms/step - loss: 0.3244 - accuracy: 0.8686 - val_loss: 0.3380 - val_accuracy: 0.8537\n"
     ]
    }
   ],
   "source": [
    "history = model.fit(X_train_scaled, y_train, epochs=100, validation_split=0.2)"
   ]
  },
  {
   "cell_type": "code",
   "execution_count": 22,
   "id": "b5af18d4",
   "metadata": {
    "execution": {
     "iopub.execute_input": "2023-08-06T02:32:26.675075Z",
     "iopub.status.busy": "2023-08-06T02:32:26.673989Z",
     "iopub.status.idle": "2023-08-06T02:32:26.685534Z",
     "shell.execute_reply": "2023-08-06T02:32:26.684649Z"
    },
    "papermill": {
     "duration": 0.076659,
     "end_time": "2023-08-06T02:32:26.687388",
     "exception": false,
     "start_time": "2023-08-06T02:32:26.610729",
     "status": "completed"
    },
    "tags": []
   },
   "outputs": [
    {
     "data": {
      "text/plain": [
       "[array([[ 0.28683427, -0.21422103, -0.19217926, -0.14556165, -0.10300893,\n",
       "         -0.5504338 , -0.41325134, -0.11198531,  0.03084639, -0.5460281 ,\n",
       "         -0.18050408],\n",
       "        [ 0.3513061 , -0.5841921 ,  0.20593612,  0.21406174,  0.22425592,\n",
       "         -0.3325612 , -0.6023877 , -0.74825543, -0.20823494,  0.9744765 ,\n",
       "         -0.5650633 ],\n",
       "        [-0.28243777,  0.19877835, -0.02992867,  0.00583542,  0.13115293,\n",
       "          0.36255482,  0.5684346 ,  0.01417769, -0.12292041,  0.3968781 ,\n",
       "         -0.34795758],\n",
       "        [-0.265247  , -0.02582011,  0.2710593 , -0.25334227,  0.01451427,\n",
       "         -0.2210054 , -0.41806984, -0.13749522, -0.83056134, -0.08918663,\n",
       "          0.22493689],\n",
       "        [ 0.17860149,  0.103935  ,  1.0187945 , -1.2957964 ,  0.7652476 ,\n",
       "          0.2774662 ,  0.29337502, -0.08320086, -0.2995616 ,  0.10468656,\n",
       "         -0.27486062],\n",
       "        [-0.5597099 ,  0.01167004, -0.05919952, -0.08796144, -0.41848513,\n",
       "         -0.36083725,  0.16732168, -0.5223753 ,  0.5538338 ,  0.02787356,\n",
       "          0.08511592],\n",
       "        [ 0.35080135, -0.27432883, -0.0925032 , -0.25220975, -0.2399359 ,\n",
       "          0.67413634,  0.6247108 , -0.779308  ,  0.07701399,  0.9213656 ,\n",
       "          0.40749183],\n",
       "        [-0.09194081, -0.25342238, -0.08096498, -0.10472889, -0.37438992,\n",
       "          0.69455373, -0.16342059, -0.24805824,  0.19693443, -0.05767304,\n",
       "          0.05605362],\n",
       "        [-0.23402232, -1.0965669 , -0.05873699,  0.32146567,  0.38351855,\n",
       "         -0.6897426 ,  0.14234021,  0.33624396, -0.35094923,  0.43477798,\n",
       "          0.7890419 ],\n",
       "        [ 0.2985229 ,  0.36277857,  0.11810098,  0.08087618,  0.18716116,\n",
       "          0.07411517, -0.5177484 , -0.22790036, -0.66904384,  0.08232011,\n",
       "         -0.9352227 ],\n",
       "        [-0.01434951,  0.10427176, -0.15600815, -0.05701655, -0.08514071,\n",
       "          0.19959378,  0.6905634 , -0.13223869,  0.16366076, -0.11174037,\n",
       "         -0.15379786]], dtype=float32),\n",
       " array([ 0.12555963,  0.6220579 , -0.22110668,  0.06026977,  0.1198791 ,\n",
       "         0.50462884,  0.359892  ,  0.5298678 ,  0.1887782 , -0.26881567,\n",
       "         0.3242783 ], dtype=float32)]"
      ]
     },
     "execution_count": 22,
     "metadata": {},
     "output_type": "execute_result"
    }
   ],
   "source": [
    "model.layers[0].get_weights()"
   ]
  },
  {
   "cell_type": "code",
   "execution_count": 23,
   "id": "e0384f02",
   "metadata": {
    "execution": {
     "iopub.execute_input": "2023-08-06T02:32:26.814710Z",
     "iopub.status.busy": "2023-08-06T02:32:26.814062Z",
     "iopub.status.idle": "2023-08-06T02:32:27.073994Z",
     "shell.execute_reply": "2023-08-06T02:32:27.072203Z"
    },
    "papermill": {
     "duration": 0.326375,
     "end_time": "2023-08-06T02:32:27.076618",
     "exception": false,
     "start_time": "2023-08-06T02:32:26.750243",
     "status": "completed"
    },
    "tags": []
   },
   "outputs": [
    {
     "name": "stdout",
     "output_type": "stream",
     "text": [
      "63/63 [==============================] - 0s 956us/step\n"
     ]
    }
   ],
   "source": [
    "y_log = model.predict(X_test_scaled)"
   ]
  },
  {
   "cell_type": "code",
   "execution_count": 24,
   "id": "492ec7c9",
   "metadata": {
    "execution": {
     "iopub.execute_input": "2023-08-06T02:32:27.205188Z",
     "iopub.status.busy": "2023-08-06T02:32:27.204813Z",
     "iopub.status.idle": "2023-08-06T02:32:27.211258Z",
     "shell.execute_reply": "2023-08-06T02:32:27.209655Z"
    },
    "papermill": {
     "duration": 0.073449,
     "end_time": "2023-08-06T02:32:27.213787",
     "exception": false,
     "start_time": "2023-08-06T02:32:27.140338",
     "status": "completed"
    },
    "tags": []
   },
   "outputs": [],
   "source": [
    "y_pred = np.where(y_log>0.5 , 1, 0 )"
   ]
  },
  {
   "cell_type": "code",
   "execution_count": 25,
   "id": "514ba65f",
   "metadata": {
    "execution": {
     "iopub.execute_input": "2023-08-06T02:32:27.342029Z",
     "iopub.status.busy": "2023-08-06T02:32:27.341704Z",
     "iopub.status.idle": "2023-08-06T02:32:27.353514Z",
     "shell.execute_reply": "2023-08-06T02:32:27.351483Z"
    },
    "papermill": {
     "duration": 0.07836,
     "end_time": "2023-08-06T02:32:27.356035",
     "exception": false,
     "start_time": "2023-08-06T02:32:27.277675",
     "status": "completed"
    },
    "tags": []
   },
   "outputs": [
    {
     "data": {
      "text/plain": [
       "0.8635"
      ]
     },
     "execution_count": 25,
     "metadata": {},
     "output_type": "execute_result"
    }
   ],
   "source": [
    "from sklearn.metrics import accuracy_score\n",
    "accuracy_score(y_test, y_pred)"
   ]
  },
  {
   "cell_type": "code",
   "execution_count": 26,
   "id": "2b99c6f0",
   "metadata": {
    "execution": {
     "iopub.execute_input": "2023-08-06T02:32:27.485688Z",
     "iopub.status.busy": "2023-08-06T02:32:27.485347Z",
     "iopub.status.idle": "2023-08-06T02:32:27.488944Z",
     "shell.execute_reply": "2023-08-06T02:32:27.488341Z"
    },
    "papermill": {
     "duration": 0.069617,
     "end_time": "2023-08-06T02:32:27.490622",
     "exception": false,
     "start_time": "2023-08-06T02:32:27.421005",
     "status": "completed"
    },
    "tags": []
   },
   "outputs": [],
   "source": [
    "import matplotlib.pyplot as plt"
   ]
  },
  {
   "cell_type": "code",
   "execution_count": 27,
   "id": "1506a538",
   "metadata": {
    "execution": {
     "iopub.execute_input": "2023-08-06T02:32:27.618882Z",
     "iopub.status.busy": "2023-08-06T02:32:27.618491Z",
     "iopub.status.idle": "2023-08-06T02:32:27.628203Z",
     "shell.execute_reply": "2023-08-06T02:32:27.627206Z"
    },
    "papermill": {
     "duration": 0.076091,
     "end_time": "2023-08-06T02:32:27.630064",
     "exception": false,
     "start_time": "2023-08-06T02:32:27.553973",
     "status": "completed"
    },
    "tags": []
   },
   "outputs": [
    {
     "data": {
      "text/plain": [
       "{'loss': [0.5213823318481445,\n",
       "  0.45640328526496887,\n",
       "  0.43473124504089355,\n",
       "  0.41859450936317444,\n",
       "  0.4043850302696228,\n",
       "  0.3912297189235687,\n",
       "  0.3798440992832184,\n",
       "  0.37046292424201965,\n",
       "  0.3636579215526581,\n",
       "  0.3583771884441376,\n",
       "  0.3545245826244354,\n",
       "  0.3503189980983734,\n",
       "  0.3485656976699829,\n",
       "  0.346709668636322,\n",
       "  0.3445204198360443,\n",
       "  0.3437334895133972,\n",
       "  0.34256067872047424,\n",
       "  0.34260693192481995,\n",
       "  0.3413360118865967,\n",
       "  0.3400484025478363,\n",
       "  0.3397839367389679,\n",
       "  0.3387517035007477,\n",
       "  0.3389962315559387,\n",
       "  0.33839112520217896,\n",
       "  0.33774977922439575,\n",
       "  0.33707547187805176,\n",
       "  0.33600685000419617,\n",
       "  0.33576351404190063,\n",
       "  0.3359602689743042,\n",
       "  0.3351925313472748,\n",
       "  0.3346295952796936,\n",
       "  0.33496028184890747,\n",
       "  0.33458831906318665,\n",
       "  0.33377814292907715,\n",
       "  0.33370426297187805,\n",
       "  0.33379727602005005,\n",
       "  0.3332180380821228,\n",
       "  0.33309677243232727,\n",
       "  0.3326706290245056,\n",
       "  0.332614928483963,\n",
       "  0.33268892765045166,\n",
       "  0.33221787214279175,\n",
       "  0.3314507007598877,\n",
       "  0.33153966069221497,\n",
       "  0.3315368592739105,\n",
       "  0.33106011152267456,\n",
       "  0.330963134765625,\n",
       "  0.33063778281211853,\n",
       "  0.33025017380714417,\n",
       "  0.33007144927978516,\n",
       "  0.33028656244277954,\n",
       "  0.32985973358154297,\n",
       "  0.32994213700294495,\n",
       "  0.32986563444137573,\n",
       "  0.3295964300632477,\n",
       "  0.32946667075157166,\n",
       "  0.32990220189094543,\n",
       "  0.3298826217651367,\n",
       "  0.32896363735198975,\n",
       "  0.3292360007762909,\n",
       "  0.3285331726074219,\n",
       "  0.32867351174354553,\n",
       "  0.3288525640964508,\n",
       "  0.3282201886177063,\n",
       "  0.3282037377357483,\n",
       "  0.3274954855442047,\n",
       "  0.3280012905597687,\n",
       "  0.32733073830604553,\n",
       "  0.3274925947189331,\n",
       "  0.32738712430000305,\n",
       "  0.3269909918308258,\n",
       "  0.3269743025302887,\n",
       "  0.32704854011535645,\n",
       "  0.3271442651748657,\n",
       "  0.3266133964061737,\n",
       "  0.3267645239830017,\n",
       "  0.32650434970855713,\n",
       "  0.32618921995162964,\n",
       "  0.3263998031616211,\n",
       "  0.327208548784256,\n",
       "  0.32610687613487244,\n",
       "  0.3263222873210907,\n",
       "  0.3261817693710327,\n",
       "  0.325886607170105,\n",
       "  0.32571688294410706,\n",
       "  0.32568228244781494,\n",
       "  0.32557690143585205,\n",
       "  0.3262326121330261,\n",
       "  0.32600393891334534,\n",
       "  0.32544174790382385,\n",
       "  0.32521602511405945,\n",
       "  0.3245505392551422,\n",
       "  0.3249060809612274,\n",
       "  0.32494786381721497,\n",
       "  0.32519760727882385,\n",
       "  0.3245401084423065,\n",
       "  0.3248525857925415,\n",
       "  0.3240046799182892,\n",
       "  0.3243224322795868,\n",
       "  0.3243652582168579],\n",
       " 'accuracy': [0.7720312476158142,\n",
       "  0.796093761920929,\n",
       "  0.8092187643051147,\n",
       "  0.81640625,\n",
       "  0.8295312523841858,\n",
       "  0.839062511920929,\n",
       "  0.8459374904632568,\n",
       "  0.8487499952316284,\n",
       "  0.8510937690734863,\n",
       "  0.8535937666893005,\n",
       "  0.8543750047683716,\n",
       "  0.8543750047683716,\n",
       "  0.8579687476158142,\n",
       "  0.8573437333106995,\n",
       "  0.8610937595367432,\n",
       "  0.8576562404632568,\n",
       "  0.8615624904632568,\n",
       "  0.8584374785423279,\n",
       "  0.8606250286102295,\n",
       "  0.8617187738418579,\n",
       "  0.8614062666893005,\n",
       "  0.8631250262260437,\n",
       "  0.864062488079071,\n",
       "  0.8617187738418579,\n",
       "  0.8615624904632568,\n",
       "  0.8639062643051147,\n",
       "  0.86328125,\n",
       "  0.8650000095367432,\n",
       "  0.8645312786102295,\n",
       "  0.8642187714576721,\n",
       "  0.8653125166893005,\n",
       "  0.8639062643051147,\n",
       "  0.8637499809265137,\n",
       "  0.8639062643051147,\n",
       "  0.8629687428474426,\n",
       "  0.8646875023841858,\n",
       "  0.8629687428474426,\n",
       "  0.8657812476158142,\n",
       "  0.8651562333106995,\n",
       "  0.8637499809265137,\n",
       "  0.8662499785423279,\n",
       "  0.8631250262260437,\n",
       "  0.866406261920929,\n",
       "  0.867968738079071,\n",
       "  0.8659374713897705,\n",
       "  0.8668749928474426,\n",
       "  0.8673437237739563,\n",
       "  0.8665624856948853,\n",
       "  0.8650000095367432,\n",
       "  0.866406261920929,\n",
       "  0.8657812476158142,\n",
       "  0.8673437237739563,\n",
       "  0.8668749928474426,\n",
       "  0.8684375286102295,\n",
       "  0.8657812476158142,\n",
       "  0.8675000071525574,\n",
       "  0.8648437261581421,\n",
       "  0.8670312762260437,\n",
       "  0.8678125143051147,\n",
       "  0.8684375286102295,\n",
       "  0.8684375286102295,\n",
       "  0.8685937523841858,\n",
       "  0.8673437237739563,\n",
       "  0.8678125143051147,\n",
       "  0.8670312762260437,\n",
       "  0.8692187666893005,\n",
       "  0.8676562309265137,\n",
       "  0.8675000071525574,\n",
       "  0.8701562285423279,\n",
       "  0.8678125143051147,\n",
       "  0.866406261920929,\n",
       "  0.8701562285423279,\n",
       "  0.8673437237739563,\n",
       "  0.8675000071525574,\n",
       "  0.8675000071525574,\n",
       "  0.866406261920929,\n",
       "  0.8667187690734863,\n",
       "  0.8668749928474426,\n",
       "  0.8687499761581421,\n",
       "  0.8653125166893005,\n",
       "  0.8676562309265137,\n",
       "  0.8706250190734863,\n",
       "  0.8665624856948853,\n",
       "  0.8673437237739563,\n",
       "  0.8667187690734863,\n",
       "  0.866406261920929,\n",
       "  0.866406261920929,\n",
       "  0.8682812452316284,\n",
       "  0.8673437237739563,\n",
       "  0.8682812452316284,\n",
       "  0.8684375286102295,\n",
       "  0.8696874976158142,\n",
       "  0.8693749904632568,\n",
       "  0.8689062595367432,\n",
       "  0.8651562333106995,\n",
       "  0.8704687356948853,\n",
       "  0.8684375286102295,\n",
       "  0.8678125143051147,\n",
       "  0.8687499761581421,\n",
       "  0.8685937523841858],\n",
       " 'val_loss': [0.45608606934547424,\n",
       "  0.4332379996776581,\n",
       "  0.4185493588447571,\n",
       "  0.4069885015487671,\n",
       "  0.3953987956047058,\n",
       "  0.3861158490180969,\n",
       "  0.3767545819282532,\n",
       "  0.3682166635990143,\n",
       "  0.36109456419944763,\n",
       "  0.35736283659935,\n",
       "  0.3546472191810608,\n",
       "  0.3517887592315674,\n",
       "  0.350870817899704,\n",
       "  0.35008665919303894,\n",
       "  0.34896522760391235,\n",
       "  0.3492254614830017,\n",
       "  0.34833621978759766,\n",
       "  0.34677860140800476,\n",
       "  0.3480728268623352,\n",
       "  0.34648123383522034,\n",
       "  0.345392644405365,\n",
       "  0.3467591106891632,\n",
       "  0.34518077969551086,\n",
       "  0.34414538741111755,\n",
       "  0.34444859623908997,\n",
       "  0.34451550245285034,\n",
       "  0.34487614035606384,\n",
       "  0.34500813484191895,\n",
       "  0.34366878867149353,\n",
       "  0.34355881810188293,\n",
       "  0.3449750244617462,\n",
       "  0.34297043085098267,\n",
       "  0.34356263279914856,\n",
       "  0.3429158329963684,\n",
       "  0.34349262714385986,\n",
       "  0.3428955376148224,\n",
       "  0.3421529531478882,\n",
       "  0.3413548767566681,\n",
       "  0.34234389662742615,\n",
       "  0.34149113297462463,\n",
       "  0.34424033761024475,\n",
       "  0.3453845679759979,\n",
       "  0.3424321711063385,\n",
       "  0.3425327241420746,\n",
       "  0.34207478165626526,\n",
       "  0.34233909845352173,\n",
       "  0.3414508104324341,\n",
       "  0.34008729457855225,\n",
       "  0.34162113070487976,\n",
       "  0.34158504009246826,\n",
       "  0.34139424562454224,\n",
       "  0.34274822473526,\n",
       "  0.3416351079940796,\n",
       "  0.3400426208972931,\n",
       "  0.3418155908584595,\n",
       "  0.3402899205684662,\n",
       "  0.3425289988517761,\n",
       "  0.33976680040359497,\n",
       "  0.3398132622241974,\n",
       "  0.3415977358818054,\n",
       "  0.34110331535339355,\n",
       "  0.3402059078216553,\n",
       "  0.33992481231689453,\n",
       "  0.3409804403781891,\n",
       "  0.3408352732658386,\n",
       "  0.34170085191726685,\n",
       "  0.3396504521369934,\n",
       "  0.3416319787502289,\n",
       "  0.34042125940322876,\n",
       "  0.34091341495513916,\n",
       "  0.3416481018066406,\n",
       "  0.3402799963951111,\n",
       "  0.34191176295280457,\n",
       "  0.33966219425201416,\n",
       "  0.34004348516464233,\n",
       "  0.34082919359207153,\n",
       "  0.3405595123767853,\n",
       "  0.3397645056247711,\n",
       "  0.3408655822277069,\n",
       "  0.3403194546699524,\n",
       "  0.340947687625885,\n",
       "  0.3401973247528076,\n",
       "  0.34074515104293823,\n",
       "  0.33946773409843445,\n",
       "  0.3391648232936859,\n",
       "  0.34086257219314575,\n",
       "  0.3418395519256592,\n",
       "  0.34013915061950684,\n",
       "  0.34025299549102783,\n",
       "  0.33960187435150146,\n",
       "  0.33858221769332886,\n",
       "  0.3389195501804352,\n",
       "  0.34151482582092285,\n",
       "  0.33868443965911865,\n",
       "  0.3391106426715851,\n",
       "  0.3403247892856598,\n",
       "  0.3383461833000183,\n",
       "  0.33994847536087036,\n",
       "  0.33882811665534973,\n",
       "  0.337951123714447],\n",
       " 'val_accuracy': [0.8006250262260437,\n",
       "  0.8106250166893005,\n",
       "  0.8218749761581421,\n",
       "  0.8318750262260437,\n",
       "  0.8424999713897705,\n",
       "  0.8362500071525574,\n",
       "  0.8456249833106995,\n",
       "  0.8481249809265137,\n",
       "  0.8487499952316284,\n",
       "  0.8500000238418579,\n",
       "  0.8543750047683716,\n",
       "  0.8531249761581421,\n",
       "  0.8537499904632568,\n",
       "  0.8537499904632568,\n",
       "  0.8531249761581421,\n",
       "  0.8543750047683716,\n",
       "  0.8500000238418579,\n",
       "  0.8543750047683716,\n",
       "  0.8543750047683716,\n",
       "  0.8550000190734863,\n",
       "  0.8550000190734863,\n",
       "  0.8543750047683716,\n",
       "  0.8537499904632568,\n",
       "  0.8575000166893005,\n",
       "  0.8556249737739563,\n",
       "  0.8550000190734863,\n",
       "  0.8493750095367432,\n",
       "  0.8493750095367432,\n",
       "  0.8525000214576721,\n",
       "  0.8556249737739563,\n",
       "  0.8531249761581421,\n",
       "  0.8518750071525574,\n",
       "  0.8525000214576721,\n",
       "  0.8525000214576721,\n",
       "  0.8537499904632568,\n",
       "  0.856249988079071,\n",
       "  0.8493750095367432,\n",
       "  0.8518750071525574,\n",
       "  0.8556249737739563,\n",
       "  0.8525000214576721,\n",
       "  0.8543750047683716,\n",
       "  0.8556249737739563,\n",
       "  0.8512499928474426,\n",
       "  0.8487499952316284,\n",
       "  0.8506249785423279,\n",
       "  0.8543750047683716,\n",
       "  0.8506249785423279,\n",
       "  0.8506249785423279,\n",
       "  0.8525000214576721,\n",
       "  0.8556249737739563,\n",
       "  0.8500000238418579,\n",
       "  0.8506249785423279,\n",
       "  0.8518750071525574,\n",
       "  0.8518750071525574,\n",
       "  0.8525000214576721,\n",
       "  0.8525000214576721,\n",
       "  0.8550000190734863,\n",
       "  0.8512499928474426,\n",
       "  0.8518750071525574,\n",
       "  0.846875011920929,\n",
       "  0.8518750071525574,\n",
       "  0.8512499928474426,\n",
       "  0.8537499904632568,\n",
       "  0.8506249785423279,\n",
       "  0.8537499904632568,\n",
       "  0.8500000238418579,\n",
       "  0.8500000238418579,\n",
       "  0.8500000238418579,\n",
       "  0.8500000238418579,\n",
       "  0.8512499928474426,\n",
       "  0.8518750071525574,\n",
       "  0.8512499928474426,\n",
       "  0.8531249761581421,\n",
       "  0.8518750071525574,\n",
       "  0.8525000214576721,\n",
       "  0.8525000214576721,\n",
       "  0.8512499928474426,\n",
       "  0.8500000238418579,\n",
       "  0.8531249761581421,\n",
       "  0.8518750071525574,\n",
       "  0.8500000238418579,\n",
       "  0.8500000238418579,\n",
       "  0.8543750047683716,\n",
       "  0.8500000238418579,\n",
       "  0.8537499904632568,\n",
       "  0.8531249761581421,\n",
       "  0.8550000190734863,\n",
       "  0.8512499928474426,\n",
       "  0.8506249785423279,\n",
       "  0.8518750071525574,\n",
       "  0.8487499952316284,\n",
       "  0.8512499928474426,\n",
       "  0.8537499904632568,\n",
       "  0.8518750071525574,\n",
       "  0.8531249761581421,\n",
       "  0.8556249737739563,\n",
       "  0.8500000238418579,\n",
       "  0.8506249785423279,\n",
       "  0.8518750071525574,\n",
       "  0.8537499904632568]}"
      ]
     },
     "execution_count": 27,
     "metadata": {},
     "output_type": "execute_result"
    }
   ],
   "source": [
    "history.history"
   ]
  },
  {
   "cell_type": "code",
   "execution_count": 28,
   "id": "48ab8e68",
   "metadata": {
    "execution": {
     "iopub.execute_input": "2023-08-06T02:32:27.758962Z",
     "iopub.status.busy": "2023-08-06T02:32:27.758611Z",
     "iopub.status.idle": "2023-08-06T02:32:27.994570Z",
     "shell.execute_reply": "2023-08-06T02:32:27.992697Z"
    },
    "papermill": {
     "duration": 0.303554,
     "end_time": "2023-08-06T02:32:27.996695",
     "exception": false,
     "start_time": "2023-08-06T02:32:27.693141",
     "status": "completed"
    },
    "tags": []
   },
   "outputs": [
    {
     "data": {
      "text/plain": [
       "[<matplotlib.lines.Line2D at 0x7b6a74f3cac0>]"
      ]
     },
     "execution_count": 28,
     "metadata": {},
     "output_type": "execute_result"
    },
    {
     "data": {
      "image/png": "[encoded data removed]",
      "text/plain": [
       "<Figure size 640x480 with 1 Axes>"
      ]
     },
     "metadata": {},
     "output_type": "display_data"
    }
   ],
   "source": [
    "plt.plot(history.history['loss'])\n",
    "plt.plot(history.history['val_loss'])"
   ]
  },
  {
   "cell_type": "code",
   "execution_count": 29,
   "id": "2a4cdf81",
   "metadata": {
    "execution": {
     "iopub.execute_input": "2023-08-06T02:32:28.126238Z",
     "iopub.status.busy": "2023-08-06T02:32:28.125904Z",
     "iopub.status.idle": "2023-08-06T02:32:28.305972Z",
     "shell.execute_reply": "2023-08-06T02:32:28.305054Z"
    },
    "papermill": {
     "duration": 0.247139,
     "end_time": "2023-08-06T02:32:28.307711",
     "exception": false,
     "start_time": "2023-08-06T02:32:28.060572",
     "status": "completed"
    },
    "tags": []
   },
   "outputs": [
    {
     "data": {
      "text/plain": [
       "[<matplotlib.lines.Line2D at 0x7b6a74dfea70>]"
      ]
     },
     "execution_count": 29,
     "metadata": {},
     "output_type": "execute_result"
    },
    {
     "data": {
      "image/png": "[encoded data removed]",
      "text/plain": [
       "<Figure size 640x480 with 1 Axes>"
      ]
     },
     "metadata": {},
     "output_type": "display_data"
    }
   ],
   "source": [
    "plt.plot(history.history['accuracy'])\n",
    "plt.plot(history.history['val_accuracy'])"
   ]
  }
 ],
 "metadata": {
  "kernelspec": {
   "display_name": "Python 3",
   "language": "python",
   "name": "python3"
  },
  "language_info": {
   "codemirror_mode": {
    "name": "ipython",
    "version": 3
   },
   "file_extension": ".py",
   "mimetype": "text/x-python",
   "name": "python",
   "nbconvert_exporter": "python",
   "pygments_lexer": "ipython3",
   "version": "3.10.12"
  },
  "papermill": {
   "default_parameters": {},
   "duration": 107.485332,
   "end_time": "2023-08-06T02:32:30.947899",
   "environment_variables": {},
   "exception": null,
   "input_path": "__notebook__.ipynb",
   "output_path": "__notebook__.ipynb",
   "parameters": {},
   "start_time": "2023-08-06T02:30:43.462567",
   "version": "2.4.0"
  }
 },
 "nbformat": 4,
 "nbformat_minor": 5
}
