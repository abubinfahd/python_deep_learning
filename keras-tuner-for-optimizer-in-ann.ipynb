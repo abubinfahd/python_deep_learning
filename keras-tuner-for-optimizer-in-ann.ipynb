{
 "cells": [
  {
   "cell_type": "code",
   "execution_count": 1,
   "id": "e2c393a5",
   "metadata": {
    "_cell_guid": "b1076dfc-b9ad-4769-8c92-a6c4dae69d19",
    "_uuid": "8f2839f25d086af736a60e9eeb907d3b93b6e0e5",
    "execution": {
     "iopub.execute_input": "2023-08-14T14:46:19.318653Z",
     "iopub.status.busy": "2023-08-14T14:46:19.318246Z",
     "iopub.status.idle": "2023-08-14T14:46:19.335492Z",
     "shell.execute_reply": "2023-08-14T14:46:19.334134Z"
    },
    "papermill": {
     "duration": 0.031008,
     "end_time": "2023-08-14T14:46:19.338456",
     "exception": false,
     "start_time": "2023-08-14T14:46:19.307448",
     "status": "completed"
    },
    "tags": []
   },
   "outputs": [
    {
     "name": "stdout",
     "output_type": "stream",
     "text": [
      "/kaggle/input/pima-indians-diabetes-database/diabetes.csv\n"
     ]
    }
   ],
   "source": [
    "# This Python 3 environment comes with many helpful analytics libraries installed\n",
    "# It is defined by the kaggle/python Docker image: https://github.com/kaggle/docker-python\n",
    "# For example, here's several helpful packages to load\n",
    "\n",
    "import numpy as np # linear algebra\n",
    "import pandas as pd # data processing, CSV file I/O (e.g. pd.read_csv)\n",
    "\n",
    "# Input data files are available in the read-only \"../input/\" directory\n",
    "# For example, running this (by clicking run or pressing Shift+Enter) will list all files under the input directory\n",
    "\n",
    "import os\n",
    "for dirname, _, filenames in os.walk('/kaggle/input'):\n",
    "    for filename in filenames:\n",
    "        print(os.path.join(dirname, filename))\n",
    "\n",
    "# You can write up to 20GB to the current directory (/kaggle/working/) that gets preserved as output when you create a version using \"Save & Run All\" \n",
    "# You can also write temporary files to /kaggle/temp/, but they won't be saved outside of the current session"
   ]
  },
  {
   "cell_type": "code",
   "execution_count": 2,
   "id": "8559445e",
   "metadata": {
    "execution": {
     "iopub.execute_input": "2023-08-14T14:46:19.358550Z",
     "iopub.status.busy": "2023-08-14T14:46:19.357854Z",
     "iopub.status.idle": "2023-08-14T14:46:19.408644Z",
     "shell.execute_reply": "2023-08-14T14:46:19.407268Z"
    },
    "papermill": {
     "duration": 0.063364,
     "end_time": "2023-08-14T14:46:19.411218",
     "exception": false,
     "start_time": "2023-08-14T14:46:19.347854",
     "status": "completed"
    },
    "tags": []
   },
   "outputs": [
    {
     "data": {
      "text/html": [
       "<div>\n",
       "<style scoped>\n",
       "    .dataframe tbody tr th:only-of-type {\n",
       "        vertical-align: middle;\n",
       "    }\n",
       "\n",
       "    .dataframe tbody tr th {\n",
       "        vertical-align: top;\n",
       "    }\n",
       "\n",
       "    .dataframe thead th {\n",
       "        text-align: right;\n",
       "    }\n",
       "</style>\n",
       "<table border=\"1\" class=\"dataframe\">\n",
       "  <thead>\n",
       "    <tr style=\"text-align: right;\">\n",
       "      <th></th>\n",
       "      <th>Pregnancies</th>\n",
       "      <th>Glucose</th>\n",
       "      <th>BloodPressure</th>\n",
       "      <th>SkinThickness</th>\n",
       "      <th>Insulin</th>\n",
       "      <th>BMI</th>\n",
       "      <th>DiabetesPedigreeFunction</th>\n",
       "      <th>Age</th>\n",
       "      <th>Outcome</th>\n",
       "    </tr>\n",
       "  </thead>\n",
       "  <tbody>\n",
       "    <tr>\n",
       "      <th>0</th>\n",
       "      <td>6</td>\n",
       "      <td>148</td>\n",
       "      <td>72</td>\n",
       "      <td>35</td>\n",
       "      <td>0</td>\n",
       "      <td>33.6</td>\n",
       "      <td>0.627</td>\n",
       "      <td>50</td>\n",
       "      <td>1</td>\n",
       "    </tr>\n",
       "    <tr>\n",
       "      <th>1</th>\n",
       "      <td>1</td>\n",
       "      <td>85</td>\n",
       "      <td>66</td>\n",
       "      <td>29</td>\n",
       "      <td>0</td>\n",
       "      <td>26.6</td>\n",
       "      <td>0.351</td>\n",
       "      <td>31</td>\n",
       "      <td>0</td>\n",
       "    </tr>\n",
       "    <tr>\n",
       "      <th>2</th>\n",
       "      <td>8</td>\n",
       "      <td>183</td>\n",
       "      <td>64</td>\n",
       "      <td>0</td>\n",
       "      <td>0</td>\n",
       "      <td>23.3</td>\n",
       "      <td>0.672</td>\n",
       "      <td>32</td>\n",
       "      <td>1</td>\n",
       "    </tr>\n",
       "    <tr>\n",
       "      <th>3</th>\n",
       "      <td>1</td>\n",
       "      <td>89</td>\n",
       "      <td>66</td>\n",
       "      <td>23</td>\n",
       "      <td>94</td>\n",
       "      <td>28.1</td>\n",
       "      <td>0.167</td>\n",
       "      <td>21</td>\n",
       "      <td>0</td>\n",
       "    </tr>\n",
       "    <tr>\n",
       "      <th>4</th>\n",
       "      <td>0</td>\n",
       "      <td>137</td>\n",
       "      <td>40</td>\n",
       "      <td>35</td>\n",
       "      <td>168</td>\n",
       "      <td>43.1</td>\n",
       "      <td>2.288</td>\n",
       "      <td>33</td>\n",
       "      <td>1</td>\n",
       "    </tr>\n",
       "  </tbody>\n",
       "</table>\n",
       "</div>"
      ],
      "text/plain": [
       "   Pregnancies  Glucose  BloodPressure  SkinThickness  Insulin   BMI  \\\n",
       "0            6      148             72             35        0  33.6   \n",
       "1            1       85             66             29        0  26.6   \n",
       "2            8      183             64              0        0  23.3   \n",
       "3            1       89             66             23       94  28.1   \n",
       "4            0      137             40             35      168  43.1   \n",
       "\n",
       "   DiabetesPedigreeFunction  Age  Outcome  \n",
       "0                     0.627   50        1  \n",
       "1                     0.351   31        0  \n",
       "2                     0.672   32        1  \n",
       "3                     0.167   21        0  \n",
       "4                     2.288   33        1  "
      ]
     },
     "execution_count": 2,
     "metadata": {},
     "output_type": "execute_result"
    }
   ],
   "source": [
    "df = pd.read_csv(\"/kaggle/input/pima-indians-diabetes-database/diabetes.csv\")\n",
    "df.head()"
   ]
  },
  {
   "cell_type": "code",
   "execution_count": 3,
   "id": "e5702d87",
   "metadata": {
    "execution": {
     "iopub.execute_input": "2023-08-14T14:46:19.430981Z",
     "iopub.status.busy": "2023-08-14T14:46:19.430596Z",
     "iopub.status.idle": "2023-08-14T14:46:19.457758Z",
     "shell.execute_reply": "2023-08-14T14:46:19.455902Z"
    },
    "papermill": {
     "duration": 0.0407,
     "end_time": "2023-08-14T14:46:19.460691",
     "exception": false,
     "start_time": "2023-08-14T14:46:19.419991",
     "status": "completed"
    },
    "tags": []
   },
   "outputs": [
    {
     "name": "stdout",
     "output_type": "stream",
     "text": [
      "<class 'pandas.core.frame.DataFrame'>\n",
      "RangeIndex: 768 entries, 0 to 767\n",
      "Data columns (total 9 columns):\n",
      " #   Column                    Non-Null Count  Dtype  \n",
      "---  ------                    --------------  -----  \n",
      " 0   Pregnancies               768 non-null    int64  \n",
      " 1   Glucose                   768 non-null    int64  \n",
      " 2   BloodPressure             768 non-null    int64  \n",
      " 3   SkinThickness             768 non-null    int64  \n",
      " 4   Insulin                   768 non-null    int64  \n",
      " 5   BMI                       768 non-null    float64\n",
      " 6   DiabetesPedigreeFunction  768 non-null    float64\n",
      " 7   Age                       768 non-null    int64  \n",
      " 8   Outcome                   768 non-null    int64  \n",
      "dtypes: float64(2), int64(7)\n",
      "memory usage: 54.1 KB\n"
     ]
    }
   ],
   "source": [
    "df.info()"
   ]
  },
  {
   "cell_type": "code",
   "execution_count": 4,
   "id": "4b494aa1",
   "metadata": {
    "execution": {
     "iopub.execute_input": "2023-08-14T14:46:19.481422Z",
     "iopub.status.busy": "2023-08-14T14:46:19.480590Z",
     "iopub.status.idle": "2023-08-14T14:46:19.487724Z",
     "shell.execute_reply": "2023-08-14T14:46:19.486708Z"
    },
    "papermill": {
     "duration": 0.02046,
     "end_time": "2023-08-14T14:46:19.490173",
     "exception": false,
     "start_time": "2023-08-14T14:46:19.469713",
     "status": "completed"
    },
    "tags": []
   },
   "outputs": [
    {
     "data": {
      "text/plain": [
       "(768, 9)"
      ]
     },
     "execution_count": 4,
     "metadata": {},
     "output_type": "execute_result"
    }
   ],
   "source": [
    "df.shape"
   ]
  },
  {
   "cell_type": "code",
   "execution_count": 5,
   "id": "d6cdc35d",
   "metadata": {
    "execution": {
     "iopub.execute_input": "2023-08-14T14:46:19.510984Z",
     "iopub.status.busy": "2023-08-14T14:46:19.510340Z",
     "iopub.status.idle": "2023-08-14T14:46:19.523304Z",
     "shell.execute_reply": "2023-08-14T14:46:19.521978Z"
    },
    "papermill": {
     "duration": 0.026275,
     "end_time": "2023-08-14T14:46:19.525790",
     "exception": false,
     "start_time": "2023-08-14T14:46:19.499515",
     "status": "completed"
    },
    "tags": []
   },
   "outputs": [
    {
     "data": {
      "text/plain": [
       "Pregnancies                 0.221898\n",
       "Glucose                     0.466581\n",
       "BloodPressure               0.065068\n",
       "SkinThickness               0.074752\n",
       "Insulin                     0.130548\n",
       "BMI                         0.292695\n",
       "DiabetesPedigreeFunction    0.173844\n",
       "Age                         0.238356\n",
       "Outcome                     1.000000\n",
       "Name: Outcome, dtype: float64"
      ]
     },
     "execution_count": 5,
     "metadata": {},
     "output_type": "execute_result"
    }
   ],
   "source": [
    "df.corr()['Outcome']"
   ]
  },
  {
   "cell_type": "code",
   "execution_count": 6,
   "id": "06448cb3",
   "metadata": {
    "execution": {
     "iopub.execute_input": "2023-08-14T14:46:19.549590Z",
     "iopub.status.busy": "2023-08-14T14:46:19.548859Z",
     "iopub.status.idle": "2023-08-14T14:46:19.555200Z",
     "shell.execute_reply": "2023-08-14T14:46:19.554253Z"
    },
    "papermill": {
     "duration": 0.021531,
     "end_time": "2023-08-14T14:46:19.558015",
     "exception": false,
     "start_time": "2023-08-14T14:46:19.536484",
     "status": "completed"
    },
    "tags": []
   },
   "outputs": [],
   "source": [
    "X = df.iloc[:,:-1].values\n",
    "y = df.iloc[:,-1].values"
   ]
  },
  {
   "cell_type": "code",
   "execution_count": 7,
   "id": "d5fceb1f",
   "metadata": {
    "execution": {
     "iopub.execute_input": "2023-08-14T14:46:19.579709Z",
     "iopub.status.busy": "2023-08-14T14:46:19.579030Z",
     "iopub.status.idle": "2023-08-14T14:46:19.586400Z",
     "shell.execute_reply": "2023-08-14T14:46:19.585248Z"
    },
    "papermill": {
     "duration": 0.02114,
     "end_time": "2023-08-14T14:46:19.588837",
     "exception": false,
     "start_time": "2023-08-14T14:46:19.567697",
     "status": "completed"
    },
    "tags": []
   },
   "outputs": [
    {
     "data": {
      "text/plain": [
       "(768,)"
      ]
     },
     "execution_count": 7,
     "metadata": {},
     "output_type": "execute_result"
    }
   ],
   "source": [
    "y.shape"
   ]
  },
  {
   "cell_type": "code",
   "execution_count": 8,
   "id": "a2e8b43c",
   "metadata": {
    "execution": {
     "iopub.execute_input": "2023-08-14T14:46:19.611384Z",
     "iopub.status.busy": "2023-08-14T14:46:19.610742Z",
     "iopub.status.idle": "2023-08-14T14:46:20.869904Z",
     "shell.execute_reply": "2023-08-14T14:46:20.868647Z"
    },
    "papermill": {
     "duration": 1.273196,
     "end_time": "2023-08-14T14:46:20.872919",
     "exception": false,
     "start_time": "2023-08-14T14:46:19.599723",
     "status": "completed"
    },
    "tags": []
   },
   "outputs": [
    {
     "name": "stderr",
     "output_type": "stream",
     "text": [
      "/opt/conda/lib/python3.10/site-packages/scipy/__init__.py:146: UserWarning: A NumPy version >=1.16.5 and <1.23.0 is required for this version of SciPy (detected version 1.23.5\n",
      "  warnings.warn(f\"A NumPy version >={np_minversion} and <{np_maxversion}\"\n"
     ]
    }
   ],
   "source": [
    "from sklearn.preprocessing import StandardScaler\n",
    "scaler = StandardScaler()"
   ]
  },
  {
   "cell_type": "code",
   "execution_count": 9,
   "id": "13f90af8",
   "metadata": {
    "execution": {
     "iopub.execute_input": "2023-08-14T14:46:20.894873Z",
     "iopub.status.busy": "2023-08-14T14:46:20.894134Z",
     "iopub.status.idle": "2023-08-14T14:46:20.901566Z",
     "shell.execute_reply": "2023-08-14T14:46:20.900257Z"
    },
    "papermill": {
     "duration": 0.021683,
     "end_time": "2023-08-14T14:46:20.904377",
     "exception": false,
     "start_time": "2023-08-14T14:46:20.882694",
     "status": "completed"
    },
    "tags": []
   },
   "outputs": [],
   "source": [
    "X = scaler.fit_transform(X)"
   ]
  },
  {
   "cell_type": "code",
   "execution_count": 10,
   "id": "2aabd1dc",
   "metadata": {
    "execution": {
     "iopub.execute_input": "2023-08-14T14:46:20.925859Z",
     "iopub.status.busy": "2023-08-14T14:46:20.925417Z",
     "iopub.status.idle": "2023-08-14T14:46:21.053695Z",
     "shell.execute_reply": "2023-08-14T14:46:21.052212Z"
    },
    "papermill": {
     "duration": 0.142472,
     "end_time": "2023-08-14T14:46:21.056777",
     "exception": false,
     "start_time": "2023-08-14T14:46:20.914305",
     "status": "completed"
    },
    "tags": []
   },
   "outputs": [],
   "source": [
    "from sklearn.model_selection import train_test_split\n",
    "X_train, X_test, y_train, y_test = train_test_split(X, y, test_size=0.2, random_state=40)"
   ]
  },
  {
   "cell_type": "code",
   "execution_count": 11,
   "id": "d9b73d55",
   "metadata": {
    "execution": {
     "iopub.execute_input": "2023-08-14T14:46:21.079041Z",
     "iopub.status.busy": "2023-08-14T14:46:21.078629Z",
     "iopub.status.idle": "2023-08-14T14:46:31.186886Z",
     "shell.execute_reply": "2023-08-14T14:46:31.185557Z"
    },
    "papermill": {
     "duration": 10.123137,
     "end_time": "2023-08-14T14:46:31.190326",
     "exception": false,
     "start_time": "2023-08-14T14:46:21.067189",
     "status": "completed"
    },
    "tags": []
   },
   "outputs": [
    {
     "name": "stderr",
     "output_type": "stream",
     "text": [
      "/opt/conda/lib/python3.10/site-packages/tensorflow_io/python/ops/__init__.py:98: UserWarning: unable to load libtensorflow_io_plugins.so: unable to open file: libtensorflow_io_plugins.so, from paths: ['/opt/conda/lib/python3.10/site-packages/tensorflow_io/python/ops/libtensorflow_io_plugins.so']\n",
      "caused by: ['/opt/conda/lib/python3.10/site-packages/tensorflow_io/python/ops/libtensorflow_io_plugins.so: undefined symbol: _ZN3tsl6StatusC1EN10tensorflow5error4CodeESt17basic_string_viewIcSt11char_traitsIcEENS_14SourceLocationE']\n",
      "  warnings.warn(f\"unable to load libtensorflow_io_plugins.so: {e}\")\n",
      "/opt/conda/lib/python3.10/site-packages/tensorflow_io/python/ops/__init__.py:104: UserWarning: file system plugins are not loaded: unable to open file: libtensorflow_io.so, from paths: ['/opt/conda/lib/python3.10/site-packages/tensorflow_io/python/ops/libtensorflow_io.so']\n",
      "caused by: ['/opt/conda/lib/python3.10/site-packages/tensorflow_io/python/ops/libtensorflow_io.so: undefined symbol: _ZTVN10tensorflow13GcsFileSystemE']\n",
      "  warnings.warn(f\"file system plugins are not loaded: {e}\")\n"
     ]
    }
   ],
   "source": [
    "import tensorflow\n",
    "from tensorflow import keras\n",
    "from keras import Sequential\n",
    "from keras.layers import Dense "
   ]
  },
  {
   "cell_type": "markdown",
   "id": "0d1ac0d6",
   "metadata": {
    "papermill": {
     "duration": 0.010899,
     "end_time": "2023-08-14T14:46:31.211785",
     "exception": false,
     "start_time": "2023-08-14T14:46:31.200886",
     "status": "completed"
    },
    "tags": []
   },
   "source": [
    "# General model"
   ]
  },
  {
   "cell_type": "code",
   "execution_count": 12,
   "id": "4f9ed7bc",
   "metadata": {
    "execution": {
     "iopub.execute_input": "2023-08-14T14:46:31.234676Z",
     "iopub.status.busy": "2023-08-14T14:46:31.232549Z",
     "iopub.status.idle": "2023-08-14T14:46:31.443621Z",
     "shell.execute_reply": "2023-08-14T14:46:31.441660Z"
    },
    "papermill": {
     "duration": 0.225338,
     "end_time": "2023-08-14T14:46:31.446733",
     "exception": false,
     "start_time": "2023-08-14T14:46:31.221395",
     "status": "completed"
    },
    "tags": []
   },
   "outputs": [],
   "source": [
    "model = Sequential()\n",
    "\n",
    "model.add(Dense(32, activation='relu', input_dim=8))\n",
    "model.add(Dense(1, activation='sigmoid'))"
   ]
  },
  {
   "cell_type": "code",
   "execution_count": 13,
   "id": "ae8a637f",
   "metadata": {
    "execution": {
     "iopub.execute_input": "2023-08-14T14:46:31.469000Z",
     "iopub.status.busy": "2023-08-14T14:46:31.468589Z",
     "iopub.status.idle": "2023-08-14T14:46:31.492236Z",
     "shell.execute_reply": "2023-08-14T14:46:31.490953Z"
    },
    "papermill": {
     "duration": 0.038416,
     "end_time": "2023-08-14T14:46:31.495413",
     "exception": false,
     "start_time": "2023-08-14T14:46:31.456997",
     "status": "completed"
    },
    "tags": []
   },
   "outputs": [],
   "source": [
    "model.compile(optimizer='Adam',loss='binary_crossentropy', metrics= ['accuracy'])"
   ]
  },
  {
   "cell_type": "code",
   "execution_count": 14,
   "id": "908753ec",
   "metadata": {
    "execution": {
     "iopub.execute_input": "2023-08-14T14:46:31.516683Z",
     "iopub.status.busy": "2023-08-14T14:46:31.516255Z",
     "iopub.status.idle": "2023-08-14T14:46:40.519223Z",
     "shell.execute_reply": "2023-08-14T14:46:40.517863Z"
    },
    "papermill": {
     "duration": 9.016835,
     "end_time": "2023-08-14T14:46:40.521963",
     "exception": false,
     "start_time": "2023-08-14T14:46:31.505128",
     "status": "completed"
    },
    "tags": []
   },
   "outputs": [
    {
     "name": "stdout",
     "output_type": "stream",
     "text": [
      "Epoch 1/100\n",
      "20/20 [==============================] - 1s 15ms/step - loss: 0.7207 - accuracy: 0.5244 - val_loss: 0.6954 - val_accuracy: 0.6039\n",
      "Epoch 2/100\n",
      "20/20 [==============================] - 0s 4ms/step - loss: 0.6635 - accuracy: 0.6368 - val_loss: 0.6555 - val_accuracy: 0.6299\n",
      "Epoch 3/100\n",
      "20/20 [==============================] - 0s 4ms/step - loss: 0.6208 - accuracy: 0.6922 - val_loss: 0.6236 - val_accuracy: 0.7013\n",
      "Epoch 4/100\n",
      "20/20 [==============================] - 0s 4ms/step - loss: 0.5871 - accuracy: 0.7296 - val_loss: 0.6002 - val_accuracy: 0.7078\n",
      "Epoch 5/100\n",
      "20/20 [==============================] - 0s 4ms/step - loss: 0.5618 - accuracy: 0.7394 - val_loss: 0.5831 - val_accuracy: 0.7273\n",
      "Epoch 6/100\n",
      "20/20 [==============================] - 0s 4ms/step - loss: 0.5411 - accuracy: 0.7573 - val_loss: 0.5670 - val_accuracy: 0.7208\n",
      "Epoch 7/100\n",
      "20/20 [==============================] - 0s 4ms/step - loss: 0.5235 - accuracy: 0.7606 - val_loss: 0.5551 - val_accuracy: 0.7208\n",
      "Epoch 8/100\n",
      "20/20 [==============================] - 0s 4ms/step - loss: 0.5098 - accuracy: 0.7720 - val_loss: 0.5447 - val_accuracy: 0.7208\n",
      "Epoch 9/100\n",
      "20/20 [==============================] - 0s 4ms/step - loss: 0.4987 - accuracy: 0.7687 - val_loss: 0.5369 - val_accuracy: 0.7143\n",
      "Epoch 10/100\n",
      "20/20 [==============================] - 0s 4ms/step - loss: 0.4895 - accuracy: 0.7736 - val_loss: 0.5307 - val_accuracy: 0.7273\n",
      "Epoch 11/100\n",
      "20/20 [==============================] - 0s 4ms/step - loss: 0.4827 - accuracy: 0.7818 - val_loss: 0.5250 - val_accuracy: 0.7338\n",
      "Epoch 12/100\n",
      "20/20 [==============================] - 0s 4ms/step - loss: 0.4766 - accuracy: 0.7899 - val_loss: 0.5205 - val_accuracy: 0.7403\n",
      "Epoch 13/100\n",
      "20/20 [==============================] - 0s 4ms/step - loss: 0.4720 - accuracy: 0.7915 - val_loss: 0.5173 - val_accuracy: 0.7468\n",
      "Epoch 14/100\n",
      "20/20 [==============================] - 0s 4ms/step - loss: 0.4680 - accuracy: 0.7964 - val_loss: 0.5138 - val_accuracy: 0.7468\n",
      "Epoch 15/100\n",
      "20/20 [==============================] - 0s 4ms/step - loss: 0.4641 - accuracy: 0.7964 - val_loss: 0.5125 - val_accuracy: 0.7403\n",
      "Epoch 16/100\n",
      "20/20 [==============================] - 0s 3ms/step - loss: 0.4610 - accuracy: 0.7899 - val_loss: 0.5106 - val_accuracy: 0.7532\n",
      "Epoch 17/100\n",
      "20/20 [==============================] - 0s 3ms/step - loss: 0.4588 - accuracy: 0.7980 - val_loss: 0.5066 - val_accuracy: 0.7532\n",
      "Epoch 18/100\n",
      "20/20 [==============================] - 0s 4ms/step - loss: 0.4560 - accuracy: 0.7980 - val_loss: 0.5034 - val_accuracy: 0.7662\n",
      "Epoch 19/100\n",
      "20/20 [==============================] - 0s 4ms/step - loss: 0.4539 - accuracy: 0.7997 - val_loss: 0.5044 - val_accuracy: 0.7727\n",
      "Epoch 20/100\n",
      "20/20 [==============================] - 0s 4ms/step - loss: 0.4522 - accuracy: 0.7997 - val_loss: 0.5025 - val_accuracy: 0.7727\n",
      "Epoch 21/100\n",
      "20/20 [==============================] - 0s 4ms/step - loss: 0.4502 - accuracy: 0.7980 - val_loss: 0.5019 - val_accuracy: 0.7727\n",
      "Epoch 22/100\n",
      "20/20 [==============================] - 0s 4ms/step - loss: 0.4492 - accuracy: 0.7964 - val_loss: 0.5005 - val_accuracy: 0.7597\n",
      "Epoch 23/100\n",
      "20/20 [==============================] - 0s 4ms/step - loss: 0.4479 - accuracy: 0.7997 - val_loss: 0.4980 - val_accuracy: 0.7597\n",
      "Epoch 24/100\n",
      "20/20 [==============================] - 0s 4ms/step - loss: 0.4466 - accuracy: 0.8013 - val_loss: 0.5008 - val_accuracy: 0.7727\n",
      "Epoch 25/100\n",
      "20/20 [==============================] - 0s 4ms/step - loss: 0.4447 - accuracy: 0.7997 - val_loss: 0.5003 - val_accuracy: 0.7597\n",
      "Epoch 26/100\n",
      "20/20 [==============================] - 0s 4ms/step - loss: 0.4437 - accuracy: 0.7997 - val_loss: 0.5025 - val_accuracy: 0.7662\n",
      "Epoch 27/100\n",
      "20/20 [==============================] - 0s 4ms/step - loss: 0.4428 - accuracy: 0.8029 - val_loss: 0.5035 - val_accuracy: 0.7662\n",
      "Epoch 28/100\n",
      "20/20 [==============================] - 0s 4ms/step - loss: 0.4417 - accuracy: 0.8013 - val_loss: 0.5032 - val_accuracy: 0.7727\n",
      "Epoch 29/100\n",
      "20/20 [==============================] - 0s 4ms/step - loss: 0.4414 - accuracy: 0.8046 - val_loss: 0.5008 - val_accuracy: 0.7597\n",
      "Epoch 30/100\n",
      "20/20 [==============================] - 0s 4ms/step - loss: 0.4403 - accuracy: 0.7997 - val_loss: 0.4997 - val_accuracy: 0.7597\n",
      "Epoch 31/100\n",
      "20/20 [==============================] - 0s 4ms/step - loss: 0.4393 - accuracy: 0.7997 - val_loss: 0.5012 - val_accuracy: 0.7597\n",
      "Epoch 32/100\n",
      "20/20 [==============================] - 0s 3ms/step - loss: 0.4384 - accuracy: 0.7997 - val_loss: 0.5007 - val_accuracy: 0.7662\n",
      "Epoch 33/100\n",
      "20/20 [==============================] - 0s 4ms/step - loss: 0.4379 - accuracy: 0.7980 - val_loss: 0.4999 - val_accuracy: 0.7597\n",
      "Epoch 34/100\n",
      "20/20 [==============================] - 0s 4ms/step - loss: 0.4368 - accuracy: 0.8029 - val_loss: 0.5006 - val_accuracy: 0.7662\n",
      "Epoch 35/100\n",
      "20/20 [==============================] - 0s 4ms/step - loss: 0.4363 - accuracy: 0.8013 - val_loss: 0.4992 - val_accuracy: 0.7662\n",
      "Epoch 36/100\n",
      "20/20 [==============================] - 0s 4ms/step - loss: 0.4359 - accuracy: 0.7964 - val_loss: 0.4993 - val_accuracy: 0.7662\n",
      "Epoch 37/100\n",
      "20/20 [==============================] - 0s 3ms/step - loss: 0.4350 - accuracy: 0.8046 - val_loss: 0.4991 - val_accuracy: 0.7662\n",
      "Epoch 38/100\n",
      "20/20 [==============================] - 0s 4ms/step - loss: 0.4344 - accuracy: 0.8046 - val_loss: 0.4990 - val_accuracy: 0.7662\n",
      "Epoch 39/100\n",
      "20/20 [==============================] - 0s 3ms/step - loss: 0.4341 - accuracy: 0.8029 - val_loss: 0.4962 - val_accuracy: 0.7597\n",
      "Epoch 40/100\n",
      "20/20 [==============================] - 0s 4ms/step - loss: 0.4332 - accuracy: 0.7980 - val_loss: 0.4980 - val_accuracy: 0.7532\n",
      "Epoch 41/100\n",
      "20/20 [==============================] - 0s 4ms/step - loss: 0.4319 - accuracy: 0.7997 - val_loss: 0.4991 - val_accuracy: 0.7597\n",
      "Epoch 42/100\n",
      "20/20 [==============================] - 0s 4ms/step - loss: 0.4318 - accuracy: 0.8029 - val_loss: 0.5007 - val_accuracy: 0.7662\n",
      "Epoch 43/100\n",
      "20/20 [==============================] - 0s 4ms/step - loss: 0.4312 - accuracy: 0.8013 - val_loss: 0.5008 - val_accuracy: 0.7662\n",
      "Epoch 44/100\n",
      "20/20 [==============================] - 0s 4ms/step - loss: 0.4310 - accuracy: 0.8046 - val_loss: 0.4996 - val_accuracy: 0.7662\n",
      "Epoch 45/100\n",
      "20/20 [==============================] - 0s 4ms/step - loss: 0.4299 - accuracy: 0.8013 - val_loss: 0.5008 - val_accuracy: 0.7662\n",
      "Epoch 46/100\n",
      "20/20 [==============================] - 0s 4ms/step - loss: 0.4292 - accuracy: 0.8013 - val_loss: 0.5010 - val_accuracy: 0.7662\n",
      "Epoch 47/100\n",
      "20/20 [==============================] - 0s 4ms/step - loss: 0.4288 - accuracy: 0.8013 - val_loss: 0.5011 - val_accuracy: 0.7662\n",
      "Epoch 48/100\n",
      "20/20 [==============================] - 0s 3ms/step - loss: 0.4285 - accuracy: 0.8013 - val_loss: 0.5017 - val_accuracy: 0.7662\n",
      "Epoch 49/100\n",
      "20/20 [==============================] - 0s 3ms/step - loss: 0.4278 - accuracy: 0.8013 - val_loss: 0.5029 - val_accuracy: 0.7662\n",
      "Epoch 50/100\n",
      "20/20 [==============================] - 0s 4ms/step - loss: 0.4277 - accuracy: 0.8013 - val_loss: 0.5038 - val_accuracy: 0.7662\n",
      "Epoch 51/100\n",
      "20/20 [==============================] - 0s 4ms/step - loss: 0.4266 - accuracy: 0.7980 - val_loss: 0.5011 - val_accuracy: 0.7662\n",
      "Epoch 52/100\n",
      "20/20 [==============================] - 0s 3ms/step - loss: 0.4264 - accuracy: 0.8013 - val_loss: 0.4998 - val_accuracy: 0.7662\n",
      "Epoch 53/100\n",
      "20/20 [==============================] - 0s 3ms/step - loss: 0.4257 - accuracy: 0.7980 - val_loss: 0.4990 - val_accuracy: 0.7662\n",
      "Epoch 54/100\n",
      "20/20 [==============================] - 0s 3ms/step - loss: 0.4252 - accuracy: 0.7997 - val_loss: 0.5010 - val_accuracy: 0.7662\n",
      "Epoch 55/100\n",
      "20/20 [==============================] - 0s 3ms/step - loss: 0.4251 - accuracy: 0.7980 - val_loss: 0.4992 - val_accuracy: 0.7662\n",
      "Epoch 56/100\n",
      "20/20 [==============================] - 0s 4ms/step - loss: 0.4243 - accuracy: 0.7997 - val_loss: 0.5006 - val_accuracy: 0.7662\n",
      "Epoch 57/100\n",
      "20/20 [==============================] - 0s 3ms/step - loss: 0.4237 - accuracy: 0.7980 - val_loss: 0.5022 - val_accuracy: 0.7662\n",
      "Epoch 58/100\n",
      "20/20 [==============================] - 0s 3ms/step - loss: 0.4231 - accuracy: 0.7997 - val_loss: 0.5027 - val_accuracy: 0.7662\n",
      "Epoch 59/100\n",
      "20/20 [==============================] - 0s 3ms/step - loss: 0.4227 - accuracy: 0.7964 - val_loss: 0.5022 - val_accuracy: 0.7662\n",
      "Epoch 60/100\n",
      "20/20 [==============================] - 0s 3ms/step - loss: 0.4226 - accuracy: 0.7980 - val_loss: 0.5036 - val_accuracy: 0.7662\n",
      "Epoch 61/100\n",
      "20/20 [==============================] - 0s 4ms/step - loss: 0.4222 - accuracy: 0.8029 - val_loss: 0.5022 - val_accuracy: 0.7597\n",
      "Epoch 62/100\n",
      "20/20 [==============================] - 0s 4ms/step - loss: 0.4218 - accuracy: 0.8029 - val_loss: 0.5018 - val_accuracy: 0.7597\n",
      "Epoch 63/100\n",
      "20/20 [==============================] - 0s 3ms/step - loss: 0.4207 - accuracy: 0.8046 - val_loss: 0.5014 - val_accuracy: 0.7597\n",
      "Epoch 64/100\n",
      "20/20 [==============================] - 0s 3ms/step - loss: 0.4206 - accuracy: 0.8062 - val_loss: 0.5025 - val_accuracy: 0.7597\n",
      "Epoch 65/100\n",
      "20/20 [==============================] - 0s 4ms/step - loss: 0.4204 - accuracy: 0.8046 - val_loss: 0.5033 - val_accuracy: 0.7662\n",
      "Epoch 66/100\n",
      "20/20 [==============================] - 0s 4ms/step - loss: 0.4199 - accuracy: 0.7997 - val_loss: 0.5013 - val_accuracy: 0.7597\n",
      "Epoch 67/100\n",
      "20/20 [==============================] - 0s 3ms/step - loss: 0.4193 - accuracy: 0.8013 - val_loss: 0.5035 - val_accuracy: 0.7662\n",
      "Epoch 68/100\n",
      "20/20 [==============================] - 0s 4ms/step - loss: 0.4193 - accuracy: 0.8062 - val_loss: 0.5026 - val_accuracy: 0.7662\n",
      "Epoch 69/100\n",
      "20/20 [==============================] - 0s 3ms/step - loss: 0.4185 - accuracy: 0.8046 - val_loss: 0.5034 - val_accuracy: 0.7662\n",
      "Epoch 70/100\n",
      "20/20 [==============================] - 0s 3ms/step - loss: 0.4180 - accuracy: 0.8046 - val_loss: 0.5026 - val_accuracy: 0.7662\n",
      "Epoch 71/100\n",
      "20/20 [==============================] - 0s 4ms/step - loss: 0.4183 - accuracy: 0.8046 - val_loss: 0.5047 - val_accuracy: 0.7662\n",
      "Epoch 72/100\n",
      "20/20 [==============================] - 0s 3ms/step - loss: 0.4171 - accuracy: 0.8094 - val_loss: 0.5025 - val_accuracy: 0.7468\n",
      "Epoch 73/100\n",
      "20/20 [==============================] - 0s 3ms/step - loss: 0.4174 - accuracy: 0.8029 - val_loss: 0.5012 - val_accuracy: 0.7532\n",
      "Epoch 74/100\n",
      "20/20 [==============================] - 0s 3ms/step - loss: 0.4164 - accuracy: 0.8029 - val_loss: 0.5029 - val_accuracy: 0.7597\n",
      "Epoch 75/100\n",
      "20/20 [==============================] - 0s 3ms/step - loss: 0.4163 - accuracy: 0.8062 - val_loss: 0.5032 - val_accuracy: 0.7597\n",
      "Epoch 76/100\n",
      "20/20 [==============================] - 0s 3ms/step - loss: 0.4156 - accuracy: 0.8062 - val_loss: 0.5039 - val_accuracy: 0.7532\n",
      "Epoch 77/100\n",
      "20/20 [==============================] - 0s 4ms/step - loss: 0.4151 - accuracy: 0.8127 - val_loss: 0.5040 - val_accuracy: 0.7532\n",
      "Epoch 78/100\n",
      "20/20 [==============================] - 0s 4ms/step - loss: 0.4148 - accuracy: 0.8127 - val_loss: 0.5040 - val_accuracy: 0.7468\n",
      "Epoch 79/100\n",
      "20/20 [==============================] - 0s 3ms/step - loss: 0.4145 - accuracy: 0.8094 - val_loss: 0.5059 - val_accuracy: 0.7468\n",
      "Epoch 80/100\n",
      "20/20 [==============================] - 0s 3ms/step - loss: 0.4145 - accuracy: 0.8029 - val_loss: 0.5073 - val_accuracy: 0.7468\n",
      "Epoch 81/100\n",
      "20/20 [==============================] - 0s 3ms/step - loss: 0.4138 - accuracy: 0.8078 - val_loss: 0.5069 - val_accuracy: 0.7468\n",
      "Epoch 82/100\n",
      "20/20 [==============================] - 0s 3ms/step - loss: 0.4136 - accuracy: 0.8062 - val_loss: 0.5087 - val_accuracy: 0.7468\n",
      "Epoch 83/100\n",
      "20/20 [==============================] - 0s 4ms/step - loss: 0.4137 - accuracy: 0.8078 - val_loss: 0.5068 - val_accuracy: 0.7468\n",
      "Epoch 84/100\n",
      "20/20 [==============================] - 0s 4ms/step - loss: 0.4127 - accuracy: 0.8094 - val_loss: 0.5084 - val_accuracy: 0.7468\n",
      "Epoch 85/100\n",
      "20/20 [==============================] - 0s 4ms/step - loss: 0.4131 - accuracy: 0.8094 - val_loss: 0.5042 - val_accuracy: 0.7468\n",
      "Epoch 86/100\n",
      "20/20 [==============================] - 0s 4ms/step - loss: 0.4121 - accuracy: 0.8078 - val_loss: 0.5063 - val_accuracy: 0.7468\n",
      "Epoch 87/100\n",
      "20/20 [==============================] - 0s 3ms/step - loss: 0.4118 - accuracy: 0.8111 - val_loss: 0.5055 - val_accuracy: 0.7468\n",
      "Epoch 88/100\n",
      "20/20 [==============================] - 0s 4ms/step - loss: 0.4115 - accuracy: 0.8127 - val_loss: 0.5068 - val_accuracy: 0.7532\n",
      "Epoch 89/100\n",
      "20/20 [==============================] - 0s 4ms/step - loss: 0.4115 - accuracy: 0.8094 - val_loss: 0.5065 - val_accuracy: 0.7468\n",
      "Epoch 90/100\n",
      "20/20 [==============================] - 0s 4ms/step - loss: 0.4112 - accuracy: 0.8078 - val_loss: 0.5087 - val_accuracy: 0.7532\n",
      "Epoch 91/100\n",
      "20/20 [==============================] - 0s 3ms/step - loss: 0.4107 - accuracy: 0.8127 - val_loss: 0.5064 - val_accuracy: 0.7468\n",
      "Epoch 92/100\n",
      "20/20 [==============================] - 0s 3ms/step - loss: 0.4107 - accuracy: 0.8078 - val_loss: 0.5052 - val_accuracy: 0.7468\n",
      "Epoch 93/100\n",
      "20/20 [==============================] - 0s 4ms/step - loss: 0.4096 - accuracy: 0.8127 - val_loss: 0.5071 - val_accuracy: 0.7468\n",
      "Epoch 94/100\n",
      "20/20 [==============================] - 0s 4ms/step - loss: 0.4096 - accuracy: 0.8127 - val_loss: 0.5106 - val_accuracy: 0.7532\n",
      "Epoch 95/100\n",
      "20/20 [==============================] - 0s 4ms/step - loss: 0.4089 - accuracy: 0.8160 - val_loss: 0.5102 - val_accuracy: 0.7532\n",
      "Epoch 96/100\n",
      "20/20 [==============================] - 0s 4ms/step - loss: 0.4087 - accuracy: 0.8127 - val_loss: 0.5086 - val_accuracy: 0.7532\n",
      "Epoch 97/100\n",
      "20/20 [==============================] - 0s 3ms/step - loss: 0.4088 - accuracy: 0.8143 - val_loss: 0.5074 - val_accuracy: 0.7597\n",
      "Epoch 98/100\n",
      "20/20 [==============================] - 0s 4ms/step - loss: 0.4080 - accuracy: 0.8127 - val_loss: 0.5101 - val_accuracy: 0.7532\n",
      "Epoch 99/100\n",
      "20/20 [==============================] - 0s 3ms/step - loss: 0.4080 - accuracy: 0.8127 - val_loss: 0.5106 - val_accuracy: 0.7532\n",
      "Epoch 100/100\n",
      "20/20 [==============================] - 0s 4ms/step - loss: 0.4074 - accuracy: 0.8111 - val_loss: 0.5103 - val_accuracy: 0.7597\n"
     ]
    },
    {
     "data": {
      "text/plain": [
       "<keras.callbacks.History at 0x793f04269a20>"
      ]
     },
     "execution_count": 14,
     "metadata": {},
     "output_type": "execute_result"
    }
   ],
   "source": [
    "model.fit(X_train, y_train, epochs=100, batch_size=32, validation_data=(X_test, y_test))"
   ]
  },
  {
   "cell_type": "markdown",
   "id": "72d38eb1",
   "metadata": {
    "papermill": {
     "duration": 0.036758,
     "end_time": "2023-08-14T14:46:40.596131",
     "exception": false,
     "start_time": "2023-08-14T14:46:40.559373",
     "status": "completed"
    },
    "tags": []
   },
   "source": [
    "# Keras Tuner\n",
    "KerasTuner is an easy-to-use, scalable hyperparameter optimization framework that solves the pain points of hyperparameter search."
   ]
  },
  {
   "cell_type": "markdown",
   "id": "31841692",
   "metadata": {
    "papermill": {
     "duration": 0.036517,
     "end_time": "2023-08-14T14:46:40.669584",
     "exception": false,
     "start_time": "2023-08-14T14:46:40.633067",
     "status": "completed"
    },
    "tags": []
   },
   "source": [
    "## Select optimizer"
   ]
  },
  {
   "cell_type": "markdown",
   "id": "40718f95",
   "metadata": {
    "papermill": {
     "duration": 0.037455,
     "end_time": "2023-08-14T14:46:40.744121",
     "exception": false,
     "start_time": "2023-08-14T14:46:40.706666",
     "status": "completed"
    },
    "tags": []
   },
   "source": [
    "https://keras.io/optimizers/"
   ]
  },
  {
   "cell_type": "code",
   "execution_count": 15,
   "id": "5b2c4113",
   "metadata": {
    "execution": {
     "iopub.execute_input": "2023-08-14T14:46:40.820394Z",
     "iopub.status.busy": "2023-08-14T14:46:40.819970Z",
     "iopub.status.idle": "2023-08-14T14:46:41.011870Z",
     "shell.execute_reply": "2023-08-14T14:46:41.010457Z"
    },
    "papermill": {
     "duration": 0.233785,
     "end_time": "2023-08-14T14:46:41.014784",
     "exception": false,
     "start_time": "2023-08-14T14:46:40.780999",
     "status": "completed"
    },
    "tags": []
   },
   "outputs": [],
   "source": [
    "import keras_tuner as kt"
   ]
  },
  {
   "cell_type": "code",
   "execution_count": 16,
   "id": "2ec3a1b0",
   "metadata": {
    "execution": {
     "iopub.execute_input": "2023-08-14T14:46:41.089919Z",
     "iopub.status.busy": "2023-08-14T14:46:41.088991Z",
     "iopub.status.idle": "2023-08-14T14:46:41.095998Z",
     "shell.execute_reply": "2023-08-14T14:46:41.094625Z"
    },
    "papermill": {
     "duration": 0.047893,
     "end_time": "2023-08-14T14:46:41.099015",
     "exception": false,
     "start_time": "2023-08-14T14:46:41.051122",
     "status": "completed"
    },
    "tags": []
   },
   "outputs": [],
   "source": [
    "def build_model(hp):\n",
    "    model = Sequential()\n",
    "\n",
    "    model.add(Dense(32, activation='relu', input_dim=8))\n",
    "    model.add(Dense(1, activation='sigmoid'))\n",
    "    \n",
    "    optimizer = hp.Choice('optimizer',['Adam', 'sgd', 'rmsprop', 'adadelta'])\n",
    "    model.compile(optimizer=optimizer, loss='binary_crossentropy', metrics= ['accuracy'])\n",
    "    \n",
    "    return model"
   ]
  },
  {
   "cell_type": "code",
   "execution_count": 17,
   "id": "543b9250",
   "metadata": {
    "execution": {
     "iopub.execute_input": "2023-08-14T14:46:41.173880Z",
     "iopub.status.busy": "2023-08-14T14:46:41.173459Z",
     "iopub.status.idle": "2023-08-14T14:46:41.215485Z",
     "shell.execute_reply": "2023-08-14T14:46:41.214246Z"
    },
    "papermill": {
     "duration": 0.082709,
     "end_time": "2023-08-14T14:46:41.218247",
     "exception": false,
     "start_time": "2023-08-14T14:46:41.135538",
     "status": "completed"
    },
    "tags": []
   },
   "outputs": [],
   "source": [
    "tuner = kt.RandomSearch(build_model, objective = 'val_accuracy', max_trials=5)"
   ]
  },
  {
   "cell_type": "code",
   "execution_count": 18,
   "id": "98e8d918",
   "metadata": {
    "execution": {
     "iopub.execute_input": "2023-08-14T14:46:41.294372Z",
     "iopub.status.busy": "2023-08-14T14:46:41.293029Z",
     "iopub.status.idle": "2023-08-14T14:46:48.596612Z",
     "shell.execute_reply": "2023-08-14T14:46:48.594554Z"
    },
    "papermill": {
     "duration": 7.344152,
     "end_time": "2023-08-14T14:46:48.599287",
     "exception": false,
     "start_time": "2023-08-14T14:46:41.255135",
     "status": "completed"
    },
    "tags": []
   },
   "outputs": [
    {
     "name": "stdout",
     "output_type": "stream",
     "text": [
      "Trial 4 Complete [00h 00m 02s]\n",
      "val_accuracy: 0.7337662577629089\n",
      "\n",
      "Best val_accuracy So Far: 0.7662337422370911\n",
      "Total elapsed time: 00h 00m 07s\n"
     ]
    }
   ],
   "source": [
    "tuner.search(X_train, y_train, epochs=5, validation_data=(X_test, y_test))"
   ]
  },
  {
   "cell_type": "code",
   "execution_count": 19,
   "id": "de624558",
   "metadata": {
    "execution": {
     "iopub.execute_input": "2023-08-14T14:46:48.676719Z",
     "iopub.status.busy": "2023-08-14T14:46:48.676321Z",
     "iopub.status.idle": "2023-08-14T14:46:48.683669Z",
     "shell.execute_reply": "2023-08-14T14:46:48.682433Z"
    },
    "papermill": {
     "duration": 0.049293,
     "end_time": "2023-08-14T14:46:48.686073",
     "exception": false,
     "start_time": "2023-08-14T14:46:48.636780",
     "status": "completed"
    },
    "tags": []
   },
   "outputs": [
    {
     "data": {
      "text/plain": [
       "{'optimizer': 'Adam'}"
      ]
     },
     "execution_count": 19,
     "metadata": {},
     "output_type": "execute_result"
    }
   ],
   "source": [
    "tuner.get_best_hyperparameters()[0].values"
   ]
  },
  {
   "cell_type": "code",
   "execution_count": 20,
   "id": "c5b5260a",
   "metadata": {
    "execution": {
     "iopub.execute_input": "2023-08-14T14:46:48.765377Z",
     "iopub.status.busy": "2023-08-14T14:46:48.764842Z",
     "iopub.status.idle": "2023-08-14T14:46:49.129327Z",
     "shell.execute_reply": "2023-08-14T14:46:49.128248Z"
    },
    "papermill": {
     "duration": 0.408443,
     "end_time": "2023-08-14T14:46:49.132127",
     "exception": false,
     "start_time": "2023-08-14T14:46:48.723684",
     "status": "completed"
    },
    "tags": []
   },
   "outputs": [],
   "source": [
    "model = tuner.get_best_models(num_models=1)[0]"
   ]
  },
  {
   "cell_type": "code",
   "execution_count": 21,
   "id": "445a61cd",
   "metadata": {
    "execution": {
     "iopub.execute_input": "2023-08-14T14:46:49.209591Z",
     "iopub.status.busy": "2023-08-14T14:46:49.209192Z",
     "iopub.status.idle": "2023-08-14T14:46:49.230590Z",
     "shell.execute_reply": "2023-08-14T14:46:49.229149Z"
    },
    "papermill": {
     "duration": 0.066188,
     "end_time": "2023-08-14T14:46:49.236010",
     "exception": false,
     "start_time": "2023-08-14T14:46:49.169822",
     "status": "completed"
    },
    "tags": []
   },
   "outputs": [
    {
     "name": "stdout",
     "output_type": "stream",
     "text": [
      "Model: \"sequential\"\n",
      "_________________________________________________________________\n",
      " Layer (type)                Output Shape              Param #   \n",
      "=================================================================\n",
      " dense (Dense)               (None, 32)                288       \n",
      "                                                                 \n",
      " dense_1 (Dense)             (None, 1)                 33        \n",
      "                                                                 \n",
      "=================================================================\n",
      "Total params: 321\n",
      "Trainable params: 321\n",
      "Non-trainable params: 0\n",
      "_________________________________________________________________\n"
     ]
    }
   ],
   "source": [
    "model.summary()"
   ]
  },
  {
   "cell_type": "code",
   "execution_count": 22,
   "id": "a01e5400",
   "metadata": {
    "execution": {
     "iopub.execute_input": "2023-08-14T14:46:49.314648Z",
     "iopub.status.busy": "2023-08-14T14:46:49.314221Z",
     "iopub.status.idle": "2023-08-14T14:46:57.621954Z",
     "shell.execute_reply": "2023-08-14T14:46:57.620692Z"
    },
    "papermill": {
     "duration": 8.350123,
     "end_time": "2023-08-14T14:46:57.624697",
     "exception": false,
     "start_time": "2023-08-14T14:46:49.274574",
     "status": "completed"
    },
    "tags": []
   },
   "outputs": [
    {
     "name": "stdout",
     "output_type": "stream",
     "text": [
      "Epoch 7/100\n",
      "20/20 [==============================] - 1s 13ms/step - loss: 0.5280 - accuracy: 0.7557 - val_loss: 0.5244 - val_accuracy: 0.7922\n",
      "Epoch 8/100\n",
      "20/20 [==============================] - 0s 4ms/step - loss: 0.5100 - accuracy: 0.7606 - val_loss: 0.5152 - val_accuracy: 0.8052\n",
      "Epoch 9/100\n",
      "20/20 [==============================] - 0s 4ms/step - loss: 0.4976 - accuracy: 0.7720 - val_loss: 0.5091 - val_accuracy: 0.7922\n",
      "Epoch 10/100\n",
      "20/20 [==============================] - 0s 4ms/step - loss: 0.4881 - accuracy: 0.7769 - val_loss: 0.5040 - val_accuracy: 0.7792\n",
      "Epoch 11/100\n",
      "20/20 [==============================] - 0s 4ms/step - loss: 0.4803 - accuracy: 0.7752 - val_loss: 0.5010 - val_accuracy: 0.7857\n",
      "Epoch 12/100\n",
      "20/20 [==============================] - 0s 4ms/step - loss: 0.4742 - accuracy: 0.7834 - val_loss: 0.5004 - val_accuracy: 0.7727\n",
      "Epoch 13/100\n",
      "20/20 [==============================] - 0s 4ms/step - loss: 0.4695 - accuracy: 0.7818 - val_loss: 0.4982 - val_accuracy: 0.7662\n",
      "Epoch 14/100\n",
      "20/20 [==============================] - 0s 4ms/step - loss: 0.4652 - accuracy: 0.7769 - val_loss: 0.4968 - val_accuracy: 0.7662\n",
      "Epoch 15/100\n",
      "20/20 [==============================] - 0s 4ms/step - loss: 0.4617 - accuracy: 0.7736 - val_loss: 0.4944 - val_accuracy: 0.7857\n",
      "Epoch 16/100\n",
      "20/20 [==============================] - 0s 4ms/step - loss: 0.4593 - accuracy: 0.7769 - val_loss: 0.4949 - val_accuracy: 0.7792\n",
      "Epoch 17/100\n",
      "20/20 [==============================] - 0s 4ms/step - loss: 0.4564 - accuracy: 0.7801 - val_loss: 0.4930 - val_accuracy: 0.7792\n",
      "Epoch 18/100\n",
      "20/20 [==============================] - 0s 4ms/step - loss: 0.4543 - accuracy: 0.7801 - val_loss: 0.4930 - val_accuracy: 0.7857\n",
      "Epoch 19/100\n",
      "20/20 [==============================] - 0s 4ms/step - loss: 0.4523 - accuracy: 0.7818 - val_loss: 0.4937 - val_accuracy: 0.7857\n",
      "Epoch 20/100\n",
      "20/20 [==============================] - 0s 4ms/step - loss: 0.4506 - accuracy: 0.7818 - val_loss: 0.4936 - val_accuracy: 0.7857\n",
      "Epoch 21/100\n",
      "20/20 [==============================] - 0s 4ms/step - loss: 0.4491 - accuracy: 0.7834 - val_loss: 0.4940 - val_accuracy: 0.7857\n",
      "Epoch 22/100\n",
      "20/20 [==============================] - 0s 4ms/step - loss: 0.4473 - accuracy: 0.7866 - val_loss: 0.4924 - val_accuracy: 0.7857\n",
      "Epoch 23/100\n",
      "20/20 [==============================] - 0s 4ms/step - loss: 0.4473 - accuracy: 0.7850 - val_loss: 0.4924 - val_accuracy: 0.7662\n",
      "Epoch 24/100\n",
      "20/20 [==============================] - 0s 4ms/step - loss: 0.4449 - accuracy: 0.7915 - val_loss: 0.4928 - val_accuracy: 0.7792\n",
      "Epoch 25/100\n",
      "20/20 [==============================] - 0s 4ms/step - loss: 0.4440 - accuracy: 0.7883 - val_loss: 0.4916 - val_accuracy: 0.7857\n",
      "Epoch 26/100\n",
      "20/20 [==============================] - 0s 3ms/step - loss: 0.4427 - accuracy: 0.7915 - val_loss: 0.4917 - val_accuracy: 0.7792\n",
      "Epoch 27/100\n",
      "20/20 [==============================] - 0s 4ms/step - loss: 0.4418 - accuracy: 0.7866 - val_loss: 0.4906 - val_accuracy: 0.7857\n",
      "Epoch 28/100\n",
      "20/20 [==============================] - 0s 4ms/step - loss: 0.4409 - accuracy: 0.7883 - val_loss: 0.4921 - val_accuracy: 0.7727\n",
      "Epoch 29/100\n",
      "20/20 [==============================] - 0s 4ms/step - loss: 0.4396 - accuracy: 0.7866 - val_loss: 0.4915 - val_accuracy: 0.7727\n",
      "Epoch 30/100\n",
      "20/20 [==============================] - 0s 4ms/step - loss: 0.4389 - accuracy: 0.7866 - val_loss: 0.4917 - val_accuracy: 0.7727\n",
      "Epoch 31/100\n",
      "20/20 [==============================] - 0s 4ms/step - loss: 0.4382 - accuracy: 0.7834 - val_loss: 0.4928 - val_accuracy: 0.7727\n",
      "Epoch 32/100\n",
      "20/20 [==============================] - 0s 5ms/step - loss: 0.4369 - accuracy: 0.7899 - val_loss: 0.4935 - val_accuracy: 0.7792\n",
      "Epoch 33/100\n",
      "20/20 [==============================] - 0s 4ms/step - loss: 0.4365 - accuracy: 0.7866 - val_loss: 0.4933 - val_accuracy: 0.7727\n",
      "Epoch 34/100\n",
      "20/20 [==============================] - 0s 4ms/step - loss: 0.4351 - accuracy: 0.7899 - val_loss: 0.4937 - val_accuracy: 0.7662\n",
      "Epoch 35/100\n",
      "20/20 [==============================] - 0s 4ms/step - loss: 0.4345 - accuracy: 0.7899 - val_loss: 0.4919 - val_accuracy: 0.7792\n",
      "Epoch 36/100\n",
      "20/20 [==============================] - 0s 4ms/step - loss: 0.4339 - accuracy: 0.7850 - val_loss: 0.4912 - val_accuracy: 0.7727\n",
      "Epoch 37/100\n",
      "20/20 [==============================] - 0s 4ms/step - loss: 0.4331 - accuracy: 0.7883 - val_loss: 0.4922 - val_accuracy: 0.7727\n",
      "Epoch 38/100\n",
      "20/20 [==============================] - 0s 4ms/step - loss: 0.4322 - accuracy: 0.7932 - val_loss: 0.4935 - val_accuracy: 0.7727\n",
      "Epoch 39/100\n",
      "20/20 [==============================] - 0s 4ms/step - loss: 0.4314 - accuracy: 0.7915 - val_loss: 0.4937 - val_accuracy: 0.7727\n",
      "Epoch 40/100\n",
      "20/20 [==============================] - 0s 4ms/step - loss: 0.4304 - accuracy: 0.7932 - val_loss: 0.4942 - val_accuracy: 0.7727\n",
      "Epoch 41/100\n",
      "20/20 [==============================] - 0s 4ms/step - loss: 0.4294 - accuracy: 0.7899 - val_loss: 0.4931 - val_accuracy: 0.7727\n",
      "Epoch 42/100\n",
      "20/20 [==============================] - 0s 4ms/step - loss: 0.4292 - accuracy: 0.7899 - val_loss: 0.4945 - val_accuracy: 0.7662\n",
      "Epoch 43/100\n",
      "20/20 [==============================] - 0s 3ms/step - loss: 0.4284 - accuracy: 0.7915 - val_loss: 0.4936 - val_accuracy: 0.7727\n",
      "Epoch 44/100\n",
      "20/20 [==============================] - 0s 4ms/step - loss: 0.4277 - accuracy: 0.7883 - val_loss: 0.4931 - val_accuracy: 0.7727\n",
      "Epoch 45/100\n",
      "20/20 [==============================] - 0s 4ms/step - loss: 0.4275 - accuracy: 0.7899 - val_loss: 0.4928 - val_accuracy: 0.7727\n",
      "Epoch 46/100\n",
      "20/20 [==============================] - 0s 4ms/step - loss: 0.4269 - accuracy: 0.7915 - val_loss: 0.4950 - val_accuracy: 0.7662\n",
      "Epoch 47/100\n",
      "20/20 [==============================] - 0s 4ms/step - loss: 0.4255 - accuracy: 0.7948 - val_loss: 0.4948 - val_accuracy: 0.7662\n",
      "Epoch 48/100\n",
      "20/20 [==============================] - 0s 4ms/step - loss: 0.4258 - accuracy: 0.7948 - val_loss: 0.4934 - val_accuracy: 0.7597\n",
      "Epoch 49/100\n",
      "20/20 [==============================] - 0s 4ms/step - loss: 0.4245 - accuracy: 0.7948 - val_loss: 0.4936 - val_accuracy: 0.7597\n",
      "Epoch 50/100\n",
      "20/20 [==============================] - 0s 3ms/step - loss: 0.4235 - accuracy: 0.7964 - val_loss: 0.4944 - val_accuracy: 0.7597\n",
      "Epoch 51/100\n",
      "20/20 [==============================] - 0s 4ms/step - loss: 0.4228 - accuracy: 0.7915 - val_loss: 0.4925 - val_accuracy: 0.7597\n",
      "Epoch 52/100\n",
      "20/20 [==============================] - 0s 4ms/step - loss: 0.4227 - accuracy: 0.7932 - val_loss: 0.4936 - val_accuracy: 0.7662\n",
      "Epoch 53/100\n",
      "20/20 [==============================] - 0s 4ms/step - loss: 0.4215 - accuracy: 0.7948 - val_loss: 0.4929 - val_accuracy: 0.7662\n",
      "Epoch 54/100\n",
      "20/20 [==============================] - 0s 4ms/step - loss: 0.4210 - accuracy: 0.7948 - val_loss: 0.4935 - val_accuracy: 0.7662\n",
      "Epoch 55/100\n",
      "20/20 [==============================] - 0s 3ms/step - loss: 0.4202 - accuracy: 0.7980 - val_loss: 0.4920 - val_accuracy: 0.7662\n",
      "Epoch 56/100\n",
      "20/20 [==============================] - 0s 4ms/step - loss: 0.4196 - accuracy: 0.7980 - val_loss: 0.4923 - val_accuracy: 0.7597\n",
      "Epoch 57/100\n",
      "20/20 [==============================] - 0s 4ms/step - loss: 0.4193 - accuracy: 0.7964 - val_loss: 0.4928 - val_accuracy: 0.7597\n",
      "Epoch 58/100\n",
      "20/20 [==============================] - 0s 4ms/step - loss: 0.4184 - accuracy: 0.8029 - val_loss: 0.4932 - val_accuracy: 0.7468\n",
      "Epoch 59/100\n",
      "20/20 [==============================] - 0s 4ms/step - loss: 0.4178 - accuracy: 0.8013 - val_loss: 0.4946 - val_accuracy: 0.7532\n",
      "Epoch 60/100\n",
      "20/20 [==============================] - 0s 4ms/step - loss: 0.4176 - accuracy: 0.8013 - val_loss: 0.4944 - val_accuracy: 0.7468\n",
      "Epoch 61/100\n",
      "20/20 [==============================] - 0s 4ms/step - loss: 0.4168 - accuracy: 0.7980 - val_loss: 0.4969 - val_accuracy: 0.7597\n",
      "Epoch 62/100\n",
      "20/20 [==============================] - 0s 4ms/step - loss: 0.4160 - accuracy: 0.8013 - val_loss: 0.4963 - val_accuracy: 0.7597\n",
      "Epoch 63/100\n",
      "20/20 [==============================] - 0s 4ms/step - loss: 0.4153 - accuracy: 0.8013 - val_loss: 0.4956 - val_accuracy: 0.7403\n",
      "Epoch 64/100\n",
      "20/20 [==============================] - 0s 4ms/step - loss: 0.4147 - accuracy: 0.8046 - val_loss: 0.4964 - val_accuracy: 0.7597\n",
      "Epoch 65/100\n",
      "20/20 [==============================] - 0s 4ms/step - loss: 0.4149 - accuracy: 0.8013 - val_loss: 0.4963 - val_accuracy: 0.7468\n",
      "Epoch 66/100\n",
      "20/20 [==============================] - 0s 4ms/step - loss: 0.4138 - accuracy: 0.8013 - val_loss: 0.4972 - val_accuracy: 0.7468\n",
      "Epoch 67/100\n",
      "20/20 [==============================] - 0s 4ms/step - loss: 0.4134 - accuracy: 0.8029 - val_loss: 0.4971 - val_accuracy: 0.7532\n",
      "Epoch 68/100\n",
      "20/20 [==============================] - 0s 3ms/step - loss: 0.4125 - accuracy: 0.8062 - val_loss: 0.4939 - val_accuracy: 0.7532\n",
      "Epoch 69/100\n",
      "20/20 [==============================] - 0s 4ms/step - loss: 0.4118 - accuracy: 0.8078 - val_loss: 0.4951 - val_accuracy: 0.7532\n",
      "Epoch 70/100\n",
      "20/20 [==============================] - 0s 3ms/step - loss: 0.4116 - accuracy: 0.8062 - val_loss: 0.4957 - val_accuracy: 0.7597\n",
      "Epoch 71/100\n",
      "20/20 [==============================] - 0s 4ms/step - loss: 0.4110 - accuracy: 0.8078 - val_loss: 0.4951 - val_accuracy: 0.7532\n",
      "Epoch 72/100\n",
      "20/20 [==============================] - 0s 4ms/step - loss: 0.4109 - accuracy: 0.8094 - val_loss: 0.4967 - val_accuracy: 0.7532\n",
      "Epoch 73/100\n",
      "20/20 [==============================] - 0s 4ms/step - loss: 0.4103 - accuracy: 0.8094 - val_loss: 0.4945 - val_accuracy: 0.7597\n",
      "Epoch 74/100\n",
      "20/20 [==============================] - 0s 4ms/step - loss: 0.4094 - accuracy: 0.8111 - val_loss: 0.4961 - val_accuracy: 0.7662\n",
      "Epoch 75/100\n",
      "20/20 [==============================] - 0s 4ms/step - loss: 0.4093 - accuracy: 0.8111 - val_loss: 0.4974 - val_accuracy: 0.7532\n",
      "Epoch 76/100\n",
      "20/20 [==============================] - 0s 3ms/step - loss: 0.4091 - accuracy: 0.8127 - val_loss: 0.4964 - val_accuracy: 0.7597\n",
      "Epoch 77/100\n",
      "20/20 [==============================] - 0s 4ms/step - loss: 0.4078 - accuracy: 0.8111 - val_loss: 0.4986 - val_accuracy: 0.7597\n",
      "Epoch 78/100\n",
      "20/20 [==============================] - 0s 4ms/step - loss: 0.4074 - accuracy: 0.8111 - val_loss: 0.4972 - val_accuracy: 0.7662\n",
      "Epoch 79/100\n",
      "20/20 [==============================] - 0s 4ms/step - loss: 0.4068 - accuracy: 0.8143 - val_loss: 0.4971 - val_accuracy: 0.7597\n",
      "Epoch 80/100\n",
      "20/20 [==============================] - 0s 4ms/step - loss: 0.4065 - accuracy: 0.8127 - val_loss: 0.4999 - val_accuracy: 0.7662\n",
      "Epoch 81/100\n",
      "20/20 [==============================] - 0s 3ms/step - loss: 0.4061 - accuracy: 0.8160 - val_loss: 0.5001 - val_accuracy: 0.7597\n",
      "Epoch 82/100\n",
      "20/20 [==============================] - 0s 3ms/step - loss: 0.4054 - accuracy: 0.8111 - val_loss: 0.4986 - val_accuracy: 0.7597\n",
      "Epoch 83/100\n",
      "20/20 [==============================] - 0s 3ms/step - loss: 0.4057 - accuracy: 0.8111 - val_loss: 0.5002 - val_accuracy: 0.7597\n",
      "Epoch 84/100\n",
      "20/20 [==============================] - 0s 3ms/step - loss: 0.4046 - accuracy: 0.8127 - val_loss: 0.4992 - val_accuracy: 0.7532\n",
      "Epoch 85/100\n",
      "20/20 [==============================] - 0s 4ms/step - loss: 0.4055 - accuracy: 0.8078 - val_loss: 0.5003 - val_accuracy: 0.7597\n",
      "Epoch 86/100\n",
      "20/20 [==============================] - 0s 4ms/step - loss: 0.4037 - accuracy: 0.8078 - val_loss: 0.5024 - val_accuracy: 0.7403\n",
      "Epoch 87/100\n",
      "20/20 [==============================] - 0s 4ms/step - loss: 0.4037 - accuracy: 0.8111 - val_loss: 0.5024 - val_accuracy: 0.7403\n",
      "Epoch 88/100\n",
      "20/20 [==============================] - 0s 4ms/step - loss: 0.4033 - accuracy: 0.8094 - val_loss: 0.5027 - val_accuracy: 0.7532\n",
      "Epoch 89/100\n",
      "20/20 [==============================] - 0s 4ms/step - loss: 0.4027 - accuracy: 0.8160 - val_loss: 0.5028 - val_accuracy: 0.7597\n",
      "Epoch 90/100\n",
      "20/20 [==============================] - 0s 4ms/step - loss: 0.4018 - accuracy: 0.8160 - val_loss: 0.5011 - val_accuracy: 0.7597\n",
      "Epoch 91/100\n",
      "20/20 [==============================] - 0s 3ms/step - loss: 0.4024 - accuracy: 0.8094 - val_loss: 0.5018 - val_accuracy: 0.7468\n",
      "Epoch 92/100\n",
      "20/20 [==============================] - 0s 4ms/step - loss: 0.4019 - accuracy: 0.8160 - val_loss: 0.5032 - val_accuracy: 0.7532\n",
      "Epoch 93/100\n",
      "20/20 [==============================] - 0s 4ms/step - loss: 0.4008 - accuracy: 0.8127 - val_loss: 0.5041 - val_accuracy: 0.7662\n",
      "Epoch 94/100\n",
      "20/20 [==============================] - 0s 4ms/step - loss: 0.4002 - accuracy: 0.8160 - val_loss: 0.5055 - val_accuracy: 0.7662\n",
      "Epoch 95/100\n",
      "20/20 [==============================] - 0s 4ms/step - loss: 0.4000 - accuracy: 0.8143 - val_loss: 0.5043 - val_accuracy: 0.7662\n",
      "Epoch 96/100\n",
      "20/20 [==============================] - 0s 4ms/step - loss: 0.3994 - accuracy: 0.8160 - val_loss: 0.5006 - val_accuracy: 0.7532\n",
      "Epoch 97/100\n",
      "20/20 [==============================] - 0s 3ms/step - loss: 0.4004 - accuracy: 0.8127 - val_loss: 0.5013 - val_accuracy: 0.7338\n",
      "Epoch 98/100\n",
      "20/20 [==============================] - 0s 4ms/step - loss: 0.3988 - accuracy: 0.8160 - val_loss: 0.5042 - val_accuracy: 0.7727\n",
      "Epoch 99/100\n",
      "20/20 [==============================] - 0s 4ms/step - loss: 0.3994 - accuracy: 0.8111 - val_loss: 0.5047 - val_accuracy: 0.7727\n",
      "Epoch 100/100\n",
      "20/20 [==============================] - 0s 4ms/step - loss: 0.3979 - accuracy: 0.8176 - val_loss: 0.5029 - val_accuracy: 0.7532\n"
     ]
    },
    {
     "data": {
      "text/plain": [
       "<keras.callbacks.History at 0x793efc67b1f0>"
      ]
     },
     "execution_count": 22,
     "metadata": {},
     "output_type": "execute_result"
    }
   ],
   "source": [
    "model.fit(X_train, y_train, epochs=100, batch_size=32, initial_epoch=6, validation_data=(X_test, y_test))"
   ]
  }
 ],
 "metadata": {
  "kernelspec": {
   "display_name": "Python 3",
   "language": "python",
   "name": "python3"
  },
  "language_info": {
   "codemirror_mode": {
    "name": "ipython",
    "version": 3
   },
   "file_extension": ".py",
   "mimetype": "text/x-python",
   "name": "python",
   "nbconvert_exporter": "python",
   "pygments_lexer": "ipython3",
   "version": "3.10.12"
  },
  "papermill": {
   "default_parameters": {},
   "duration": 55.701866,
   "end_time": "2023-08-14T14:47:00.766518",
   "environment_variables": {},
   "exception": null,
   "input_path": "__notebook__.ipynb",
   "output_path": "__notebook__.ipynb",
   "parameters": {},
   "start_time": "2023-08-14T14:46:05.064652",
   "version": "2.4.0"
  }
 },
 "nbformat": 4,
 "nbformat_minor": 5
}
