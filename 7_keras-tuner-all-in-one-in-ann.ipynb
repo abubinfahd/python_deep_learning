{
 "cells": [
  {
   "cell_type": "code",
   "execution_count": 1,
   "id": "843ea236",
   "metadata": {
    "_cell_guid": "b1076dfc-b9ad-4769-8c92-a6c4dae69d19",
    "_uuid": "8f2839f25d086af736a60e9eeb907d3b93b6e0e5",
    "execution": {
     "iopub.execute_input": "2023-08-16T16:24:02.876355Z",
     "iopub.status.busy": "2023-08-16T16:24:02.875916Z",
     "iopub.status.idle": "2023-08-16T16:24:02.898288Z",
     "shell.execute_reply": "2023-08-16T16:24:02.896635Z"
    },
    "papermill": {
     "duration": 0.041082,
     "end_time": "2023-08-16T16:24:02.900744",
     "exception": false,
     "start_time": "2023-08-16T16:24:02.859662",
     "status": "completed"
    },
    "tags": []
   },
   "outputs": [
    {
     "name": "stdout",
     "output_type": "stream",
     "text": [
      "/kaggle/input/pima-indians-diabetes-database/diabetes.csv\n"
     ]
    }
   ],
   "source": [
    "# This Python 3 environment comes with many helpful analytics libraries installed\n",
    "# It is defined by the kaggle/python Docker image: https://github.com/kaggle/docker-python\n",
    "# For example, here's several helpful packages to load\n",
    "\n",
    "import numpy as np # linear algebra\n",
    "import pandas as pd # data processing, CSV file I/O (e.g. pd.read_csv)\n",
    "\n",
    "# Input data files are available in the read-only \"../input/\" directory\n",
    "# For example, running this (by clicking run or pressing Shift+Enter) will list all files under the input directory\n",
    "\n",
    "import os\n",
    "for dirname, _, filenames in os.walk('/kaggle/input'):\n",
    "    for filename in filenames:\n",
    "        print(os.path.join(dirname, filename))\n",
    "\n",
    "# You can write up to 20GB to the current directory (/kaggle/working/) that gets preserved as output when you create a version using \"Save & Run All\" \n",
    "# You can also write temporary files to /kaggle/temp/, but they won't be saved outside of the current session"
   ]
  },
  {
   "cell_type": "markdown",
   "id": "b027204e",
   "metadata": {
    "papermill": {
     "duration": 0.013221,
     "end_time": "2023-08-16T16:24:02.927679",
     "exception": false,
     "start_time": "2023-08-16T16:24:02.914458",
     "status": "completed"
    },
    "tags": []
   },
   "source": [
    "# Read data"
   ]
  },
  {
   "cell_type": "code",
   "execution_count": 2,
   "id": "b9a1fd7b",
   "metadata": {
    "execution": {
     "iopub.execute_input": "2023-08-16T16:24:02.958485Z",
     "iopub.status.busy": "2023-08-16T16:24:02.958054Z",
     "iopub.status.idle": "2023-08-16T16:24:02.963482Z",
     "shell.execute_reply": "2023-08-16T16:24:02.962307Z"
    },
    "papermill": {
     "duration": 0.024644,
     "end_time": "2023-08-16T16:24:02.966310",
     "exception": false,
     "start_time": "2023-08-16T16:24:02.941666",
     "status": "completed"
    },
    "tags": []
   },
   "outputs": [],
   "source": [
    "import warnings\n",
    "warnings.filterwarnings(\"ignore\")"
   ]
  },
  {
   "cell_type": "code",
   "execution_count": 3,
   "id": "2c2d1859",
   "metadata": {
    "execution": {
     "iopub.execute_input": "2023-08-16T16:24:02.996804Z",
     "iopub.status.busy": "2023-08-16T16:24:02.996372Z",
     "iopub.status.idle": "2023-08-16T16:24:03.044207Z",
     "shell.execute_reply": "2023-08-16T16:24:03.043058Z"
    },
    "papermill": {
     "duration": 0.066133,
     "end_time": "2023-08-16T16:24:03.046584",
     "exception": false,
     "start_time": "2023-08-16T16:24:02.980451",
     "status": "completed"
    },
    "tags": []
   },
   "outputs": [
    {
     "data": {
      "text/html": [
       "<div>\n",
       "<style scoped>\n",
       "    .dataframe tbody tr th:only-of-type {\n",
       "        vertical-align: middle;\n",
       "    }\n",
       "\n",
       "    .dataframe tbody tr th {\n",
       "        vertical-align: top;\n",
       "    }\n",
       "\n",
       "    .dataframe thead th {\n",
       "        text-align: right;\n",
       "    }\n",
       "</style>\n",
       "<table border=\"1\" class=\"dataframe\">\n",
       "  <thead>\n",
       "    <tr style=\"text-align: right;\">\n",
       "      <th></th>\n",
       "      <th>Pregnancies</th>\n",
       "      <th>Glucose</th>\n",
       "      <th>BloodPressure</th>\n",
       "      <th>SkinThickness</th>\n",
       "      <th>Insulin</th>\n",
       "      <th>BMI</th>\n",
       "      <th>DiabetesPedigreeFunction</th>\n",
       "      <th>Age</th>\n",
       "      <th>Outcome</th>\n",
       "    </tr>\n",
       "  </thead>\n",
       "  <tbody>\n",
       "    <tr>\n",
       "      <th>0</th>\n",
       "      <td>6</td>\n",
       "      <td>148</td>\n",
       "      <td>72</td>\n",
       "      <td>35</td>\n",
       "      <td>0</td>\n",
       "      <td>33.6</td>\n",
       "      <td>0.627</td>\n",
       "      <td>50</td>\n",
       "      <td>1</td>\n",
       "    </tr>\n",
       "    <tr>\n",
       "      <th>1</th>\n",
       "      <td>1</td>\n",
       "      <td>85</td>\n",
       "      <td>66</td>\n",
       "      <td>29</td>\n",
       "      <td>0</td>\n",
       "      <td>26.6</td>\n",
       "      <td>0.351</td>\n",
       "      <td>31</td>\n",
       "      <td>0</td>\n",
       "    </tr>\n",
       "    <tr>\n",
       "      <th>2</th>\n",
       "      <td>8</td>\n",
       "      <td>183</td>\n",
       "      <td>64</td>\n",
       "      <td>0</td>\n",
       "      <td>0</td>\n",
       "      <td>23.3</td>\n",
       "      <td>0.672</td>\n",
       "      <td>32</td>\n",
       "      <td>1</td>\n",
       "    </tr>\n",
       "    <tr>\n",
       "      <th>3</th>\n",
       "      <td>1</td>\n",
       "      <td>89</td>\n",
       "      <td>66</td>\n",
       "      <td>23</td>\n",
       "      <td>94</td>\n",
       "      <td>28.1</td>\n",
       "      <td>0.167</td>\n",
       "      <td>21</td>\n",
       "      <td>0</td>\n",
       "    </tr>\n",
       "    <tr>\n",
       "      <th>4</th>\n",
       "      <td>0</td>\n",
       "      <td>137</td>\n",
       "      <td>40</td>\n",
       "      <td>35</td>\n",
       "      <td>168</td>\n",
       "      <td>43.1</td>\n",
       "      <td>2.288</td>\n",
       "      <td>33</td>\n",
       "      <td>1</td>\n",
       "    </tr>\n",
       "  </tbody>\n",
       "</table>\n",
       "</div>"
      ],
      "text/plain": [
       "   Pregnancies  Glucose  BloodPressure  SkinThickness  Insulin   BMI  \\\n",
       "0            6      148             72             35        0  33.6   \n",
       "1            1       85             66             29        0  26.6   \n",
       "2            8      183             64              0        0  23.3   \n",
       "3            1       89             66             23       94  28.1   \n",
       "4            0      137             40             35      168  43.1   \n",
       "\n",
       "   DiabetesPedigreeFunction  Age  Outcome  \n",
       "0                     0.627   50        1  \n",
       "1                     0.351   31        0  \n",
       "2                     0.672   32        1  \n",
       "3                     0.167   21        0  \n",
       "4                     2.288   33        1  "
      ]
     },
     "execution_count": 3,
     "metadata": {},
     "output_type": "execute_result"
    }
   ],
   "source": [
    "df = pd.read_csv(\"/kaggle/input/pima-indians-diabetes-database/diabetes.csv\")\n",
    "df.head()"
   ]
  },
  {
   "cell_type": "code",
   "execution_count": 4,
   "id": "d90bb951",
   "metadata": {
    "execution": {
     "iopub.execute_input": "2023-08-16T16:24:03.076595Z",
     "iopub.status.busy": "2023-08-16T16:24:03.076147Z",
     "iopub.status.idle": "2023-08-16T16:24:03.105259Z",
     "shell.execute_reply": "2023-08-16T16:24:03.103636Z"
    },
    "papermill": {
     "duration": 0.046868,
     "end_time": "2023-08-16T16:24:03.107619",
     "exception": false,
     "start_time": "2023-08-16T16:24:03.060751",
     "status": "completed"
    },
    "tags": []
   },
   "outputs": [
    {
     "name": "stdout",
     "output_type": "stream",
     "text": [
      "<class 'pandas.core.frame.DataFrame'>\n",
      "RangeIndex: 768 entries, 0 to 767\n",
      "Data columns (total 9 columns):\n",
      " #   Column                    Non-Null Count  Dtype  \n",
      "---  ------                    --------------  -----  \n",
      " 0   Pregnancies               768 non-null    int64  \n",
      " 1   Glucose                   768 non-null    int64  \n",
      " 2   BloodPressure             768 non-null    int64  \n",
      " 3   SkinThickness             768 non-null    int64  \n",
      " 4   Insulin                   768 non-null    int64  \n",
      " 5   BMI                       768 non-null    float64\n",
      " 6   DiabetesPedigreeFunction  768 non-null    float64\n",
      " 7   Age                       768 non-null    int64  \n",
      " 8   Outcome                   768 non-null    int64  \n",
      "dtypes: float64(2), int64(7)\n",
      "memory usage: 54.1 KB\n"
     ]
    }
   ],
   "source": [
    "df.info()"
   ]
  },
  {
   "cell_type": "code",
   "execution_count": 5,
   "id": "e3340a02",
   "metadata": {
    "execution": {
     "iopub.execute_input": "2023-08-16T16:24:03.138455Z",
     "iopub.status.busy": "2023-08-16T16:24:03.137241Z",
     "iopub.status.idle": "2023-08-16T16:24:03.145585Z",
     "shell.execute_reply": "2023-08-16T16:24:03.144396Z"
    },
    "papermill": {
     "duration": 0.0262,
     "end_time": "2023-08-16T16:24:03.147847",
     "exception": false,
     "start_time": "2023-08-16T16:24:03.121647",
     "status": "completed"
    },
    "tags": []
   },
   "outputs": [
    {
     "data": {
      "text/plain": [
       "(768, 9)"
      ]
     },
     "execution_count": 5,
     "metadata": {},
     "output_type": "execute_result"
    }
   ],
   "source": [
    "df.shape"
   ]
  },
  {
   "cell_type": "markdown",
   "id": "136b52cb",
   "metadata": {
    "papermill": {
     "duration": 0.014815,
     "end_time": "2023-08-16T16:24:03.177346",
     "exception": false,
     "start_time": "2023-08-16T16:24:03.162531",
     "status": "completed"
    },
    "tags": []
   },
   "source": [
    "# Extract features and target"
   ]
  },
  {
   "cell_type": "code",
   "execution_count": 6,
   "id": "f179483e",
   "metadata": {
    "execution": {
     "iopub.execute_input": "2023-08-16T16:24:03.209410Z",
     "iopub.status.busy": "2023-08-16T16:24:03.208749Z",
     "iopub.status.idle": "2023-08-16T16:24:03.217411Z",
     "shell.execute_reply": "2023-08-16T16:24:03.216178Z"
    },
    "papermill": {
     "duration": 0.027179,
     "end_time": "2023-08-16T16:24:03.219638",
     "exception": false,
     "start_time": "2023-08-16T16:24:03.192459",
     "status": "completed"
    },
    "tags": []
   },
   "outputs": [],
   "source": [
    "# feature and target\n",
    "X = df.iloc[:,:-1].values\n",
    "y = df.iloc[:,-1].values"
   ]
  },
  {
   "cell_type": "code",
   "execution_count": 7,
   "id": "fa33e063",
   "metadata": {
    "execution": {
     "iopub.execute_input": "2023-08-16T16:24:03.250663Z",
     "iopub.status.busy": "2023-08-16T16:24:03.250252Z",
     "iopub.status.idle": "2023-08-16T16:24:03.256689Z",
     "shell.execute_reply": "2023-08-16T16:24:03.255926Z"
    },
    "papermill": {
     "duration": 0.024554,
     "end_time": "2023-08-16T16:24:03.258794",
     "exception": false,
     "start_time": "2023-08-16T16:24:03.234240",
     "status": "completed"
    },
    "tags": []
   },
   "outputs": [
    {
     "data": {
      "text/plain": [
       "(768, 8)"
      ]
     },
     "execution_count": 7,
     "metadata": {},
     "output_type": "execute_result"
    }
   ],
   "source": [
    "X.shape"
   ]
  },
  {
   "cell_type": "code",
   "execution_count": 8,
   "id": "7848a595",
   "metadata": {
    "execution": {
     "iopub.execute_input": "2023-08-16T16:24:03.289682Z",
     "iopub.status.busy": "2023-08-16T16:24:03.289342Z",
     "iopub.status.idle": "2023-08-16T16:24:03.295791Z",
     "shell.execute_reply": "2023-08-16T16:24:03.294711Z"
    },
    "papermill": {
     "duration": 0.024728,
     "end_time": "2023-08-16T16:24:03.298195",
     "exception": false,
     "start_time": "2023-08-16T16:24:03.273467",
     "status": "completed"
    },
    "tags": []
   },
   "outputs": [
    {
     "data": {
      "text/plain": [
       "(768,)"
      ]
     },
     "execution_count": 8,
     "metadata": {},
     "output_type": "execute_result"
    }
   ],
   "source": [
    "y.shape"
   ]
  },
  {
   "cell_type": "markdown",
   "id": "05589ee1",
   "metadata": {
    "papermill": {
     "duration": 0.014459,
     "end_time": "2023-08-16T16:24:03.327416",
     "exception": false,
     "start_time": "2023-08-16T16:24:03.312957",
     "status": "completed"
    },
    "tags": []
   },
   "source": [
    "# Data Preprocessing"
   ]
  },
  {
   "cell_type": "code",
   "execution_count": 9,
   "id": "99054e54",
   "metadata": {
    "execution": {
     "iopub.execute_input": "2023-08-16T16:24:03.358864Z",
     "iopub.status.busy": "2023-08-16T16:24:03.358462Z",
     "iopub.status.idle": "2023-08-16T16:24:04.536790Z",
     "shell.execute_reply": "2023-08-16T16:24:04.535855Z"
    },
    "papermill": {
     "duration": 1.197188,
     "end_time": "2023-08-16T16:24:04.539569",
     "exception": false,
     "start_time": "2023-08-16T16:24:03.342381",
     "status": "completed"
    },
    "tags": []
   },
   "outputs": [],
   "source": [
    "from sklearn.preprocessing import StandardScaler\n",
    "scaler = StandardScaler()"
   ]
  },
  {
   "cell_type": "code",
   "execution_count": 10,
   "id": "2517a769",
   "metadata": {
    "execution": {
     "iopub.execute_input": "2023-08-16T16:24:04.571436Z",
     "iopub.status.busy": "2023-08-16T16:24:04.570645Z",
     "iopub.status.idle": "2023-08-16T16:24:04.577781Z",
     "shell.execute_reply": "2023-08-16T16:24:04.576397Z"
    },
    "papermill": {
     "duration": 0.026111,
     "end_time": "2023-08-16T16:24:04.580594",
     "exception": false,
     "start_time": "2023-08-16T16:24:04.554483",
     "status": "completed"
    },
    "tags": []
   },
   "outputs": [],
   "source": [
    "X = scaler.fit_transform(X)"
   ]
  },
  {
   "cell_type": "markdown",
   "id": "415eef14",
   "metadata": {
    "papermill": {
     "duration": 0.014363,
     "end_time": "2023-08-16T16:24:04.609806",
     "exception": false,
     "start_time": "2023-08-16T16:24:04.595443",
     "status": "completed"
    },
    "tags": []
   },
   "source": [
    "# Spliting dataset"
   ]
  },
  {
   "cell_type": "code",
   "execution_count": 11,
   "id": "59e37a11",
   "metadata": {
    "execution": {
     "iopub.execute_input": "2023-08-16T16:24:04.641536Z",
     "iopub.status.busy": "2023-08-16T16:24:04.641111Z",
     "iopub.status.idle": "2023-08-16T16:24:04.757523Z",
     "shell.execute_reply": "2023-08-16T16:24:04.756327Z"
    },
    "papermill": {
     "duration": 0.135888,
     "end_time": "2023-08-16T16:24:04.760537",
     "exception": false,
     "start_time": "2023-08-16T16:24:04.624649",
     "status": "completed"
    },
    "tags": []
   },
   "outputs": [],
   "source": [
    "from sklearn.model_selection import train_test_split\n",
    "X_train, X_test, y_train, y_test = train_test_split(X, y, test_size=0.2, random_state=40)"
   ]
  },
  {
   "cell_type": "markdown",
   "id": "a48c76ff",
   "metadata": {
    "papermill": {
     "duration": 0.014505,
     "end_time": "2023-08-16T16:24:04.790003",
     "exception": false,
     "start_time": "2023-08-16T16:24:04.775498",
     "status": "completed"
    },
    "tags": []
   },
   "source": [
    "# Build Model"
   ]
  },
  {
   "cell_type": "code",
   "execution_count": 12,
   "id": "d45e6450",
   "metadata": {
    "execution": {
     "iopub.execute_input": "2023-08-16T16:24:04.821326Z",
     "iopub.status.busy": "2023-08-16T16:24:04.820884Z",
     "iopub.status.idle": "2023-08-16T16:24:14.127168Z",
     "shell.execute_reply": "2023-08-16T16:24:14.125945Z"
    },
    "papermill": {
     "duration": 9.325478,
     "end_time": "2023-08-16T16:24:14.130236",
     "exception": false,
     "start_time": "2023-08-16T16:24:04.804758",
     "status": "completed"
    },
    "tags": []
   },
   "outputs": [],
   "source": [
    "import tensorflow\n",
    "from tensorflow import keras\n",
    "from keras import Sequential\n",
    "from keras.layers import Dense "
   ]
  },
  {
   "cell_type": "code",
   "execution_count": 13,
   "id": "c32ce568",
   "metadata": {
    "execution": {
     "iopub.execute_input": "2023-08-16T16:24:14.162500Z",
     "iopub.status.busy": "2023-08-16T16:24:14.161448Z",
     "iopub.status.idle": "2023-08-16T16:24:14.342138Z",
     "shell.execute_reply": "2023-08-16T16:24:14.340647Z"
    },
    "papermill": {
     "duration": 0.200302,
     "end_time": "2023-08-16T16:24:14.345508",
     "exception": false,
     "start_time": "2023-08-16T16:24:14.145206",
     "status": "completed"
    },
    "tags": []
   },
   "outputs": [],
   "source": [
    "model = Sequential()\n",
    "\n",
    "model.add(Dense(32, activation='relu', input_dim=8))\n",
    "model.add(Dense(1, activation='sigmoid'))"
   ]
  },
  {
   "cell_type": "code",
   "execution_count": 14,
   "id": "aef4d48a",
   "metadata": {
    "execution": {
     "iopub.execute_input": "2023-08-16T16:24:14.378752Z",
     "iopub.status.busy": "2023-08-16T16:24:14.378335Z",
     "iopub.status.idle": "2023-08-16T16:24:14.403188Z",
     "shell.execute_reply": "2023-08-16T16:24:14.401859Z"
    },
    "papermill": {
     "duration": 0.045234,
     "end_time": "2023-08-16T16:24:14.406585",
     "exception": false,
     "start_time": "2023-08-16T16:24:14.361351",
     "status": "completed"
    },
    "tags": []
   },
   "outputs": [],
   "source": [
    "model.compile(optimizer='Adam',loss='binary_crossentropy', metrics= ['accuracy'])"
   ]
  },
  {
   "cell_type": "code",
   "execution_count": 15,
   "id": "c383edce",
   "metadata": {
    "execution": {
     "iopub.execute_input": "2023-08-16T16:24:14.441542Z",
     "iopub.status.busy": "2023-08-16T16:24:14.441089Z",
     "iopub.status.idle": "2023-08-16T16:24:23.548397Z",
     "shell.execute_reply": "2023-08-16T16:24:23.547190Z"
    },
    "papermill": {
     "duration": 9.129238,
     "end_time": "2023-08-16T16:24:23.551054",
     "exception": false,
     "start_time": "2023-08-16T16:24:14.421816",
     "status": "completed"
    },
    "tags": []
   },
   "outputs": [
    {
     "name": "stdout",
     "output_type": "stream",
     "text": [
      "Epoch 1/100\n",
      "20/20 [==============================] - 1s 15ms/step - loss: 0.7836 - accuracy: 0.4300 - val_loss: 0.7636 - val_accuracy: 0.4675\n",
      "Epoch 2/100\n",
      "20/20 [==============================] - 0s 3ms/step - loss: 0.7208 - accuracy: 0.5831 - val_loss: 0.7176 - val_accuracy: 0.5455\n",
      "Epoch 3/100\n",
      "20/20 [==============================] - 0s 4ms/step - loss: 0.6760 - accuracy: 0.6482 - val_loss: 0.6839 - val_accuracy: 0.6104\n",
      "Epoch 4/100\n",
      "20/20 [==============================] - 0s 4ms/step - loss: 0.6406 - accuracy: 0.6873 - val_loss: 0.6556 - val_accuracy: 0.6558\n",
      "Epoch 5/100\n",
      "20/20 [==============================] - 0s 4ms/step - loss: 0.6114 - accuracy: 0.7052 - val_loss: 0.6311 - val_accuracy: 0.6753\n",
      "Epoch 6/100\n",
      "20/20 [==============================] - 0s 4ms/step - loss: 0.5879 - accuracy: 0.7020 - val_loss: 0.6102 - val_accuracy: 0.6818\n",
      "Epoch 7/100\n",
      "20/20 [==============================] - 0s 5ms/step - loss: 0.5676 - accuracy: 0.7199 - val_loss: 0.5933 - val_accuracy: 0.6883\n",
      "Epoch 8/100\n",
      "20/20 [==============================] - 0s 4ms/step - loss: 0.5501 - accuracy: 0.7378 - val_loss: 0.5773 - val_accuracy: 0.7013\n",
      "Epoch 9/100\n",
      "20/20 [==============================] - 0s 4ms/step - loss: 0.5353 - accuracy: 0.7427 - val_loss: 0.5622 - val_accuracy: 0.7013\n",
      "Epoch 10/100\n",
      "20/20 [==============================] - 0s 4ms/step - loss: 0.5224 - accuracy: 0.7378 - val_loss: 0.5510 - val_accuracy: 0.7078\n",
      "Epoch 11/100\n",
      "20/20 [==============================] - 0s 4ms/step - loss: 0.5105 - accuracy: 0.7459 - val_loss: 0.5414 - val_accuracy: 0.7143\n",
      "Epoch 12/100\n",
      "20/20 [==============================] - 0s 4ms/step - loss: 0.5012 - accuracy: 0.7557 - val_loss: 0.5328 - val_accuracy: 0.7078\n",
      "Epoch 13/100\n",
      "20/20 [==============================] - 0s 3ms/step - loss: 0.4925 - accuracy: 0.7687 - val_loss: 0.5268 - val_accuracy: 0.7208\n",
      "Epoch 14/100\n",
      "20/20 [==============================] - 0s 4ms/step - loss: 0.4857 - accuracy: 0.7704 - val_loss: 0.5204 - val_accuracy: 0.7273\n",
      "Epoch 15/100\n",
      "20/20 [==============================] - 0s 4ms/step - loss: 0.4789 - accuracy: 0.7785 - val_loss: 0.5126 - val_accuracy: 0.7468\n",
      "Epoch 16/100\n",
      "20/20 [==============================] - 0s 4ms/step - loss: 0.4733 - accuracy: 0.7736 - val_loss: 0.5077 - val_accuracy: 0.7532\n",
      "Epoch 17/100\n",
      "20/20 [==============================] - 0s 4ms/step - loss: 0.4684 - accuracy: 0.7834 - val_loss: 0.5029 - val_accuracy: 0.7532\n",
      "Epoch 18/100\n",
      "20/20 [==============================] - 0s 4ms/step - loss: 0.4640 - accuracy: 0.7866 - val_loss: 0.4999 - val_accuracy: 0.7532\n",
      "Epoch 19/100\n",
      "20/20 [==============================] - 0s 4ms/step - loss: 0.4599 - accuracy: 0.7932 - val_loss: 0.4969 - val_accuracy: 0.7532\n",
      "Epoch 20/100\n",
      "20/20 [==============================] - 0s 4ms/step - loss: 0.4568 - accuracy: 0.7948 - val_loss: 0.4929 - val_accuracy: 0.7532\n",
      "Epoch 21/100\n",
      "20/20 [==============================] - 0s 4ms/step - loss: 0.4536 - accuracy: 0.7932 - val_loss: 0.4910 - val_accuracy: 0.7597\n",
      "Epoch 22/100\n",
      "20/20 [==============================] - 0s 4ms/step - loss: 0.4515 - accuracy: 0.7964 - val_loss: 0.4896 - val_accuracy: 0.7597\n",
      "Epoch 23/100\n",
      "20/20 [==============================] - 0s 4ms/step - loss: 0.4495 - accuracy: 0.7964 - val_loss: 0.4884 - val_accuracy: 0.7662\n",
      "Epoch 24/100\n",
      "20/20 [==============================] - 0s 4ms/step - loss: 0.4479 - accuracy: 0.7948 - val_loss: 0.4882 - val_accuracy: 0.7662\n",
      "Epoch 25/100\n",
      "20/20 [==============================] - 0s 3ms/step - loss: 0.4458 - accuracy: 0.7964 - val_loss: 0.4853 - val_accuracy: 0.7727\n",
      "Epoch 26/100\n",
      "20/20 [==============================] - 0s 4ms/step - loss: 0.4448 - accuracy: 0.7948 - val_loss: 0.4850 - val_accuracy: 0.7597\n",
      "Epoch 27/100\n",
      "20/20 [==============================] - 0s 4ms/step - loss: 0.4430 - accuracy: 0.7948 - val_loss: 0.4860 - val_accuracy: 0.7662\n",
      "Epoch 28/100\n",
      "20/20 [==============================] - 0s 4ms/step - loss: 0.4421 - accuracy: 0.7948 - val_loss: 0.4860 - val_accuracy: 0.7662\n",
      "Epoch 29/100\n",
      "20/20 [==============================] - 0s 4ms/step - loss: 0.4410 - accuracy: 0.7932 - val_loss: 0.4876 - val_accuracy: 0.7727\n",
      "Epoch 30/100\n",
      "20/20 [==============================] - 0s 4ms/step - loss: 0.4397 - accuracy: 0.7948 - val_loss: 0.4885 - val_accuracy: 0.7662\n",
      "Epoch 31/100\n",
      "20/20 [==============================] - 0s 4ms/step - loss: 0.4383 - accuracy: 0.7997 - val_loss: 0.4874 - val_accuracy: 0.7662\n",
      "Epoch 32/100\n",
      "20/20 [==============================] - 0s 4ms/step - loss: 0.4372 - accuracy: 0.8029 - val_loss: 0.4881 - val_accuracy: 0.7727\n",
      "Epoch 33/100\n",
      "20/20 [==============================] - 0s 4ms/step - loss: 0.4363 - accuracy: 0.7997 - val_loss: 0.4864 - val_accuracy: 0.7662\n",
      "Epoch 34/100\n",
      "20/20 [==============================] - 0s 4ms/step - loss: 0.4353 - accuracy: 0.7964 - val_loss: 0.4864 - val_accuracy: 0.7792\n",
      "Epoch 35/100\n",
      "20/20 [==============================] - 0s 4ms/step - loss: 0.4346 - accuracy: 0.7980 - val_loss: 0.4856 - val_accuracy: 0.7792\n",
      "Epoch 36/100\n",
      "20/20 [==============================] - 0s 4ms/step - loss: 0.4336 - accuracy: 0.7964 - val_loss: 0.4849 - val_accuracy: 0.7727\n",
      "Epoch 37/100\n",
      "20/20 [==============================] - 0s 4ms/step - loss: 0.4333 - accuracy: 0.7964 - val_loss: 0.4861 - val_accuracy: 0.7662\n",
      "Epoch 38/100\n",
      "20/20 [==============================] - 0s 4ms/step - loss: 0.4324 - accuracy: 0.7948 - val_loss: 0.4869 - val_accuracy: 0.7597\n",
      "Epoch 39/100\n",
      "20/20 [==============================] - 0s 4ms/step - loss: 0.4318 - accuracy: 0.7964 - val_loss: 0.4879 - val_accuracy: 0.7597\n",
      "Epoch 40/100\n",
      "20/20 [==============================] - 0s 3ms/step - loss: 0.4307 - accuracy: 0.7948 - val_loss: 0.4881 - val_accuracy: 0.7662\n",
      "Epoch 41/100\n",
      "20/20 [==============================] - 0s 4ms/step - loss: 0.4300 - accuracy: 0.7948 - val_loss: 0.4883 - val_accuracy: 0.7662\n",
      "Epoch 42/100\n",
      "20/20 [==============================] - 0s 4ms/step - loss: 0.4295 - accuracy: 0.7915 - val_loss: 0.4874 - val_accuracy: 0.7662\n",
      "Epoch 43/100\n",
      "20/20 [==============================] - 0s 4ms/step - loss: 0.4288 - accuracy: 0.7997 - val_loss: 0.4879 - val_accuracy: 0.7597\n",
      "Epoch 44/100\n",
      "20/20 [==============================] - 0s 4ms/step - loss: 0.4281 - accuracy: 0.7997 - val_loss: 0.4886 - val_accuracy: 0.7597\n",
      "Epoch 45/100\n",
      "20/20 [==============================] - 0s 4ms/step - loss: 0.4278 - accuracy: 0.7980 - val_loss: 0.4882 - val_accuracy: 0.7532\n",
      "Epoch 46/100\n",
      "20/20 [==============================] - 0s 4ms/step - loss: 0.4268 - accuracy: 0.7980 - val_loss: 0.4874 - val_accuracy: 0.7532\n",
      "Epoch 47/100\n",
      "20/20 [==============================] - 0s 3ms/step - loss: 0.4265 - accuracy: 0.7997 - val_loss: 0.4895 - val_accuracy: 0.7532\n",
      "Epoch 48/100\n",
      "20/20 [==============================] - 0s 4ms/step - loss: 0.4263 - accuracy: 0.7997 - val_loss: 0.4890 - val_accuracy: 0.7532\n",
      "Epoch 49/100\n",
      "20/20 [==============================] - 0s 4ms/step - loss: 0.4257 - accuracy: 0.7980 - val_loss: 0.4925 - val_accuracy: 0.7532\n",
      "Epoch 50/100\n",
      "20/20 [==============================] - 0s 4ms/step - loss: 0.4248 - accuracy: 0.8013 - val_loss: 0.4933 - val_accuracy: 0.7532\n",
      "Epoch 51/100\n",
      "20/20 [==============================] - 0s 4ms/step - loss: 0.4244 - accuracy: 0.8046 - val_loss: 0.4941 - val_accuracy: 0.7532\n",
      "Epoch 52/100\n",
      "20/20 [==============================] - 0s 4ms/step - loss: 0.4234 - accuracy: 0.7980 - val_loss: 0.4934 - val_accuracy: 0.7532\n",
      "Epoch 53/100\n",
      "20/20 [==============================] - 0s 4ms/step - loss: 0.4236 - accuracy: 0.7964 - val_loss: 0.4915 - val_accuracy: 0.7403\n",
      "Epoch 54/100\n",
      "20/20 [==============================] - 0s 4ms/step - loss: 0.4229 - accuracy: 0.8029 - val_loss: 0.4912 - val_accuracy: 0.7403\n",
      "Epoch 55/100\n",
      "20/20 [==============================] - 0s 5ms/step - loss: 0.4227 - accuracy: 0.7997 - val_loss: 0.4951 - val_accuracy: 0.7403\n",
      "Epoch 56/100\n",
      "20/20 [==============================] - 0s 4ms/step - loss: 0.4210 - accuracy: 0.7997 - val_loss: 0.4941 - val_accuracy: 0.7403\n",
      "Epoch 57/100\n",
      "20/20 [==============================] - 0s 4ms/step - loss: 0.4208 - accuracy: 0.7964 - val_loss: 0.4947 - val_accuracy: 0.7468\n",
      "Epoch 58/100\n",
      "20/20 [==============================] - 0s 3ms/step - loss: 0.4201 - accuracy: 0.7948 - val_loss: 0.4940 - val_accuracy: 0.7532\n",
      "Epoch 59/100\n",
      "20/20 [==============================] - 0s 3ms/step - loss: 0.4197 - accuracy: 0.7997 - val_loss: 0.4913 - val_accuracy: 0.7532\n",
      "Epoch 60/100\n",
      "20/20 [==============================] - 0s 3ms/step - loss: 0.4191 - accuracy: 0.8013 - val_loss: 0.4939 - val_accuracy: 0.7468\n",
      "Epoch 61/100\n",
      "20/20 [==============================] - 0s 4ms/step - loss: 0.4181 - accuracy: 0.7964 - val_loss: 0.4941 - val_accuracy: 0.7403\n",
      "Epoch 62/100\n",
      "20/20 [==============================] - 0s 5ms/step - loss: 0.4179 - accuracy: 0.7980 - val_loss: 0.4949 - val_accuracy: 0.7532\n",
      "Epoch 63/100\n",
      "20/20 [==============================] - 0s 4ms/step - loss: 0.4176 - accuracy: 0.7997 - val_loss: 0.4947 - val_accuracy: 0.7532\n",
      "Epoch 64/100\n",
      "20/20 [==============================] - 0s 4ms/step - loss: 0.4170 - accuracy: 0.7980 - val_loss: 0.4947 - val_accuracy: 0.7532\n",
      "Epoch 65/100\n",
      "20/20 [==============================] - 0s 4ms/step - loss: 0.4167 - accuracy: 0.7980 - val_loss: 0.4972 - val_accuracy: 0.7597\n",
      "Epoch 66/100\n",
      "20/20 [==============================] - 0s 4ms/step - loss: 0.4160 - accuracy: 0.7980 - val_loss: 0.4975 - val_accuracy: 0.7597\n",
      "Epoch 67/100\n",
      "20/20 [==============================] - 0s 4ms/step - loss: 0.4157 - accuracy: 0.8013 - val_loss: 0.4978 - val_accuracy: 0.7597\n",
      "Epoch 68/100\n",
      "20/20 [==============================] - 0s 4ms/step - loss: 0.4151 - accuracy: 0.7997 - val_loss: 0.4962 - val_accuracy: 0.7597\n",
      "Epoch 69/100\n",
      "20/20 [==============================] - 0s 4ms/step - loss: 0.4145 - accuracy: 0.8013 - val_loss: 0.4969 - val_accuracy: 0.7532\n",
      "Epoch 70/100\n",
      "20/20 [==============================] - 0s 4ms/step - loss: 0.4140 - accuracy: 0.8062 - val_loss: 0.4950 - val_accuracy: 0.7532\n",
      "Epoch 71/100\n",
      "20/20 [==============================] - 0s 4ms/step - loss: 0.4135 - accuracy: 0.8046 - val_loss: 0.4933 - val_accuracy: 0.7532\n",
      "Epoch 72/100\n",
      "20/20 [==============================] - 0s 3ms/step - loss: 0.4131 - accuracy: 0.8046 - val_loss: 0.4947 - val_accuracy: 0.7532\n",
      "Epoch 73/100\n",
      "20/20 [==============================] - 0s 4ms/step - loss: 0.4127 - accuracy: 0.8062 - val_loss: 0.4965 - val_accuracy: 0.7532\n",
      "Epoch 74/100\n",
      "20/20 [==============================] - 0s 4ms/step - loss: 0.4119 - accuracy: 0.8062 - val_loss: 0.4973 - val_accuracy: 0.7532\n",
      "Epoch 75/100\n",
      "20/20 [==============================] - 0s 4ms/step - loss: 0.4116 - accuracy: 0.8046 - val_loss: 0.4980 - val_accuracy: 0.7532\n",
      "Epoch 76/100\n",
      "20/20 [==============================] - 0s 4ms/step - loss: 0.4108 - accuracy: 0.7997 - val_loss: 0.4966 - val_accuracy: 0.7597\n",
      "Epoch 77/100\n",
      "20/20 [==============================] - 0s 4ms/step - loss: 0.4116 - accuracy: 0.8078 - val_loss: 0.4976 - val_accuracy: 0.7468\n",
      "Epoch 78/100\n",
      "20/20 [==============================] - 0s 4ms/step - loss: 0.4106 - accuracy: 0.7997 - val_loss: 0.5021 - val_accuracy: 0.7468\n",
      "Epoch 79/100\n",
      "20/20 [==============================] - 0s 4ms/step - loss: 0.4099 - accuracy: 0.7997 - val_loss: 0.5012 - val_accuracy: 0.7532\n",
      "Epoch 80/100\n",
      "20/20 [==============================] - 0s 5ms/step - loss: 0.4096 - accuracy: 0.8062 - val_loss: 0.5017 - val_accuracy: 0.7468\n",
      "Epoch 81/100\n",
      "20/20 [==============================] - 0s 4ms/step - loss: 0.4087 - accuracy: 0.8062 - val_loss: 0.4980 - val_accuracy: 0.7597\n",
      "Epoch 82/100\n",
      "20/20 [==============================] - 0s 4ms/step - loss: 0.4083 - accuracy: 0.8062 - val_loss: 0.4973 - val_accuracy: 0.7597\n",
      "Epoch 83/100\n",
      "20/20 [==============================] - 0s 4ms/step - loss: 0.4080 - accuracy: 0.8078 - val_loss: 0.4957 - val_accuracy: 0.7662\n",
      "Epoch 84/100\n",
      "20/20 [==============================] - 0s 4ms/step - loss: 0.4075 - accuracy: 0.8062 - val_loss: 0.4956 - val_accuracy: 0.7662\n",
      "Epoch 85/100\n",
      "20/20 [==============================] - 0s 3ms/step - loss: 0.4070 - accuracy: 0.8062 - val_loss: 0.4975 - val_accuracy: 0.7597\n",
      "Epoch 86/100\n",
      "20/20 [==============================] - 0s 4ms/step - loss: 0.4062 - accuracy: 0.8078 - val_loss: 0.5001 - val_accuracy: 0.7532\n",
      "Epoch 87/100\n",
      "20/20 [==============================] - 0s 4ms/step - loss: 0.4059 - accuracy: 0.8078 - val_loss: 0.5013 - val_accuracy: 0.7468\n",
      "Epoch 88/100\n",
      "20/20 [==============================] - 0s 4ms/step - loss: 0.4054 - accuracy: 0.8094 - val_loss: 0.5007 - val_accuracy: 0.7532\n",
      "Epoch 89/100\n",
      "20/20 [==============================] - 0s 3ms/step - loss: 0.4048 - accuracy: 0.8078 - val_loss: 0.5022 - val_accuracy: 0.7403\n",
      "Epoch 90/100\n",
      "20/20 [==============================] - 0s 4ms/step - loss: 0.4044 - accuracy: 0.8062 - val_loss: 0.5027 - val_accuracy: 0.7597\n",
      "Epoch 91/100\n",
      "20/20 [==============================] - 0s 4ms/step - loss: 0.4037 - accuracy: 0.8078 - val_loss: 0.5037 - val_accuracy: 0.7468\n",
      "Epoch 92/100\n",
      "20/20 [==============================] - 0s 4ms/step - loss: 0.4039 - accuracy: 0.8111 - val_loss: 0.5017 - val_accuracy: 0.7532\n",
      "Epoch 93/100\n",
      "20/20 [==============================] - 0s 4ms/step - loss: 0.4029 - accuracy: 0.8143 - val_loss: 0.5021 - val_accuracy: 0.7468\n",
      "Epoch 94/100\n",
      "20/20 [==============================] - 0s 4ms/step - loss: 0.4026 - accuracy: 0.8127 - val_loss: 0.5044 - val_accuracy: 0.7468\n",
      "Epoch 95/100\n",
      "20/20 [==============================] - 0s 4ms/step - loss: 0.4023 - accuracy: 0.8111 - val_loss: 0.5031 - val_accuracy: 0.7468\n",
      "Epoch 96/100\n",
      "20/20 [==============================] - 0s 4ms/step - loss: 0.4022 - accuracy: 0.8127 - val_loss: 0.5052 - val_accuracy: 0.7403\n",
      "Epoch 97/100\n",
      "20/20 [==============================] - 0s 3ms/step - loss: 0.4019 - accuracy: 0.8127 - val_loss: 0.5045 - val_accuracy: 0.7468\n",
      "Epoch 98/100\n",
      "20/20 [==============================] - 0s 3ms/step - loss: 0.4015 - accuracy: 0.8094 - val_loss: 0.5055 - val_accuracy: 0.7468\n",
      "Epoch 99/100\n",
      "20/20 [==============================] - 0s 3ms/step - loss: 0.4011 - accuracy: 0.8111 - val_loss: 0.5059 - val_accuracy: 0.7468\n",
      "Epoch 100/100\n",
      "20/20 [==============================] - 0s 4ms/step - loss: 0.4006 - accuracy: 0.8127 - val_loss: 0.5038 - val_accuracy: 0.7468\n"
     ]
    },
    {
     "data": {
      "text/plain": [
       "<keras.callbacks.History at 0x7e410833dcf0>"
      ]
     },
     "execution_count": 15,
     "metadata": {},
     "output_type": "execute_result"
    }
   ],
   "source": [
    "model.fit(X_train, y_train, epochs=100, batch_size=32, validation_data=(X_test, y_test))"
   ]
  },
  {
   "cell_type": "markdown",
   "id": "a99d776c",
   "metadata": {
    "papermill": {
     "duration": 0.041614,
     "end_time": "2023-08-16T16:24:23.634504",
     "exception": false,
     "start_time": "2023-08-16T16:24:23.592890",
     "status": "completed"
    },
    "tags": []
   },
   "source": [
    "# Keras Tuner for neurons"
   ]
  },
  {
   "cell_type": "code",
   "execution_count": 16,
   "id": "835a561a",
   "metadata": {
    "execution": {
     "iopub.execute_input": "2023-08-16T16:24:23.721211Z",
     "iopub.status.busy": "2023-08-16T16:24:23.720748Z",
     "iopub.status.idle": "2023-08-16T16:24:23.896047Z",
     "shell.execute_reply": "2023-08-16T16:24:23.894922Z"
    },
    "papermill": {
     "duration": 0.222132,
     "end_time": "2023-08-16T16:24:23.898999",
     "exception": false,
     "start_time": "2023-08-16T16:24:23.676867",
     "status": "completed"
    },
    "tags": []
   },
   "outputs": [],
   "source": [
    "import keras_tuner as kt"
   ]
  },
  {
   "cell_type": "code",
   "execution_count": 17,
   "id": "0ade934d",
   "metadata": {
    "execution": {
     "iopub.execute_input": "2023-08-16T16:24:23.985402Z",
     "iopub.status.busy": "2023-08-16T16:24:23.984945Z",
     "iopub.status.idle": "2023-08-16T16:24:23.992161Z",
     "shell.execute_reply": "2023-08-16T16:24:23.990900Z"
    },
    "papermill": {
     "duration": 0.053581,
     "end_time": "2023-08-16T16:24:23.994626",
     "exception": false,
     "start_time": "2023-08-16T16:24:23.941045",
     "status": "completed"
    },
    "tags": []
   },
   "outputs": [],
   "source": [
    "def build_model(hp):\n",
    "    model = Sequential()\n",
    "    \n",
    "    units = hp.Int('units', 8, 256, step=8)\n",
    "\n",
    "    model.add(Dense(units=units, activation='relu', input_dim=8))\n",
    "    model.add(Dense(1, activation='sigmoid'))\n",
    "    \n",
    "    model.compile(optimizer='Adam', loss='binary_crossentropy', metrics= ['accuracy'])\n",
    "    \n",
    "    return model"
   ]
  },
  {
   "cell_type": "code",
   "execution_count": 18,
   "id": "be27e268",
   "metadata": {
    "execution": {
     "iopub.execute_input": "2023-08-16T16:24:24.086236Z",
     "iopub.status.busy": "2023-08-16T16:24:24.085784Z",
     "iopub.status.idle": "2023-08-16T16:24:24.135503Z",
     "shell.execute_reply": "2023-08-16T16:24:24.134050Z"
    },
    "papermill": {
     "duration": 0.095825,
     "end_time": "2023-08-16T16:24:24.138309",
     "exception": false,
     "start_time": "2023-08-16T16:24:24.042484",
     "status": "completed"
    },
    "tags": []
   },
   "outputs": [],
   "source": [
    "tuner = kt.RandomSearch(build_model, objective = 'val_accuracy', max_trials=5,\n",
    "                       directory='my_dir')"
   ]
  },
  {
   "cell_type": "code",
   "execution_count": 19,
   "id": "e4e81df0",
   "metadata": {
    "execution": {
     "iopub.execute_input": "2023-08-16T16:24:24.223531Z",
     "iopub.status.busy": "2023-08-16T16:24:24.223124Z",
     "iopub.status.idle": "2023-08-16T16:24:33.841521Z",
     "shell.execute_reply": "2023-08-16T16:24:33.839611Z"
    },
    "papermill": {
     "duration": 9.663952,
     "end_time": "2023-08-16T16:24:33.844472",
     "exception": false,
     "start_time": "2023-08-16T16:24:24.180520",
     "status": "completed"
    },
    "tags": []
   },
   "outputs": [
    {
     "name": "stdout",
     "output_type": "stream",
     "text": [
      "Trial 5 Complete [00h 00m 02s]\n",
      "val_accuracy: 0.7857142686843872\n",
      "\n",
      "Best val_accuracy So Far: 0.7857142686843872\n",
      "Total elapsed time: 00h 00m 10s\n"
     ]
    }
   ],
   "source": [
    "tuner.search(X_train, y_train, epochs=5, validation_data=(X_test, y_test))"
   ]
  },
  {
   "cell_type": "code",
   "execution_count": 20,
   "id": "461b4eb6",
   "metadata": {
    "execution": {
     "iopub.execute_input": "2023-08-16T16:24:33.930012Z",
     "iopub.status.busy": "2023-08-16T16:24:33.928881Z",
     "iopub.status.idle": "2023-08-16T16:24:33.936777Z",
     "shell.execute_reply": "2023-08-16T16:24:33.935569Z"
    },
    "papermill": {
     "duration": 0.052656,
     "end_time": "2023-08-16T16:24:33.939056",
     "exception": false,
     "start_time": "2023-08-16T16:24:33.886400",
     "status": "completed"
    },
    "tags": []
   },
   "outputs": [
    {
     "data": {
      "text/plain": [
       "{'units': 192}"
      ]
     },
     "execution_count": 20,
     "metadata": {},
     "output_type": "execute_result"
    }
   ],
   "source": [
    "tuner.get_best_hyperparameters()[0].values"
   ]
  },
  {
   "cell_type": "code",
   "execution_count": 21,
   "id": "72b00401",
   "metadata": {
    "execution": {
     "iopub.execute_input": "2023-08-16T16:24:34.027097Z",
     "iopub.status.busy": "2023-08-16T16:24:34.026594Z",
     "iopub.status.idle": "2023-08-16T16:24:34.357097Z",
     "shell.execute_reply": "2023-08-16T16:24:34.355889Z"
    },
    "papermill": {
     "duration": 0.379754,
     "end_time": "2023-08-16T16:24:34.360077",
     "exception": false,
     "start_time": "2023-08-16T16:24:33.980323",
     "status": "completed"
    },
    "tags": []
   },
   "outputs": [],
   "source": [
    "model = tuner.get_best_models(num_models=1)[0]"
   ]
  },
  {
   "cell_type": "code",
   "execution_count": 22,
   "id": "a6a3b50f",
   "metadata": {
    "execution": {
     "iopub.execute_input": "2023-08-16T16:24:34.445566Z",
     "iopub.status.busy": "2023-08-16T16:24:34.444176Z",
     "iopub.status.idle": "2023-08-16T16:24:34.464910Z",
     "shell.execute_reply": "2023-08-16T16:24:34.463559Z"
    },
    "papermill": {
     "duration": 0.06714,
     "end_time": "2023-08-16T16:24:34.468416",
     "exception": false,
     "start_time": "2023-08-16T16:24:34.401276",
     "status": "completed"
    },
    "tags": []
   },
   "outputs": [
    {
     "name": "stdout",
     "output_type": "stream",
     "text": [
      "Model: \"sequential\"\n",
      "_________________________________________________________________\n",
      " Layer (type)                Output Shape              Param #   \n",
      "=================================================================\n",
      " dense (Dense)               (None, 192)               1728      \n",
      "                                                                 \n",
      " dense_1 (Dense)             (None, 1)                 193       \n",
      "                                                                 \n",
      "=================================================================\n",
      "Total params: 1,921\n",
      "Trainable params: 1,921\n",
      "Non-trainable params: 0\n",
      "_________________________________________________________________\n"
     ]
    }
   ],
   "source": [
    "model.summary()"
   ]
  },
  {
   "cell_type": "code",
   "execution_count": 23,
   "id": "978e685b",
   "metadata": {
    "execution": {
     "iopub.execute_input": "2023-08-16T16:24:34.557363Z",
     "iopub.status.busy": "2023-08-16T16:24:34.556881Z",
     "iopub.status.idle": "2023-08-16T16:24:43.022490Z",
     "shell.execute_reply": "2023-08-16T16:24:43.021177Z"
    },
    "papermill": {
     "duration": 8.514869,
     "end_time": "2023-08-16T16:24:43.025416",
     "exception": false,
     "start_time": "2023-08-16T16:24:34.510547",
     "status": "completed"
    },
    "tags": []
   },
   "outputs": [
    {
     "name": "stdout",
     "output_type": "stream",
     "text": [
      "Epoch 7/100\n",
      "20/20 [==============================] - 1s 12ms/step - loss: 0.4540 - accuracy: 0.7818 - val_loss: 0.4923 - val_accuracy: 0.7727\n",
      "Epoch 8/100\n",
      "20/20 [==============================] - 0s 4ms/step - loss: 0.4482 - accuracy: 0.7850 - val_loss: 0.4887 - val_accuracy: 0.7727\n",
      "Epoch 9/100\n",
      "20/20 [==============================] - 0s 4ms/step - loss: 0.4444 - accuracy: 0.7850 - val_loss: 0.4888 - val_accuracy: 0.7727\n",
      "Epoch 10/100\n",
      "20/20 [==============================] - 0s 4ms/step - loss: 0.4408 - accuracy: 0.7883 - val_loss: 0.4897 - val_accuracy: 0.7727\n",
      "Epoch 11/100\n",
      "20/20 [==============================] - 0s 4ms/step - loss: 0.4378 - accuracy: 0.7899 - val_loss: 0.4939 - val_accuracy: 0.7662\n",
      "Epoch 12/100\n",
      "20/20 [==============================] - 0s 4ms/step - loss: 0.4362 - accuracy: 0.7915 - val_loss: 0.4942 - val_accuracy: 0.7597\n",
      "Epoch 13/100\n",
      "20/20 [==============================] - 0s 4ms/step - loss: 0.4331 - accuracy: 0.7883 - val_loss: 0.4966 - val_accuracy: 0.7597\n",
      "Epoch 14/100\n",
      "20/20 [==============================] - 0s 4ms/step - loss: 0.4311 - accuracy: 0.7883 - val_loss: 0.4921 - val_accuracy: 0.7662\n",
      "Epoch 15/100\n",
      "20/20 [==============================] - 0s 4ms/step - loss: 0.4294 - accuracy: 0.7932 - val_loss: 0.4921 - val_accuracy: 0.7532\n",
      "Epoch 16/100\n",
      "20/20 [==============================] - 0s 4ms/step - loss: 0.4273 - accuracy: 0.7915 - val_loss: 0.4948 - val_accuracy: 0.7532\n",
      "Epoch 17/100\n",
      "20/20 [==============================] - 0s 4ms/step - loss: 0.4259 - accuracy: 0.7964 - val_loss: 0.4971 - val_accuracy: 0.7597\n",
      "Epoch 18/100\n",
      "20/20 [==============================] - 0s 4ms/step - loss: 0.4236 - accuracy: 0.8013 - val_loss: 0.5017 - val_accuracy: 0.7532\n",
      "Epoch 19/100\n",
      "20/20 [==============================] - 0s 4ms/step - loss: 0.4221 - accuracy: 0.8013 - val_loss: 0.4966 - val_accuracy: 0.7532\n",
      "Epoch 20/100\n",
      "20/20 [==============================] - 0s 4ms/step - loss: 0.4214 - accuracy: 0.7997 - val_loss: 0.5000 - val_accuracy: 0.7597\n",
      "Epoch 21/100\n",
      "20/20 [==============================] - 0s 4ms/step - loss: 0.4212 - accuracy: 0.7980 - val_loss: 0.5009 - val_accuracy: 0.7403\n",
      "Epoch 22/100\n",
      "20/20 [==============================] - 0s 3ms/step - loss: 0.4196 - accuracy: 0.7997 - val_loss: 0.4987 - val_accuracy: 0.7338\n",
      "Epoch 23/100\n",
      "20/20 [==============================] - 0s 3ms/step - loss: 0.4179 - accuracy: 0.8013 - val_loss: 0.5021 - val_accuracy: 0.7403\n",
      "Epoch 24/100\n",
      "20/20 [==============================] - 0s 4ms/step - loss: 0.4154 - accuracy: 0.7997 - val_loss: 0.5001 - val_accuracy: 0.7468\n",
      "Epoch 25/100\n",
      "20/20 [==============================] - 0s 4ms/step - loss: 0.4129 - accuracy: 0.8046 - val_loss: 0.4996 - val_accuracy: 0.7532\n",
      "Epoch 26/100\n",
      "20/20 [==============================] - 0s 3ms/step - loss: 0.4121 - accuracy: 0.7997 - val_loss: 0.5006 - val_accuracy: 0.7597\n",
      "Epoch 27/100\n",
      "20/20 [==============================] - 0s 4ms/step - loss: 0.4120 - accuracy: 0.7980 - val_loss: 0.5004 - val_accuracy: 0.7532\n",
      "Epoch 28/100\n",
      "20/20 [==============================] - 0s 4ms/step - loss: 0.4104 - accuracy: 0.7964 - val_loss: 0.5060 - val_accuracy: 0.7532\n",
      "Epoch 29/100\n",
      "20/20 [==============================] - 0s 3ms/step - loss: 0.4092 - accuracy: 0.7980 - val_loss: 0.5066 - val_accuracy: 0.7532\n",
      "Epoch 30/100\n",
      "20/20 [==============================] - 0s 3ms/step - loss: 0.4091 - accuracy: 0.8078 - val_loss: 0.5107 - val_accuracy: 0.7532\n",
      "Epoch 31/100\n",
      "20/20 [==============================] - 0s 4ms/step - loss: 0.4062 - accuracy: 0.8078 - val_loss: 0.5034 - val_accuracy: 0.7532\n",
      "Epoch 32/100\n",
      "20/20 [==============================] - 0s 4ms/step - loss: 0.4051 - accuracy: 0.8046 - val_loss: 0.5063 - val_accuracy: 0.7532\n",
      "Epoch 33/100\n",
      "20/20 [==============================] - 0s 4ms/step - loss: 0.4048 - accuracy: 0.8029 - val_loss: 0.5028 - val_accuracy: 0.7468\n",
      "Epoch 34/100\n",
      "20/20 [==============================] - 0s 4ms/step - loss: 0.4030 - accuracy: 0.8029 - val_loss: 0.4994 - val_accuracy: 0.7597\n",
      "Epoch 35/100\n",
      "20/20 [==============================] - 0s 4ms/step - loss: 0.4025 - accuracy: 0.8062 - val_loss: 0.5050 - val_accuracy: 0.7597\n",
      "Epoch 36/100\n",
      "20/20 [==============================] - 0s 3ms/step - loss: 0.4019 - accuracy: 0.8062 - val_loss: 0.5085 - val_accuracy: 0.7403\n",
      "Epoch 37/100\n",
      "20/20 [==============================] - 0s 4ms/step - loss: 0.3995 - accuracy: 0.8078 - val_loss: 0.5068 - val_accuracy: 0.7468\n",
      "Epoch 38/100\n",
      "20/20 [==============================] - 0s 4ms/step - loss: 0.4008 - accuracy: 0.8029 - val_loss: 0.5124 - val_accuracy: 0.7532\n",
      "Epoch 39/100\n",
      "20/20 [==============================] - 0s 4ms/step - loss: 0.3990 - accuracy: 0.8013 - val_loss: 0.5094 - val_accuracy: 0.7273\n",
      "Epoch 40/100\n",
      "20/20 [==============================] - 0s 4ms/step - loss: 0.3976 - accuracy: 0.8111 - val_loss: 0.5153 - val_accuracy: 0.7273\n",
      "Epoch 41/100\n",
      "20/20 [==============================] - 0s 4ms/step - loss: 0.3971 - accuracy: 0.8094 - val_loss: 0.5075 - val_accuracy: 0.7403\n",
      "Epoch 42/100\n",
      "20/20 [==============================] - 0s 4ms/step - loss: 0.3942 - accuracy: 0.8094 - val_loss: 0.5095 - val_accuracy: 0.7532\n",
      "Epoch 43/100\n",
      "20/20 [==============================] - 0s 4ms/step - loss: 0.3942 - accuracy: 0.8078 - val_loss: 0.5088 - val_accuracy: 0.7403\n",
      "Epoch 44/100\n",
      "20/20 [==============================] - 0s 4ms/step - loss: 0.3923 - accuracy: 0.8160 - val_loss: 0.5075 - val_accuracy: 0.7403\n",
      "Epoch 45/100\n",
      "20/20 [==============================] - 0s 3ms/step - loss: 0.3920 - accuracy: 0.8143 - val_loss: 0.5089 - val_accuracy: 0.7468\n",
      "Epoch 46/100\n",
      "20/20 [==============================] - 0s 3ms/step - loss: 0.3941 - accuracy: 0.8094 - val_loss: 0.5113 - val_accuracy: 0.7532\n",
      "Epoch 47/100\n",
      "20/20 [==============================] - 0s 4ms/step - loss: 0.3909 - accuracy: 0.8208 - val_loss: 0.5103 - val_accuracy: 0.7338\n",
      "Epoch 48/100\n",
      "20/20 [==============================] - 0s 4ms/step - loss: 0.3896 - accuracy: 0.8192 - val_loss: 0.5093 - val_accuracy: 0.7403\n",
      "Epoch 49/100\n",
      "20/20 [==============================] - 0s 4ms/step - loss: 0.3894 - accuracy: 0.8176 - val_loss: 0.5091 - val_accuracy: 0.7403\n",
      "Epoch 50/100\n",
      "20/20 [==============================] - 0s 4ms/step - loss: 0.3890 - accuracy: 0.8241 - val_loss: 0.5143 - val_accuracy: 0.7468\n",
      "Epoch 51/100\n",
      "20/20 [==============================] - 0s 4ms/step - loss: 0.3865 - accuracy: 0.8241 - val_loss: 0.5120 - val_accuracy: 0.7403\n",
      "Epoch 52/100\n",
      "20/20 [==============================] - 0s 4ms/step - loss: 0.3870 - accuracy: 0.8127 - val_loss: 0.5130 - val_accuracy: 0.7403\n",
      "Epoch 53/100\n",
      "20/20 [==============================] - 0s 4ms/step - loss: 0.3870 - accuracy: 0.8241 - val_loss: 0.5133 - val_accuracy: 0.7468\n",
      "Epoch 54/100\n",
      "20/20 [==============================] - 0s 4ms/step - loss: 0.3863 - accuracy: 0.8192 - val_loss: 0.5097 - val_accuracy: 0.7468\n",
      "Epoch 55/100\n",
      "20/20 [==============================] - 0s 4ms/step - loss: 0.3863 - accuracy: 0.8257 - val_loss: 0.5196 - val_accuracy: 0.7403\n",
      "Epoch 56/100\n",
      "20/20 [==============================] - 0s 4ms/step - loss: 0.3849 - accuracy: 0.8208 - val_loss: 0.5163 - val_accuracy: 0.7532\n",
      "Epoch 57/100\n",
      "20/20 [==============================] - 0s 4ms/step - loss: 0.3840 - accuracy: 0.8339 - val_loss: 0.5172 - val_accuracy: 0.7597\n",
      "Epoch 58/100\n",
      "20/20 [==============================] - 0s 4ms/step - loss: 0.3841 - accuracy: 0.8241 - val_loss: 0.5078 - val_accuracy: 0.7597\n",
      "Epoch 59/100\n",
      "20/20 [==============================] - 0s 4ms/step - loss: 0.3816 - accuracy: 0.8225 - val_loss: 0.5168 - val_accuracy: 0.7532\n",
      "Epoch 60/100\n",
      "20/20 [==============================] - 0s 3ms/step - loss: 0.3809 - accuracy: 0.8306 - val_loss: 0.5175 - val_accuracy: 0.7597\n",
      "Epoch 61/100\n",
      "20/20 [==============================] - 0s 4ms/step - loss: 0.3797 - accuracy: 0.8322 - val_loss: 0.5172 - val_accuracy: 0.7597\n",
      "Epoch 62/100\n",
      "20/20 [==============================] - 0s 4ms/step - loss: 0.3782 - accuracy: 0.8274 - val_loss: 0.5171 - val_accuracy: 0.7468\n",
      "Epoch 63/100\n",
      "20/20 [==============================] - 0s 4ms/step - loss: 0.3788 - accuracy: 0.8208 - val_loss: 0.5144 - val_accuracy: 0.7532\n",
      "Epoch 64/100\n",
      "20/20 [==============================] - 0s 3ms/step - loss: 0.3789 - accuracy: 0.8241 - val_loss: 0.5191 - val_accuracy: 0.7468\n",
      "Epoch 65/100\n",
      "20/20 [==============================] - 0s 3ms/step - loss: 0.3780 - accuracy: 0.8257 - val_loss: 0.5198 - val_accuracy: 0.7403\n",
      "Epoch 66/100\n",
      "20/20 [==============================] - 0s 4ms/step - loss: 0.3758 - accuracy: 0.8322 - val_loss: 0.5088 - val_accuracy: 0.7532\n",
      "Epoch 67/100\n",
      "20/20 [==============================] - 0s 4ms/step - loss: 0.3758 - accuracy: 0.8290 - val_loss: 0.5146 - val_accuracy: 0.7597\n",
      "Epoch 68/100\n",
      "20/20 [==============================] - 0s 4ms/step - loss: 0.3765 - accuracy: 0.8322 - val_loss: 0.5189 - val_accuracy: 0.7532\n",
      "Epoch 69/100\n",
      "20/20 [==============================] - 0s 5ms/step - loss: 0.3739 - accuracy: 0.8290 - val_loss: 0.5158 - val_accuracy: 0.7597\n",
      "Epoch 70/100\n",
      "20/20 [==============================] - 0s 4ms/step - loss: 0.3740 - accuracy: 0.8322 - val_loss: 0.5270 - val_accuracy: 0.7468\n",
      "Epoch 71/100\n",
      "20/20 [==============================] - 0s 4ms/step - loss: 0.3755 - accuracy: 0.8274 - val_loss: 0.5224 - val_accuracy: 0.7403\n",
      "Epoch 72/100\n",
      "20/20 [==============================] - 0s 4ms/step - loss: 0.3723 - accuracy: 0.8274 - val_loss: 0.5225 - val_accuracy: 0.7468\n",
      "Epoch 73/100\n",
      "20/20 [==============================] - 0s 4ms/step - loss: 0.3737 - accuracy: 0.8322 - val_loss: 0.5233 - val_accuracy: 0.7403\n",
      "Epoch 74/100\n",
      "20/20 [==============================] - 0s 4ms/step - loss: 0.3709 - accuracy: 0.8290 - val_loss: 0.5177 - val_accuracy: 0.7532\n",
      "Epoch 75/100\n",
      "20/20 [==============================] - 0s 4ms/step - loss: 0.3700 - accuracy: 0.8339 - val_loss: 0.5237 - val_accuracy: 0.7403\n",
      "Epoch 76/100\n",
      "20/20 [==============================] - 0s 3ms/step - loss: 0.3698 - accuracy: 0.8306 - val_loss: 0.5232 - val_accuracy: 0.7403\n",
      "Epoch 77/100\n",
      "20/20 [==============================] - 0s 3ms/step - loss: 0.3692 - accuracy: 0.8274 - val_loss: 0.5202 - val_accuracy: 0.7468\n",
      "Epoch 78/100\n",
      "20/20 [==============================] - 0s 4ms/step - loss: 0.3688 - accuracy: 0.8322 - val_loss: 0.5204 - val_accuracy: 0.7468\n",
      "Epoch 79/100\n",
      "20/20 [==============================] - 0s 4ms/step - loss: 0.3720 - accuracy: 0.8274 - val_loss: 0.5203 - val_accuracy: 0.7403\n",
      "Epoch 80/100\n",
      "20/20 [==============================] - 0s 4ms/step - loss: 0.3676 - accuracy: 0.8306 - val_loss: 0.5255 - val_accuracy: 0.7468\n",
      "Epoch 81/100\n",
      "20/20 [==============================] - 0s 4ms/step - loss: 0.3666 - accuracy: 0.8388 - val_loss: 0.5273 - val_accuracy: 0.7403\n",
      "Epoch 82/100\n",
      "20/20 [==============================] - 0s 4ms/step - loss: 0.3673 - accuracy: 0.8274 - val_loss: 0.5205 - val_accuracy: 0.7338\n",
      "Epoch 83/100\n",
      "20/20 [==============================] - 0s 4ms/step - loss: 0.3646 - accuracy: 0.8322 - val_loss: 0.5253 - val_accuracy: 0.7403\n",
      "Epoch 84/100\n",
      "20/20 [==============================] - 0s 4ms/step - loss: 0.3638 - accuracy: 0.8339 - val_loss: 0.5233 - val_accuracy: 0.7403\n",
      "Epoch 85/100\n",
      "20/20 [==============================] - 0s 4ms/step - loss: 0.3623 - accuracy: 0.8436 - val_loss: 0.5225 - val_accuracy: 0.7403\n",
      "Epoch 86/100\n",
      "20/20 [==============================] - 0s 4ms/step - loss: 0.3640 - accuracy: 0.8420 - val_loss: 0.5269 - val_accuracy: 0.7338\n",
      "Epoch 87/100\n",
      "20/20 [==============================] - 0s 4ms/step - loss: 0.3636 - accuracy: 0.8404 - val_loss: 0.5320 - val_accuracy: 0.7403\n",
      "Epoch 88/100\n",
      "20/20 [==============================] - 0s 4ms/step - loss: 0.3621 - accuracy: 0.8355 - val_loss: 0.5247 - val_accuracy: 0.7338\n",
      "Epoch 89/100\n",
      "20/20 [==============================] - 0s 4ms/step - loss: 0.3614 - accuracy: 0.8371 - val_loss: 0.5233 - val_accuracy: 0.7468\n",
      "Epoch 90/100\n",
      "20/20 [==============================] - 0s 4ms/step - loss: 0.3628 - accuracy: 0.8339 - val_loss: 0.5390 - val_accuracy: 0.7273\n",
      "Epoch 91/100\n",
      "20/20 [==============================] - 0s 3ms/step - loss: 0.3606 - accuracy: 0.8404 - val_loss: 0.5264 - val_accuracy: 0.7338\n",
      "Epoch 92/100\n",
      "20/20 [==============================] - 0s 4ms/step - loss: 0.3616 - accuracy: 0.8404 - val_loss: 0.5274 - val_accuracy: 0.7403\n",
      "Epoch 93/100\n",
      "20/20 [==============================] - 0s 4ms/step - loss: 0.3582 - accuracy: 0.8436 - val_loss: 0.5273 - val_accuracy: 0.7403\n",
      "Epoch 94/100\n",
      "20/20 [==============================] - 0s 3ms/step - loss: 0.3580 - accuracy: 0.8388 - val_loss: 0.5270 - val_accuracy: 0.7403\n",
      "Epoch 95/100\n",
      "20/20 [==============================] - 0s 3ms/step - loss: 0.3578 - accuracy: 0.8404 - val_loss: 0.5323 - val_accuracy: 0.7403\n",
      "Epoch 96/100\n",
      "20/20 [==============================] - 0s 4ms/step - loss: 0.3571 - accuracy: 0.8388 - val_loss: 0.5297 - val_accuracy: 0.7403\n",
      "Epoch 97/100\n",
      "20/20 [==============================] - 0s 4ms/step - loss: 0.3565 - accuracy: 0.8420 - val_loss: 0.5201 - val_accuracy: 0.7468\n",
      "Epoch 98/100\n",
      "20/20 [==============================] - 0s 4ms/step - loss: 0.3559 - accuracy: 0.8388 - val_loss: 0.5294 - val_accuracy: 0.7403\n",
      "Epoch 99/100\n",
      "20/20 [==============================] - 0s 4ms/step - loss: 0.3562 - accuracy: 0.8404 - val_loss: 0.5380 - val_accuracy: 0.7273\n",
      "Epoch 100/100\n",
      "20/20 [==============================] - 0s 4ms/step - loss: 0.3545 - accuracy: 0.8420 - val_loss: 0.5303 - val_accuracy: 0.7208\n"
     ]
    },
    {
     "data": {
      "text/plain": [
       "<keras.callbacks.History at 0x7e41001ae680>"
      ]
     },
     "execution_count": 23,
     "metadata": {},
     "output_type": "execute_result"
    }
   ],
   "source": [
    "model.fit(X_train, y_train, epochs=100, batch_size=32, initial_epoch=6, \n",
    "          validation_data=(X_test, y_test))"
   ]
  },
  {
   "cell_type": "markdown",
   "id": "fda311ec",
   "metadata": {
    "papermill": {
     "duration": 0.069872,
     "end_time": "2023-08-16T16:24:43.164422",
     "exception": false,
     "start_time": "2023-08-16T16:24:43.094550",
     "status": "completed"
    },
    "tags": []
   },
   "source": [
    "# Keras tuner for no of layers"
   ]
  },
  {
   "cell_type": "code",
   "execution_count": 24,
   "id": "63d8468c",
   "metadata": {
    "execution": {
     "iopub.execute_input": "2023-08-16T16:24:43.306031Z",
     "iopub.status.busy": "2023-08-16T16:24:43.305619Z",
     "iopub.status.idle": "2023-08-16T16:24:43.313498Z",
     "shell.execute_reply": "2023-08-16T16:24:43.312051Z"
    },
    "papermill": {
     "duration": 0.081529,
     "end_time": "2023-08-16T16:24:43.315824",
     "exception": false,
     "start_time": "2023-08-16T16:24:43.234295",
     "status": "completed"
    },
    "tags": []
   },
   "outputs": [],
   "source": [
    "def build_model(hp):\n",
    "    model = Sequential()\n",
    "\n",
    "    model.add(Dense(240, activation='relu', input_dim=8))\n",
    "    \n",
    "    for i in range(hp.Int('num_layers', 1, 10)):\n",
    "        model.add(Dense(240, activation='relu'))\n",
    "        \n",
    "    model.add(Dense(1, activation='sigmoid'))\n",
    "    \n",
    "    model.compile(optimizer='Adam', loss='binary_crossentropy', metrics= ['accuracy'])\n",
    "    \n",
    "    return model"
   ]
  },
  {
   "cell_type": "code",
   "execution_count": 25,
   "id": "d51e312b",
   "metadata": {
    "execution": {
     "iopub.execute_input": "2023-08-16T16:24:43.452189Z",
     "iopub.status.busy": "2023-08-16T16:24:43.451716Z",
     "iopub.status.idle": "2023-08-16T16:24:43.521656Z",
     "shell.execute_reply": "2023-08-16T16:24:43.520362Z"
    },
    "papermill": {
     "duration": 0.141823,
     "end_time": "2023-08-16T16:24:43.524859",
     "exception": false,
     "start_time": "2023-08-16T16:24:43.383036",
     "status": "completed"
    },
    "tags": []
   },
   "outputs": [],
   "source": [
    "tuner = kt.RandomSearch(build_model, objective = 'val_accuracy', max_trials=5,\n",
    "                       directory=\"my_dir2\",\n",
    "                       project_name='num_layers')"
   ]
  },
  {
   "cell_type": "code",
   "execution_count": 26,
   "id": "f440c81b",
   "metadata": {
    "execution": {
     "iopub.execute_input": "2023-08-16T16:24:43.665157Z",
     "iopub.status.busy": "2023-08-16T16:24:43.664677Z",
     "iopub.status.idle": "2023-08-16T16:25:01.688709Z",
     "shell.execute_reply": "2023-08-16T16:25:01.687301Z"
    },
    "papermill": {
     "duration": 18.097082,
     "end_time": "2023-08-16T16:25:01.691268",
     "exception": false,
     "start_time": "2023-08-16T16:24:43.594186",
     "status": "completed"
    },
    "tags": []
   },
   "outputs": [
    {
     "name": "stdout",
     "output_type": "stream",
     "text": [
      "Trial 5 Complete [00h 00m 05s]\n",
      "val_accuracy: 0.7402597665786743\n",
      "\n",
      "Best val_accuracy So Far: 0.7727272510528564\n",
      "Total elapsed time: 00h 00m 18s\n"
     ]
    }
   ],
   "source": [
    "tuner.search(X_train, y_train, epochs=5, validation_data=(X_test, y_test))"
   ]
  },
  {
   "cell_type": "code",
   "execution_count": 27,
   "id": "baa829f8",
   "metadata": {
    "execution": {
     "iopub.execute_input": "2023-08-16T16:25:01.832637Z",
     "iopub.status.busy": "2023-08-16T16:25:01.832147Z",
     "iopub.status.idle": "2023-08-16T16:25:01.840525Z",
     "shell.execute_reply": "2023-08-16T16:25:01.839223Z"
    },
    "papermill": {
     "duration": 0.080242,
     "end_time": "2023-08-16T16:25:01.843016",
     "exception": false,
     "start_time": "2023-08-16T16:25:01.762774",
     "status": "completed"
    },
    "tags": []
   },
   "outputs": [
    {
     "data": {
      "text/plain": [
       "{'num_layers': 1}"
      ]
     },
     "execution_count": 27,
     "metadata": {},
     "output_type": "execute_result"
    }
   ],
   "source": [
    "tuner.get_best_hyperparameters()[0].values"
   ]
  },
  {
   "cell_type": "code",
   "execution_count": 28,
   "id": "b87f3c4f",
   "metadata": {
    "execution": {
     "iopub.execute_input": "2023-08-16T16:25:01.980429Z",
     "iopub.status.busy": "2023-08-16T16:25:01.979873Z",
     "iopub.status.idle": "2023-08-16T16:25:02.355079Z",
     "shell.execute_reply": "2023-08-16T16:25:02.353945Z"
    },
    "papermill": {
     "duration": 0.447195,
     "end_time": "2023-08-16T16:25:02.358103",
     "exception": false,
     "start_time": "2023-08-16T16:25:01.910908",
     "status": "completed"
    },
    "tags": []
   },
   "outputs": [],
   "source": [
    "model = tuner.get_best_models(num_models=1)[0]"
   ]
  },
  {
   "cell_type": "code",
   "execution_count": 29,
   "id": "67632beb",
   "metadata": {
    "execution": {
     "iopub.execute_input": "2023-08-16T16:25:02.499569Z",
     "iopub.status.busy": "2023-08-16T16:25:02.498433Z",
     "iopub.status.idle": "2023-08-16T16:25:02.523193Z",
     "shell.execute_reply": "2023-08-16T16:25:02.521569Z"
    },
    "papermill": {
     "duration": 0.096087,
     "end_time": "2023-08-16T16:25:02.525427",
     "exception": false,
     "start_time": "2023-08-16T16:25:02.429340",
     "status": "completed"
    },
    "tags": []
   },
   "outputs": [
    {
     "name": "stdout",
     "output_type": "stream",
     "text": [
      "Model: \"sequential\"\n",
      "_________________________________________________________________\n",
      " Layer (type)                Output Shape              Param #   \n",
      "=================================================================\n",
      " dense (Dense)               (None, 240)               2160      \n",
      "                                                                 \n",
      " dense_1 (Dense)             (None, 240)               57840     \n",
      "                                                                 \n",
      " dense_2 (Dense)             (None, 1)                 241       \n",
      "                                                                 \n",
      "=================================================================\n",
      "Total params: 60,241\n",
      "Trainable params: 60,241\n",
      "Non-trainable params: 0\n",
      "_________________________________________________________________\n"
     ]
    }
   ],
   "source": [
    "model.summary()"
   ]
  },
  {
   "cell_type": "code",
   "execution_count": 30,
   "id": "ce9b5cc8",
   "metadata": {
    "execution": {
     "iopub.execute_input": "2023-08-16T16:25:02.665089Z",
     "iopub.status.busy": "2023-08-16T16:25:02.664663Z",
     "iopub.status.idle": "2023-08-16T16:25:13.702745Z",
     "shell.execute_reply": "2023-08-16T16:25:13.701525Z"
    },
    "papermill": {
     "duration": 11.111138,
     "end_time": "2023-08-16T16:25:13.705050",
     "exception": false,
     "start_time": "2023-08-16T16:25:02.593912",
     "status": "completed"
    },
    "tags": []
   },
   "outputs": [
    {
     "name": "stdout",
     "output_type": "stream",
     "text": [
      "Epoch 7/100\n",
      "20/20 [==============================] - 1s 14ms/step - loss: 0.4481 - accuracy: 0.7850 - val_loss: 0.4956 - val_accuracy: 0.7597\n",
      "Epoch 8/100\n",
      "20/20 [==============================] - 0s 5ms/step - loss: 0.4303 - accuracy: 0.7980 - val_loss: 0.4959 - val_accuracy: 0.7403\n",
      "Epoch 9/100\n",
      "20/20 [==============================] - 0s 5ms/step - loss: 0.4267 - accuracy: 0.8029 - val_loss: 0.4937 - val_accuracy: 0.7273\n",
      "Epoch 10/100\n",
      "20/20 [==============================] - 0s 5ms/step - loss: 0.4157 - accuracy: 0.8046 - val_loss: 0.5022 - val_accuracy: 0.7403\n",
      "Epoch 11/100\n",
      "20/20 [==============================] - 0s 5ms/step - loss: 0.4117 - accuracy: 0.7980 - val_loss: 0.5076 - val_accuracy: 0.7727\n",
      "Epoch 12/100\n",
      "20/20 [==============================] - 0s 5ms/step - loss: 0.4021 - accuracy: 0.7980 - val_loss: 0.5040 - val_accuracy: 0.7338\n",
      "Epoch 13/100\n",
      "20/20 [==============================] - 0s 5ms/step - loss: 0.4032 - accuracy: 0.8046 - val_loss: 0.5164 - val_accuracy: 0.7597\n",
      "Epoch 14/100\n",
      "20/20 [==============================] - 0s 5ms/step - loss: 0.3973 - accuracy: 0.8160 - val_loss: 0.5062 - val_accuracy: 0.7338\n",
      "Epoch 15/100\n",
      "20/20 [==============================] - 0s 6ms/step - loss: 0.3930 - accuracy: 0.8078 - val_loss: 0.5205 - val_accuracy: 0.7273\n",
      "Epoch 16/100\n",
      "20/20 [==============================] - 0s 5ms/step - loss: 0.3844 - accuracy: 0.8143 - val_loss: 0.5121 - val_accuracy: 0.7338\n",
      "Epoch 17/100\n",
      "20/20 [==============================] - 0s 5ms/step - loss: 0.3850 - accuracy: 0.8046 - val_loss: 0.5186 - val_accuracy: 0.7143\n",
      "Epoch 18/100\n",
      "20/20 [==============================] - 0s 5ms/step - loss: 0.3750 - accuracy: 0.8257 - val_loss: 0.5117 - val_accuracy: 0.7338\n",
      "Epoch 19/100\n",
      "20/20 [==============================] - 0s 6ms/step - loss: 0.3664 - accuracy: 0.8322 - val_loss: 0.5317 - val_accuracy: 0.7468\n",
      "Epoch 20/100\n",
      "20/20 [==============================] - 0s 5ms/step - loss: 0.3628 - accuracy: 0.8290 - val_loss: 0.5293 - val_accuracy: 0.7403\n",
      "Epoch 21/100\n",
      "20/20 [==============================] - 0s 5ms/step - loss: 0.3643 - accuracy: 0.8241 - val_loss: 0.5354 - val_accuracy: 0.7143\n",
      "Epoch 22/100\n",
      "20/20 [==============================] - 0s 5ms/step - loss: 0.3643 - accuracy: 0.8339 - val_loss: 0.5564 - val_accuracy: 0.7338\n",
      "Epoch 23/100\n",
      "20/20 [==============================] - 0s 6ms/step - loss: 0.3482 - accuracy: 0.8453 - val_loss: 0.5545 - val_accuracy: 0.7143\n",
      "Epoch 24/100\n",
      "20/20 [==============================] - 0s 6ms/step - loss: 0.3427 - accuracy: 0.8436 - val_loss: 0.5545 - val_accuracy: 0.7532\n",
      "Epoch 25/100\n",
      "20/20 [==============================] - 0s 5ms/step - loss: 0.3399 - accuracy: 0.8436 - val_loss: 0.5546 - val_accuracy: 0.6948\n",
      "Epoch 26/100\n",
      "20/20 [==============================] - 0s 5ms/step - loss: 0.3364 - accuracy: 0.8339 - val_loss: 0.5598 - val_accuracy: 0.7078\n",
      "Epoch 27/100\n",
      "20/20 [==============================] - 0s 5ms/step - loss: 0.3265 - accuracy: 0.8518 - val_loss: 0.5668 - val_accuracy: 0.7338\n",
      "Epoch 28/100\n",
      "20/20 [==============================] - 0s 5ms/step - loss: 0.3346 - accuracy: 0.8502 - val_loss: 0.5795 - val_accuracy: 0.7013\n",
      "Epoch 29/100\n",
      "20/20 [==============================] - 0s 5ms/step - loss: 0.3176 - accuracy: 0.8599 - val_loss: 0.5730 - val_accuracy: 0.7143\n",
      "Epoch 30/100\n",
      "20/20 [==============================] - 0s 5ms/step - loss: 0.3111 - accuracy: 0.8681 - val_loss: 0.5774 - val_accuracy: 0.7013\n",
      "Epoch 31/100\n",
      "20/20 [==============================] - 0s 6ms/step - loss: 0.3064 - accuracy: 0.8746 - val_loss: 0.5831 - val_accuracy: 0.6948\n",
      "Epoch 32/100\n",
      "20/20 [==============================] - 0s 5ms/step - loss: 0.3034 - accuracy: 0.8730 - val_loss: 0.5925 - val_accuracy: 0.6883\n",
      "Epoch 33/100\n",
      "20/20 [==============================] - 0s 5ms/step - loss: 0.3069 - accuracy: 0.8599 - val_loss: 0.6189 - val_accuracy: 0.7143\n",
      "Epoch 34/100\n",
      "20/20 [==============================] - 0s 5ms/step - loss: 0.2998 - accuracy: 0.8730 - val_loss: 0.5973 - val_accuracy: 0.7078\n",
      "Epoch 35/100\n",
      "20/20 [==============================] - 0s 5ms/step - loss: 0.2826 - accuracy: 0.8762 - val_loss: 0.6416 - val_accuracy: 0.7078\n",
      "Epoch 36/100\n",
      "20/20 [==============================] - 0s 5ms/step - loss: 0.2969 - accuracy: 0.8664 - val_loss: 0.6259 - val_accuracy: 0.7078\n",
      "Epoch 37/100\n",
      "20/20 [==============================] - 0s 5ms/step - loss: 0.2720 - accuracy: 0.8860 - val_loss: 0.6298 - val_accuracy: 0.7013\n",
      "Epoch 38/100\n",
      "20/20 [==============================] - 0s 5ms/step - loss: 0.2702 - accuracy: 0.8974 - val_loss: 0.6359 - val_accuracy: 0.7013\n",
      "Epoch 39/100\n",
      "20/20 [==============================] - 0s 5ms/step - loss: 0.2593 - accuracy: 0.9007 - val_loss: 0.6581 - val_accuracy: 0.6883\n",
      "Epoch 40/100\n",
      "20/20 [==============================] - 0s 5ms/step - loss: 0.2566 - accuracy: 0.8990 - val_loss: 0.6754 - val_accuracy: 0.6948\n",
      "Epoch 41/100\n",
      "20/20 [==============================] - 0s 5ms/step - loss: 0.2493 - accuracy: 0.9088 - val_loss: 0.6856 - val_accuracy: 0.6948\n",
      "Epoch 42/100\n",
      "20/20 [==============================] - 0s 5ms/step - loss: 0.2448 - accuracy: 0.9104 - val_loss: 0.6670 - val_accuracy: 0.6948\n",
      "Epoch 43/100\n",
      "20/20 [==============================] - 0s 6ms/step - loss: 0.2379 - accuracy: 0.9055 - val_loss: 0.6691 - val_accuracy: 0.7013\n",
      "Epoch 44/100\n",
      "20/20 [==============================] - 0s 5ms/step - loss: 0.2310 - accuracy: 0.9153 - val_loss: 0.7039 - val_accuracy: 0.6948\n",
      "Epoch 45/100\n",
      "20/20 [==============================] - 0s 5ms/step - loss: 0.2327 - accuracy: 0.9121 - val_loss: 0.7289 - val_accuracy: 0.6818\n",
      "Epoch 46/100\n",
      "20/20 [==============================] - 0s 5ms/step - loss: 0.2305 - accuracy: 0.9104 - val_loss: 0.7585 - val_accuracy: 0.7013\n",
      "Epoch 47/100\n",
      "20/20 [==============================] - 0s 5ms/step - loss: 0.2304 - accuracy: 0.9023 - val_loss: 0.6905 - val_accuracy: 0.6753\n",
      "Epoch 48/100\n",
      "20/20 [==============================] - 0s 5ms/step - loss: 0.2279 - accuracy: 0.9153 - val_loss: 0.7374 - val_accuracy: 0.7013\n",
      "Epoch 49/100\n",
      "20/20 [==============================] - 0s 5ms/step - loss: 0.2094 - accuracy: 0.9186 - val_loss: 0.7269 - val_accuracy: 0.6818\n",
      "Epoch 50/100\n",
      "20/20 [==============================] - 0s 5ms/step - loss: 0.2180 - accuracy: 0.9202 - val_loss: 0.7146 - val_accuracy: 0.7013\n",
      "Epoch 51/100\n",
      "20/20 [==============================] - 0s 5ms/step - loss: 0.1976 - accuracy: 0.9397 - val_loss: 0.7619 - val_accuracy: 0.6818\n",
      "Epoch 52/100\n",
      "20/20 [==============================] - 0s 5ms/step - loss: 0.1973 - accuracy: 0.9397 - val_loss: 0.7840 - val_accuracy: 0.6818\n",
      "Epoch 53/100\n",
      "20/20 [==============================] - 0s 5ms/step - loss: 0.1858 - accuracy: 0.9430 - val_loss: 0.7995 - val_accuracy: 0.6623\n",
      "Epoch 54/100\n",
      "20/20 [==============================] - 0s 5ms/step - loss: 0.1862 - accuracy: 0.9397 - val_loss: 0.7578 - val_accuracy: 0.6818\n",
      "Epoch 55/100\n",
      "20/20 [==============================] - 0s 5ms/step - loss: 0.1797 - accuracy: 0.9414 - val_loss: 0.8056 - val_accuracy: 0.6948\n",
      "Epoch 56/100\n",
      "20/20 [==============================] - 0s 5ms/step - loss: 0.1793 - accuracy: 0.9332 - val_loss: 0.8125 - val_accuracy: 0.6948\n",
      "Epoch 57/100\n",
      "20/20 [==============================] - 0s 5ms/step - loss: 0.1625 - accuracy: 0.9495 - val_loss: 0.8060 - val_accuracy: 0.6818\n",
      "Epoch 58/100\n",
      "20/20 [==============================] - 0s 5ms/step - loss: 0.1678 - accuracy: 0.9463 - val_loss: 0.8131 - val_accuracy: 0.6818\n",
      "Epoch 59/100\n",
      "20/20 [==============================] - 0s 5ms/step - loss: 0.1652 - accuracy: 0.9365 - val_loss: 0.8785 - val_accuracy: 0.6753\n",
      "Epoch 60/100\n",
      "20/20 [==============================] - 0s 5ms/step - loss: 0.1569 - accuracy: 0.9479 - val_loss: 0.8636 - val_accuracy: 0.6558\n",
      "Epoch 61/100\n",
      "20/20 [==============================] - 0s 5ms/step - loss: 0.1476 - accuracy: 0.9528 - val_loss: 0.8759 - val_accuracy: 0.6753\n",
      "Epoch 62/100\n",
      "20/20 [==============================] - 0s 5ms/step - loss: 0.1501 - accuracy: 0.9463 - val_loss: 0.8942 - val_accuracy: 0.6429\n",
      "Epoch 63/100\n",
      "20/20 [==============================] - 0s 5ms/step - loss: 0.1429 - accuracy: 0.9577 - val_loss: 0.8923 - val_accuracy: 0.6688\n",
      "Epoch 64/100\n",
      "20/20 [==============================] - 0s 5ms/step - loss: 0.1414 - accuracy: 0.9609 - val_loss: 0.9244 - val_accuracy: 0.6494\n",
      "Epoch 65/100\n",
      "20/20 [==============================] - 0s 6ms/step - loss: 0.1368 - accuracy: 0.9560 - val_loss: 0.9300 - val_accuracy: 0.6558\n",
      "Epoch 66/100\n",
      "20/20 [==============================] - 0s 5ms/step - loss: 0.1278 - accuracy: 0.9625 - val_loss: 0.9633 - val_accuracy: 0.6429\n",
      "Epoch 67/100\n",
      "20/20 [==============================] - 0s 5ms/step - loss: 0.1231 - accuracy: 0.9625 - val_loss: 0.9899 - val_accuracy: 0.6623\n",
      "Epoch 68/100\n",
      "20/20 [==============================] - 0s 5ms/step - loss: 0.1228 - accuracy: 0.9625 - val_loss: 0.9871 - val_accuracy: 0.6688\n",
      "Epoch 69/100\n",
      "20/20 [==============================] - 0s 5ms/step - loss: 0.1110 - accuracy: 0.9723 - val_loss: 0.9751 - val_accuracy: 0.6494\n",
      "Epoch 70/100\n",
      "20/20 [==============================] - 0s 6ms/step - loss: 0.1161 - accuracy: 0.9642 - val_loss: 1.0182 - val_accuracy: 0.6429\n",
      "Epoch 71/100\n",
      "20/20 [==============================] - 0s 5ms/step - loss: 0.1176 - accuracy: 0.9609 - val_loss: 1.0389 - val_accuracy: 0.6558\n",
      "Epoch 72/100\n",
      "20/20 [==============================] - 0s 5ms/step - loss: 0.1209 - accuracy: 0.9625 - val_loss: 1.0344 - val_accuracy: 0.6883\n",
      "Epoch 73/100\n",
      "20/20 [==============================] - 0s 5ms/step - loss: 0.1151 - accuracy: 0.9625 - val_loss: 0.9926 - val_accuracy: 0.6494\n",
      "Epoch 74/100\n",
      "20/20 [==============================] - 0s 5ms/step - loss: 0.1172 - accuracy: 0.9691 - val_loss: 1.0143 - val_accuracy: 0.6494\n",
      "Epoch 75/100\n",
      "20/20 [==============================] - 0s 6ms/step - loss: 0.1068 - accuracy: 0.9691 - val_loss: 1.0467 - val_accuracy: 0.6364\n",
      "Epoch 76/100\n",
      "20/20 [==============================] - 0s 5ms/step - loss: 0.0951 - accuracy: 0.9853 - val_loss: 1.0185 - val_accuracy: 0.6558\n",
      "Epoch 77/100\n",
      "20/20 [==============================] - 0s 5ms/step - loss: 0.0897 - accuracy: 0.9772 - val_loss: 1.0932 - val_accuracy: 0.6558\n",
      "Epoch 78/100\n",
      "20/20 [==============================] - 0s 5ms/step - loss: 0.1044 - accuracy: 0.9739 - val_loss: 1.0239 - val_accuracy: 0.6753\n",
      "Epoch 79/100\n",
      "20/20 [==============================] - 0s 5ms/step - loss: 0.1039 - accuracy: 0.9756 - val_loss: 1.1933 - val_accuracy: 0.6234\n",
      "Epoch 80/100\n",
      "20/20 [==============================] - 0s 5ms/step - loss: 0.0823 - accuracy: 0.9805 - val_loss: 1.0604 - val_accuracy: 0.6494\n",
      "Epoch 81/100\n",
      "20/20 [==============================] - 0s 5ms/step - loss: 0.0766 - accuracy: 0.9870 - val_loss: 1.1115 - val_accuracy: 0.6623\n",
      "Epoch 82/100\n",
      "20/20 [==============================] - 0s 5ms/step - loss: 0.0778 - accuracy: 0.9886 - val_loss: 1.1731 - val_accuracy: 0.6494\n",
      "Epoch 83/100\n",
      "20/20 [==============================] - 0s 5ms/step - loss: 0.0807 - accuracy: 0.9837 - val_loss: 1.1361 - val_accuracy: 0.6753\n",
      "Epoch 84/100\n",
      "20/20 [==============================] - 0s 6ms/step - loss: 0.0819 - accuracy: 0.9821 - val_loss: 1.2275 - val_accuracy: 0.6558\n",
      "Epoch 85/100\n",
      "20/20 [==============================] - 0s 5ms/step - loss: 0.0706 - accuracy: 0.9837 - val_loss: 1.1286 - val_accuracy: 0.6558\n",
      "Epoch 86/100\n",
      "20/20 [==============================] - 0s 5ms/step - loss: 0.0712 - accuracy: 0.9870 - val_loss: 1.2457 - val_accuracy: 0.6558\n",
      "Epoch 87/100\n",
      "20/20 [==============================] - 0s 5ms/step - loss: 0.0654 - accuracy: 0.9870 - val_loss: 1.1876 - val_accuracy: 0.6623\n",
      "Epoch 88/100\n",
      "20/20 [==============================] - 0s 5ms/step - loss: 0.0648 - accuracy: 0.9788 - val_loss: 1.2299 - val_accuracy: 0.6494\n",
      "Epoch 89/100\n",
      "20/20 [==============================] - 0s 5ms/step - loss: 0.0567 - accuracy: 0.9935 - val_loss: 1.2225 - val_accuracy: 0.6558\n",
      "Epoch 90/100\n",
      "20/20 [==============================] - 0s 5ms/step - loss: 0.0619 - accuracy: 0.9886 - val_loss: 1.2221 - val_accuracy: 0.6429\n",
      "Epoch 91/100\n",
      "20/20 [==============================] - 0s 5ms/step - loss: 0.0594 - accuracy: 0.9870 - val_loss: 1.3093 - val_accuracy: 0.6558\n",
      "Epoch 92/100\n",
      "20/20 [==============================] - 0s 5ms/step - loss: 0.0576 - accuracy: 0.9870 - val_loss: 1.2914 - val_accuracy: 0.6429\n",
      "Epoch 93/100\n",
      "20/20 [==============================] - 0s 5ms/step - loss: 0.0559 - accuracy: 0.9886 - val_loss: 1.2647 - val_accuracy: 0.6494\n",
      "Epoch 94/100\n",
      "20/20 [==============================] - 0s 5ms/step - loss: 0.0528 - accuracy: 0.9902 - val_loss: 1.4002 - val_accuracy: 0.6429\n",
      "Epoch 95/100\n",
      "20/20 [==============================] - 0s 5ms/step - loss: 0.0510 - accuracy: 0.9886 - val_loss: 1.2573 - val_accuracy: 0.6623\n",
      "Epoch 96/100\n",
      "20/20 [==============================] - 0s 5ms/step - loss: 0.0489 - accuracy: 0.9951 - val_loss: 1.3742 - val_accuracy: 0.6623\n",
      "Epoch 97/100\n",
      "20/20 [==============================] - 0s 5ms/step - loss: 0.0511 - accuracy: 0.9870 - val_loss: 1.3165 - val_accuracy: 0.6429\n",
      "Epoch 98/100\n",
      "20/20 [==============================] - 0s 5ms/step - loss: 0.0481 - accuracy: 0.9919 - val_loss: 1.3096 - val_accuracy: 0.6688\n",
      "Epoch 99/100\n",
      "20/20 [==============================] - 0s 5ms/step - loss: 0.0499 - accuracy: 0.9853 - val_loss: 1.4602 - val_accuracy: 0.6494\n",
      "Epoch 100/100\n",
      "20/20 [==============================] - 0s 5ms/step - loss: 0.0493 - accuracy: 0.9902 - val_loss: 1.3375 - val_accuracy: 0.6558\n"
     ]
    },
    {
     "data": {
      "text/plain": [
       "<keras.callbacks.History at 0x7e4100117e50>"
      ]
     },
     "execution_count": 30,
     "metadata": {},
     "output_type": "execute_result"
    }
   ],
   "source": [
    "model.fit(X_train, y_train, epochs=100, batch_size=32, initial_epoch=6, \n",
    "          validation_data=(X_test, y_test))"
   ]
  },
  {
   "cell_type": "markdown",
   "id": "54164d44",
   "metadata": {
    "papermill": {
     "duration": 0.103378,
     "end_time": "2023-08-16T16:25:13.915089",
     "exception": false,
     "start_time": "2023-08-16T16:25:13.811711",
     "status": "completed"
    },
    "tags": []
   },
   "source": [
    "# Keras tuner all in one"
   ]
  },
  {
   "cell_type": "code",
   "execution_count": 31,
   "id": "33f1610c",
   "metadata": {
    "execution": {
     "iopub.execute_input": "2023-08-16T16:25:14.127670Z",
     "iopub.status.busy": "2023-08-16T16:25:14.126851Z",
     "iopub.status.idle": "2023-08-16T16:25:14.136732Z",
     "shell.execute_reply": "2023-08-16T16:25:14.135452Z"
    },
    "papermill": {
     "duration": 0.116878,
     "end_time": "2023-08-16T16:25:14.139178",
     "exception": false,
     "start_time": "2023-08-16T16:25:14.022300",
     "status": "completed"
    },
    "tags": []
   },
   "outputs": [],
   "source": [
    "def build_model(hp):\n",
    "    model = Sequential()\n",
    "    \n",
    "    counter = 0\n",
    "    \n",
    "    for i in range(hp.Int('num_layers', 1, 10)):\n",
    "        \n",
    "        if counter == 0:\n",
    "            model.add(Dense(hp.Int('units', 8, 256, 8), activation=hp.Choice('activation'+str(i), values=['relu', 'tanh', 'sigmoid']),input_dim=8))\n",
    "            \n",
    "        else:\n",
    "            model.add(Dense(hp.Int('units', 8, 256, 8), activation=hp.Choice('activation'+str(i), values=['relu', 'tanh', 'sigmoid']))) \n",
    "            \n",
    "        counter+=1\n",
    "\n",
    "    \n",
    "    model.add(Dense(1, activation='sigmoid'))\n",
    "    \n",
    "    model.compile(optimizer=hp.Choice('optimizer',['Adam', 'sgd', 'rmsprop', 'adadelta']), loss='binary_crossentropy', metrics= ['accuracy'])\n",
    "    \n",
    "    return model"
   ]
  },
  {
   "cell_type": "code",
   "execution_count": 32,
   "id": "353c0e57",
   "metadata": {
    "execution": {
     "iopub.execute_input": "2023-08-16T16:25:14.346776Z",
     "iopub.status.busy": "2023-08-16T16:25:14.345974Z",
     "iopub.status.idle": "2023-08-16T16:25:14.403802Z",
     "shell.execute_reply": "2023-08-16T16:25:14.402449Z"
    },
    "papermill": {
     "duration": 0.165702,
     "end_time": "2023-08-16T16:25:14.406786",
     "exception": false,
     "start_time": "2023-08-16T16:25:14.241084",
     "status": "completed"
    },
    "tags": []
   },
   "outputs": [],
   "source": [
    "tuner = kt.RandomSearch(build_model, objective = 'val_accuracy', max_trials=3,\n",
    "                       directory=\"my_dir4\",\n",
    "                       project_name='all')"
   ]
  },
  {
   "cell_type": "code",
   "execution_count": 33,
   "id": "76fe7482",
   "metadata": {
    "execution": {
     "iopub.execute_input": "2023-08-16T16:25:14.614302Z",
     "iopub.status.busy": "2023-08-16T16:25:14.613755Z",
     "iopub.status.idle": "2023-08-16T16:25:21.735767Z",
     "shell.execute_reply": "2023-08-16T16:25:21.734239Z"
    },
    "papermill": {
     "duration": 7.228928,
     "end_time": "2023-08-16T16:25:21.738401",
     "exception": false,
     "start_time": "2023-08-16T16:25:14.509473",
     "status": "completed"
    },
    "tags": []
   },
   "outputs": [
    {
     "name": "stdout",
     "output_type": "stream",
     "text": [
      "Trial 3 Complete [00h 00m 03s]\n",
      "val_accuracy: 0.7207792401313782\n",
      "\n",
      "Best val_accuracy So Far: 0.7662337422370911\n",
      "Total elapsed time: 00h 00m 07s\n"
     ]
    }
   ],
   "source": [
    "tuner.search(X_train, y_train, epochs=5, validation_data=(X_test, y_test))"
   ]
  },
  {
   "cell_type": "code",
   "execution_count": 34,
   "id": "8d4fcde9",
   "metadata": {
    "execution": {
     "iopub.execute_input": "2023-08-16T16:25:21.953814Z",
     "iopub.status.busy": "2023-08-16T16:25:21.952526Z",
     "iopub.status.idle": "2023-08-16T16:25:21.961744Z",
     "shell.execute_reply": "2023-08-16T16:25:21.960844Z"
    },
    "papermill": {
     "duration": 0.118116,
     "end_time": "2023-08-16T16:25:21.964089",
     "exception": false,
     "start_time": "2023-08-16T16:25:21.845973",
     "status": "completed"
    },
    "tags": []
   },
   "outputs": [
    {
     "data": {
      "text/plain": [
       "{'num_layers': 4,\n",
       " 'units': 40,\n",
       " 'activation0': 'tanh',\n",
       " 'optimizer': 'rmsprop',\n",
       " 'activation1': 'relu',\n",
       " 'activation2': 'relu',\n",
       " 'activation3': 'relu'}"
      ]
     },
     "execution_count": 34,
     "metadata": {},
     "output_type": "execute_result"
    }
   ],
   "source": [
    "tuner.get_best_hyperparameters()[0].values"
   ]
  },
  {
   "cell_type": "code",
   "execution_count": 35,
   "id": "f49ef3d9",
   "metadata": {
    "execution": {
     "iopub.execute_input": "2023-08-16T16:25:22.182453Z",
     "iopub.status.busy": "2023-08-16T16:25:22.181041Z",
     "iopub.status.idle": "2023-08-16T16:25:22.605066Z",
     "shell.execute_reply": "2023-08-16T16:25:22.603662Z"
    },
    "papermill": {
     "duration": 0.534515,
     "end_time": "2023-08-16T16:25:22.608300",
     "exception": false,
     "start_time": "2023-08-16T16:25:22.073785",
     "status": "completed"
    },
    "tags": []
   },
   "outputs": [],
   "source": [
    "model = tuner.get_best_models(num_models=1)[0]"
   ]
  },
  {
   "cell_type": "code",
   "execution_count": 36,
   "id": "7a1e9bb9",
   "metadata": {
    "execution": {
     "iopub.execute_input": "2023-08-16T16:25:22.820701Z",
     "iopub.status.busy": "2023-08-16T16:25:22.820260Z",
     "iopub.status.idle": "2023-08-16T16:25:22.851843Z",
     "shell.execute_reply": "2023-08-16T16:25:22.850589Z"
    },
    "papermill": {
     "duration": 0.141994,
     "end_time": "2023-08-16T16:25:22.855013",
     "exception": false,
     "start_time": "2023-08-16T16:25:22.713019",
     "status": "completed"
    },
    "tags": []
   },
   "outputs": [
    {
     "name": "stdout",
     "output_type": "stream",
     "text": [
      "Model: \"sequential\"\n",
      "_________________________________________________________________\n",
      " Layer (type)                Output Shape              Param #   \n",
      "=================================================================\n",
      " dense (Dense)               (None, 40)                360       \n",
      "                                                                 \n",
      " dense_1 (Dense)             (None, 40)                1640      \n",
      "                                                                 \n",
      " dense_2 (Dense)             (None, 40)                1640      \n",
      "                                                                 \n",
      " dense_3 (Dense)             (None, 40)                1640      \n",
      "                                                                 \n",
      " dense_4 (Dense)             (None, 1)                 41        \n",
      "                                                                 \n",
      "=================================================================\n",
      "Total params: 5,321\n",
      "Trainable params: 5,321\n",
      "Non-trainable params: 0\n",
      "_________________________________________________________________\n"
     ]
    }
   ],
   "source": [
    "model.summary()"
   ]
  },
  {
   "cell_type": "code",
   "execution_count": 37,
   "id": "8654f0e5",
   "metadata": {
    "execution": {
     "iopub.execute_input": "2023-08-16T16:25:23.071867Z",
     "iopub.status.busy": "2023-08-16T16:25:23.071496Z",
     "iopub.status.idle": "2023-08-16T16:25:40.599894Z",
     "shell.execute_reply": "2023-08-16T16:25:40.598513Z"
    },
    "papermill": {
     "duration": 17.642431,
     "end_time": "2023-08-16T16:25:40.602550",
     "exception": false,
     "start_time": "2023-08-16T16:25:22.960119",
     "status": "completed"
    },
    "tags": []
   },
   "outputs": [
    {
     "name": "stdout",
     "output_type": "stream",
     "text": [
      "Epoch 7/200\n",
      "20/20 [==============================] - 1s 14ms/step - loss: 0.4780 - accuracy: 0.7818 - val_loss: 0.4907 - val_accuracy: 0.7662\n",
      "Epoch 8/200\n",
      "20/20 [==============================] - 0s 4ms/step - loss: 0.4583 - accuracy: 0.7883 - val_loss: 0.4817 - val_accuracy: 0.7532\n",
      "Epoch 9/200\n",
      "20/20 [==============================] - 0s 4ms/step - loss: 0.4503 - accuracy: 0.7964 - val_loss: 0.4862 - val_accuracy: 0.7597\n",
      "Epoch 10/200\n",
      "20/20 [==============================] - 0s 4ms/step - loss: 0.4428 - accuracy: 0.8029 - val_loss: 0.4858 - val_accuracy: 0.7532\n",
      "Epoch 11/200\n",
      "20/20 [==============================] - 0s 4ms/step - loss: 0.4364 - accuracy: 0.8013 - val_loss: 0.4957 - val_accuracy: 0.7532\n",
      "Epoch 12/200\n",
      "20/20 [==============================] - 0s 4ms/step - loss: 0.4315 - accuracy: 0.7964 - val_loss: 0.4859 - val_accuracy: 0.7143\n",
      "Epoch 13/200\n",
      "20/20 [==============================] - 0s 4ms/step - loss: 0.4257 - accuracy: 0.8062 - val_loss: 0.4893 - val_accuracy: 0.7532\n",
      "Epoch 14/200\n",
      "20/20 [==============================] - 0s 4ms/step - loss: 0.4212 - accuracy: 0.8062 - val_loss: 0.4946 - val_accuracy: 0.7338\n",
      "Epoch 15/200\n",
      "20/20 [==============================] - 0s 4ms/step - loss: 0.4159 - accuracy: 0.8029 - val_loss: 0.5020 - val_accuracy: 0.7532\n",
      "Epoch 16/200\n",
      "20/20 [==============================] - 0s 4ms/step - loss: 0.4142 - accuracy: 0.8046 - val_loss: 0.4916 - val_accuracy: 0.7403\n",
      "Epoch 17/200\n",
      "20/20 [==============================] - 0s 4ms/step - loss: 0.4106 - accuracy: 0.8062 - val_loss: 0.4974 - val_accuracy: 0.7273\n",
      "Epoch 18/200\n",
      "20/20 [==============================] - 0s 4ms/step - loss: 0.4053 - accuracy: 0.8160 - val_loss: 0.5069 - val_accuracy: 0.7338\n",
      "Epoch 19/200\n",
      "20/20 [==============================] - 0s 4ms/step - loss: 0.4021 - accuracy: 0.8208 - val_loss: 0.5065 - val_accuracy: 0.7273\n",
      "Epoch 20/200\n",
      "20/20 [==============================] - 0s 4ms/step - loss: 0.3967 - accuracy: 0.8160 - val_loss: 0.5052 - val_accuracy: 0.7143\n",
      "Epoch 21/200\n",
      "20/20 [==============================] - 0s 4ms/step - loss: 0.3923 - accuracy: 0.8208 - val_loss: 0.5089 - val_accuracy: 0.7338\n",
      "Epoch 22/200\n",
      "20/20 [==============================] - 0s 4ms/step - loss: 0.3915 - accuracy: 0.8192 - val_loss: 0.5059 - val_accuracy: 0.7143\n",
      "Epoch 23/200\n",
      "20/20 [==============================] - 0s 4ms/step - loss: 0.3858 - accuracy: 0.8257 - val_loss: 0.5280 - val_accuracy: 0.7143\n",
      "Epoch 24/200\n",
      "20/20 [==============================] - 0s 4ms/step - loss: 0.3802 - accuracy: 0.8274 - val_loss: 0.5202 - val_accuracy: 0.7143\n",
      "Epoch 25/200\n",
      "20/20 [==============================] - 0s 4ms/step - loss: 0.3778 - accuracy: 0.8290 - val_loss: 0.5146 - val_accuracy: 0.7208\n",
      "Epoch 26/200\n",
      "20/20 [==============================] - 0s 4ms/step - loss: 0.3731 - accuracy: 0.8420 - val_loss: 0.5269 - val_accuracy: 0.7273\n",
      "Epoch 27/200\n",
      "20/20 [==============================] - 0s 4ms/step - loss: 0.3711 - accuracy: 0.8371 - val_loss: 0.5281 - val_accuracy: 0.7338\n",
      "Epoch 28/200\n",
      "20/20 [==============================] - 0s 4ms/step - loss: 0.3681 - accuracy: 0.8371 - val_loss: 0.5256 - val_accuracy: 0.7208\n",
      "Epoch 29/200\n",
      "20/20 [==============================] - 0s 4ms/step - loss: 0.3645 - accuracy: 0.8355 - val_loss: 0.5224 - val_accuracy: 0.7273\n",
      "Epoch 30/200\n",
      "20/20 [==============================] - 0s 4ms/step - loss: 0.3583 - accuracy: 0.8436 - val_loss: 0.5385 - val_accuracy: 0.7143\n",
      "Epoch 31/200\n",
      "20/20 [==============================] - 0s 4ms/step - loss: 0.3575 - accuracy: 0.8404 - val_loss: 0.5380 - val_accuracy: 0.7013\n",
      "Epoch 32/200\n",
      "20/20 [==============================] - 0s 4ms/step - loss: 0.3525 - accuracy: 0.8388 - val_loss: 0.5417 - val_accuracy: 0.7078\n",
      "Epoch 33/200\n",
      "20/20 [==============================] - 0s 5ms/step - loss: 0.3486 - accuracy: 0.8502 - val_loss: 0.5366 - val_accuracy: 0.7078\n",
      "Epoch 34/200\n",
      "20/20 [==============================] - 0s 4ms/step - loss: 0.3462 - accuracy: 0.8485 - val_loss: 0.5645 - val_accuracy: 0.6948\n",
      "Epoch 35/200\n",
      "20/20 [==============================] - 0s 4ms/step - loss: 0.3389 - accuracy: 0.8436 - val_loss: 0.5399 - val_accuracy: 0.7273\n",
      "Epoch 36/200\n",
      "20/20 [==============================] - 0s 4ms/step - loss: 0.3398 - accuracy: 0.8388 - val_loss: 0.5391 - val_accuracy: 0.7208\n",
      "Epoch 37/200\n",
      "20/20 [==============================] - 0s 4ms/step - loss: 0.3327 - accuracy: 0.8567 - val_loss: 0.5557 - val_accuracy: 0.7468\n",
      "Epoch 38/200\n",
      "20/20 [==============================] - 0s 4ms/step - loss: 0.3303 - accuracy: 0.8534 - val_loss: 0.5821 - val_accuracy: 0.7013\n",
      "Epoch 39/200\n",
      "20/20 [==============================] - 0s 4ms/step - loss: 0.3254 - accuracy: 0.8583 - val_loss: 0.5585 - val_accuracy: 0.7013\n",
      "Epoch 40/200\n",
      "20/20 [==============================] - 0s 4ms/step - loss: 0.3228 - accuracy: 0.8632 - val_loss: 0.5713 - val_accuracy: 0.6948\n",
      "Epoch 41/200\n",
      "20/20 [==============================] - 0s 4ms/step - loss: 0.3172 - accuracy: 0.8746 - val_loss: 0.5936 - val_accuracy: 0.6948\n",
      "Epoch 42/200\n",
      "20/20 [==============================] - 0s 4ms/step - loss: 0.3149 - accuracy: 0.8599 - val_loss: 0.5661 - val_accuracy: 0.7273\n",
      "Epoch 43/200\n",
      "20/20 [==============================] - 0s 4ms/step - loss: 0.3110 - accuracy: 0.8746 - val_loss: 0.5772 - val_accuracy: 0.7208\n",
      "Epoch 44/200\n",
      "20/20 [==============================] - 0s 4ms/step - loss: 0.3047 - accuracy: 0.8730 - val_loss: 0.5968 - val_accuracy: 0.7143\n",
      "Epoch 45/200\n",
      "20/20 [==============================] - 0s 4ms/step - loss: 0.3049 - accuracy: 0.8713 - val_loss: 0.5649 - val_accuracy: 0.7273\n",
      "Epoch 46/200\n",
      "20/20 [==============================] - 0s 4ms/step - loss: 0.2975 - accuracy: 0.8827 - val_loss: 0.5560 - val_accuracy: 0.7403\n",
      "Epoch 47/200\n",
      "20/20 [==============================] - 0s 4ms/step - loss: 0.2984 - accuracy: 0.8697 - val_loss: 0.5986 - val_accuracy: 0.7078\n",
      "Epoch 48/200\n",
      "20/20 [==============================] - 0s 4ms/step - loss: 0.2914 - accuracy: 0.8811 - val_loss: 0.6249 - val_accuracy: 0.7013\n",
      "Epoch 49/200\n",
      "20/20 [==============================] - 0s 4ms/step - loss: 0.2865 - accuracy: 0.8713 - val_loss: 0.6297 - val_accuracy: 0.6948\n",
      "Epoch 50/200\n",
      "20/20 [==============================] - 0s 4ms/step - loss: 0.2784 - accuracy: 0.8811 - val_loss: 0.6148 - val_accuracy: 0.6948\n",
      "Epoch 51/200\n",
      "20/20 [==============================] - 0s 4ms/step - loss: 0.2792 - accuracy: 0.8811 - val_loss: 0.6280 - val_accuracy: 0.7208\n",
      "Epoch 52/200\n",
      "20/20 [==============================] - 0s 4ms/step - loss: 0.2777 - accuracy: 0.8795 - val_loss: 0.6610 - val_accuracy: 0.6883\n",
      "Epoch 53/200\n",
      "20/20 [==============================] - 0s 5ms/step - loss: 0.2756 - accuracy: 0.8844 - val_loss: 0.6263 - val_accuracy: 0.6948\n",
      "Epoch 54/200\n",
      "20/20 [==============================] - 0s 4ms/step - loss: 0.2671 - accuracy: 0.8958 - val_loss: 0.6676 - val_accuracy: 0.7013\n",
      "Epoch 55/200\n",
      "20/20 [==============================] - 0s 4ms/step - loss: 0.2669 - accuracy: 0.8876 - val_loss: 0.6375 - val_accuracy: 0.7078\n",
      "Epoch 56/200\n",
      "20/20 [==============================] - 0s 5ms/step - loss: 0.2598 - accuracy: 0.8860 - val_loss: 0.6616 - val_accuracy: 0.6948\n",
      "Epoch 57/200\n",
      "20/20 [==============================] - 0s 4ms/step - loss: 0.2550 - accuracy: 0.8827 - val_loss: 0.7438 - val_accuracy: 0.6818\n",
      "Epoch 58/200\n",
      "20/20 [==============================] - 0s 5ms/step - loss: 0.2609 - accuracy: 0.8876 - val_loss: 0.6859 - val_accuracy: 0.6883\n",
      "Epoch 59/200\n",
      "20/20 [==============================] - 0s 4ms/step - loss: 0.2497 - accuracy: 0.9007 - val_loss: 0.6777 - val_accuracy: 0.7338\n",
      "Epoch 60/200\n",
      "20/20 [==============================] - 0s 6ms/step - loss: 0.2464 - accuracy: 0.8909 - val_loss: 0.6854 - val_accuracy: 0.6948\n",
      "Epoch 61/200\n",
      "20/20 [==============================] - 0s 4ms/step - loss: 0.2395 - accuracy: 0.9039 - val_loss: 0.7086 - val_accuracy: 0.7013\n",
      "Epoch 62/200\n",
      "20/20 [==============================] - 0s 4ms/step - loss: 0.2407 - accuracy: 0.8925 - val_loss: 0.7211 - val_accuracy: 0.6883\n",
      "Epoch 63/200\n",
      "20/20 [==============================] - 0s 4ms/step - loss: 0.2310 - accuracy: 0.9104 - val_loss: 0.7341 - val_accuracy: 0.7078\n",
      "Epoch 64/200\n",
      "20/20 [==============================] - 0s 5ms/step - loss: 0.2305 - accuracy: 0.9023 - val_loss: 0.7581 - val_accuracy: 0.6948\n",
      "Epoch 65/200\n",
      "20/20 [==============================] - 0s 4ms/step - loss: 0.2253 - accuracy: 0.9137 - val_loss: 0.7389 - val_accuracy: 0.7078\n",
      "Epoch 66/200\n",
      "20/20 [==============================] - 0s 5ms/step - loss: 0.2203 - accuracy: 0.9039 - val_loss: 0.7771 - val_accuracy: 0.7078\n",
      "Epoch 67/200\n",
      "20/20 [==============================] - 0s 4ms/step - loss: 0.2199 - accuracy: 0.9055 - val_loss: 0.7617 - val_accuracy: 0.7143\n",
      "Epoch 68/200\n",
      "20/20 [==============================] - 0s 5ms/step - loss: 0.2146 - accuracy: 0.9186 - val_loss: 0.7444 - val_accuracy: 0.7273\n",
      "Epoch 69/200\n",
      "20/20 [==============================] - 0s 4ms/step - loss: 0.2049 - accuracy: 0.9121 - val_loss: 0.7866 - val_accuracy: 0.6948\n",
      "Epoch 70/200\n",
      "20/20 [==============================] - 0s 5ms/step - loss: 0.2049 - accuracy: 0.9153 - val_loss: 0.8044 - val_accuracy: 0.6948\n",
      "Epoch 71/200\n",
      "20/20 [==============================] - 0s 4ms/step - loss: 0.2026 - accuracy: 0.9251 - val_loss: 0.8344 - val_accuracy: 0.6948\n",
      "Epoch 72/200\n",
      "20/20 [==============================] - 0s 4ms/step - loss: 0.2010 - accuracy: 0.9186 - val_loss: 0.8125 - val_accuracy: 0.6818\n",
      "Epoch 73/200\n",
      "20/20 [==============================] - 0s 4ms/step - loss: 0.1969 - accuracy: 0.9218 - val_loss: 0.8183 - val_accuracy: 0.7078\n",
      "Epoch 74/200\n",
      "20/20 [==============================] - 0s 4ms/step - loss: 0.1916 - accuracy: 0.9316 - val_loss: 0.8023 - val_accuracy: 0.6948\n",
      "Epoch 75/200\n",
      "20/20 [==============================] - 0s 5ms/step - loss: 0.1898 - accuracy: 0.9267 - val_loss: 0.8397 - val_accuracy: 0.7143\n",
      "Epoch 76/200\n",
      "20/20 [==============================] - 0s 4ms/step - loss: 0.1816 - accuracy: 0.9267 - val_loss: 0.8487 - val_accuracy: 0.7013\n",
      "Epoch 77/200\n",
      "20/20 [==============================] - 0s 4ms/step - loss: 0.1840 - accuracy: 0.9235 - val_loss: 0.8500 - val_accuracy: 0.7013\n",
      "Epoch 78/200\n",
      "20/20 [==============================] - 0s 4ms/step - loss: 0.1778 - accuracy: 0.9218 - val_loss: 0.8800 - val_accuracy: 0.6753\n",
      "Epoch 79/200\n",
      "20/20 [==============================] - 0s 4ms/step - loss: 0.1708 - accuracy: 0.9365 - val_loss: 0.8958 - val_accuracy: 0.6948\n",
      "Epoch 80/200\n",
      "20/20 [==============================] - 0s 4ms/step - loss: 0.1692 - accuracy: 0.9381 - val_loss: 0.9471 - val_accuracy: 0.6883\n",
      "Epoch 81/200\n",
      "20/20 [==============================] - 0s 5ms/step - loss: 0.1658 - accuracy: 0.9332 - val_loss: 0.9494 - val_accuracy: 0.7078\n",
      "Epoch 82/200\n",
      "20/20 [==============================] - 0s 4ms/step - loss: 0.1663 - accuracy: 0.9332 - val_loss: 0.9704 - val_accuracy: 0.6948\n",
      "Epoch 83/200\n",
      "20/20 [==============================] - 0s 4ms/step - loss: 0.1615 - accuracy: 0.9365 - val_loss: 0.9814 - val_accuracy: 0.7273\n",
      "Epoch 84/200\n",
      "20/20 [==============================] - 0s 4ms/step - loss: 0.1584 - accuracy: 0.9283 - val_loss: 0.9747 - val_accuracy: 0.7273\n",
      "Epoch 85/200\n",
      "20/20 [==============================] - 0s 4ms/step - loss: 0.1546 - accuracy: 0.9300 - val_loss: 0.9786 - val_accuracy: 0.6883\n",
      "Epoch 86/200\n",
      "20/20 [==============================] - 0s 4ms/step - loss: 0.1510 - accuracy: 0.9430 - val_loss: 0.9731 - val_accuracy: 0.6883\n",
      "Epoch 87/200\n",
      "20/20 [==============================] - 0s 4ms/step - loss: 0.1509 - accuracy: 0.9414 - val_loss: 1.0642 - val_accuracy: 0.7013\n",
      "Epoch 88/200\n",
      "20/20 [==============================] - 0s 4ms/step - loss: 0.1496 - accuracy: 0.9479 - val_loss: 1.0170 - val_accuracy: 0.7013\n",
      "Epoch 89/200\n",
      "20/20 [==============================] - 0s 4ms/step - loss: 0.1437 - accuracy: 0.9349 - val_loss: 0.9716 - val_accuracy: 0.7013\n",
      "Epoch 90/200\n",
      "20/20 [==============================] - 0s 4ms/step - loss: 0.1369 - accuracy: 0.9463 - val_loss: 0.9840 - val_accuracy: 0.7013\n",
      "Epoch 91/200\n",
      "20/20 [==============================] - 0s 4ms/step - loss: 0.1333 - accuracy: 0.9528 - val_loss: 1.0441 - val_accuracy: 0.6948\n",
      "Epoch 92/200\n",
      "20/20 [==============================] - 0s 5ms/step - loss: 0.1315 - accuracy: 0.9528 - val_loss: 1.0995 - val_accuracy: 0.7338\n",
      "Epoch 93/200\n",
      "20/20 [==============================] - 0s 4ms/step - loss: 0.1306 - accuracy: 0.9463 - val_loss: 1.0798 - val_accuracy: 0.7013\n",
      "Epoch 94/200\n",
      "20/20 [==============================] - 0s 4ms/step - loss: 0.1205 - accuracy: 0.9511 - val_loss: 1.0667 - val_accuracy: 0.7208\n",
      "Epoch 95/200\n",
      "20/20 [==============================] - 0s 4ms/step - loss: 0.1252 - accuracy: 0.9560 - val_loss: 1.0631 - val_accuracy: 0.7013\n",
      "Epoch 96/200\n",
      "20/20 [==============================] - 0s 4ms/step - loss: 0.1208 - accuracy: 0.9560 - val_loss: 1.1239 - val_accuracy: 0.7143\n",
      "Epoch 97/200\n",
      "20/20 [==============================] - 0s 4ms/step - loss: 0.1134 - accuracy: 0.9658 - val_loss: 1.1708 - val_accuracy: 0.6948\n",
      "Epoch 98/200\n",
      "20/20 [==============================] - 0s 5ms/step - loss: 0.1118 - accuracy: 0.9593 - val_loss: 1.2173 - val_accuracy: 0.7143\n",
      "Epoch 99/200\n",
      "20/20 [==============================] - 0s 4ms/step - loss: 0.1121 - accuracy: 0.9625 - val_loss: 1.1175 - val_accuracy: 0.7143\n",
      "Epoch 100/200\n",
      "20/20 [==============================] - 0s 4ms/step - loss: 0.1100 - accuracy: 0.9577 - val_loss: 1.1470 - val_accuracy: 0.7078\n",
      "Epoch 101/200\n",
      "20/20 [==============================] - 0s 4ms/step - loss: 0.1012 - accuracy: 0.9674 - val_loss: 1.2064 - val_accuracy: 0.7078\n",
      "Epoch 102/200\n",
      "20/20 [==============================] - 0s 4ms/step - loss: 0.1044 - accuracy: 0.9625 - val_loss: 1.2463 - val_accuracy: 0.7013\n",
      "Epoch 103/200\n",
      "20/20 [==============================] - 0s 4ms/step - loss: 0.1018 - accuracy: 0.9642 - val_loss: 1.2234 - val_accuracy: 0.7338\n",
      "Epoch 104/200\n",
      "20/20 [==============================] - 0s 4ms/step - loss: 0.0962 - accuracy: 0.9658 - val_loss: 1.2397 - val_accuracy: 0.7143\n",
      "Epoch 105/200\n",
      "20/20 [==============================] - 0s 4ms/step - loss: 0.0902 - accuracy: 0.9691 - val_loss: 1.3170 - val_accuracy: 0.7078\n",
      "Epoch 106/200\n",
      "20/20 [==============================] - 0s 4ms/step - loss: 0.0920 - accuracy: 0.9674 - val_loss: 1.3187 - val_accuracy: 0.7078\n",
      "Epoch 107/200\n",
      "20/20 [==============================] - 0s 4ms/step - loss: 0.0906 - accuracy: 0.9642 - val_loss: 1.2401 - val_accuracy: 0.7013\n",
      "Epoch 108/200\n",
      "20/20 [==============================] - 0s 4ms/step - loss: 0.0829 - accuracy: 0.9788 - val_loss: 1.3404 - val_accuracy: 0.7013\n",
      "Epoch 109/200\n",
      "20/20 [==============================] - 0s 4ms/step - loss: 0.0801 - accuracy: 0.9805 - val_loss: 1.3398 - val_accuracy: 0.7143\n",
      "Epoch 110/200\n",
      "20/20 [==============================] - 0s 5ms/step - loss: 0.0776 - accuracy: 0.9756 - val_loss: 1.3845 - val_accuracy: 0.7143\n",
      "Epoch 111/200\n",
      "20/20 [==============================] - 0s 5ms/step - loss: 0.0796 - accuracy: 0.9772 - val_loss: 1.2729 - val_accuracy: 0.7338\n",
      "Epoch 112/200\n",
      "20/20 [==============================] - 0s 4ms/step - loss: 0.0714 - accuracy: 0.9837 - val_loss: 1.4113 - val_accuracy: 0.7013\n",
      "Epoch 113/200\n",
      "20/20 [==============================] - 0s 4ms/step - loss: 0.0649 - accuracy: 0.9837 - val_loss: 1.4778 - val_accuracy: 0.6948\n",
      "Epoch 114/200\n",
      "20/20 [==============================] - 0s 5ms/step - loss: 0.0727 - accuracy: 0.9805 - val_loss: 1.3470 - val_accuracy: 0.7078\n",
      "Epoch 115/200\n",
      "20/20 [==============================] - 0s 4ms/step - loss: 0.0684 - accuracy: 0.9821 - val_loss: 1.4338 - val_accuracy: 0.7143\n",
      "Epoch 116/200\n",
      "20/20 [==============================] - 0s 4ms/step - loss: 0.0616 - accuracy: 0.9837 - val_loss: 1.5228 - val_accuracy: 0.6883\n",
      "Epoch 117/200\n",
      "20/20 [==============================] - 0s 4ms/step - loss: 0.0611 - accuracy: 0.9837 - val_loss: 1.5041 - val_accuracy: 0.6883\n",
      "Epoch 118/200\n",
      "20/20 [==============================] - 0s 4ms/step - loss: 0.0588 - accuracy: 0.9837 - val_loss: 1.6566 - val_accuracy: 0.6753\n",
      "Epoch 119/200\n",
      "20/20 [==============================] - 0s 4ms/step - loss: 0.0647 - accuracy: 0.9739 - val_loss: 1.4689 - val_accuracy: 0.7143\n",
      "Epoch 120/200\n",
      "20/20 [==============================] - 0s 4ms/step - loss: 0.0557 - accuracy: 0.9821 - val_loss: 1.6872 - val_accuracy: 0.7143\n",
      "Epoch 121/200\n",
      "20/20 [==============================] - 0s 4ms/step - loss: 0.0564 - accuracy: 0.9837 - val_loss: 1.5793 - val_accuracy: 0.7143\n",
      "Epoch 122/200\n",
      "20/20 [==============================] - 0s 4ms/step - loss: 0.0589 - accuracy: 0.9821 - val_loss: 1.5782 - val_accuracy: 0.7208\n",
      "Epoch 123/200\n",
      "20/20 [==============================] - 0s 5ms/step - loss: 0.0493 - accuracy: 0.9886 - val_loss: 1.5584 - val_accuracy: 0.7078\n",
      "Epoch 124/200\n",
      "20/20 [==============================] - 0s 4ms/step - loss: 0.0525 - accuracy: 0.9837 - val_loss: 1.6193 - val_accuracy: 0.6883\n",
      "Epoch 125/200\n",
      "20/20 [==============================] - 0s 4ms/step - loss: 0.0549 - accuracy: 0.9821 - val_loss: 1.5995 - val_accuracy: 0.7078\n",
      "Epoch 126/200\n",
      "20/20 [==============================] - 0s 4ms/step - loss: 0.0486 - accuracy: 0.9902 - val_loss: 1.5973 - val_accuracy: 0.7013\n",
      "Epoch 127/200\n",
      "20/20 [==============================] - 0s 4ms/step - loss: 0.0432 - accuracy: 0.9886 - val_loss: 1.6123 - val_accuracy: 0.7013\n",
      "Epoch 128/200\n",
      "20/20 [==============================] - 0s 4ms/step - loss: 0.0451 - accuracy: 0.9902 - val_loss: 1.7671 - val_accuracy: 0.6948\n",
      "Epoch 129/200\n",
      "20/20 [==============================] - 0s 4ms/step - loss: 0.0435 - accuracy: 0.9853 - val_loss: 1.7438 - val_accuracy: 0.7078\n",
      "Epoch 130/200\n",
      "20/20 [==============================] - 0s 4ms/step - loss: 0.0390 - accuracy: 0.9902 - val_loss: 1.8109 - val_accuracy: 0.6623\n",
      "Epoch 131/200\n",
      "20/20 [==============================] - 0s 4ms/step - loss: 0.0380 - accuracy: 0.9919 - val_loss: 1.7988 - val_accuracy: 0.6883\n",
      "Epoch 132/200\n",
      "20/20 [==============================] - 0s 4ms/step - loss: 0.0449 - accuracy: 0.9919 - val_loss: 1.8881 - val_accuracy: 0.6688\n",
      "Epoch 133/200\n",
      "20/20 [==============================] - 0s 4ms/step - loss: 0.0334 - accuracy: 0.9902 - val_loss: 1.8191 - val_accuracy: 0.7013\n",
      "Epoch 134/200\n",
      "20/20 [==============================] - 0s 5ms/step - loss: 0.0415 - accuracy: 0.9853 - val_loss: 1.9018 - val_accuracy: 0.6883\n",
      "Epoch 135/200\n",
      "20/20 [==============================] - 0s 4ms/step - loss: 0.0465 - accuracy: 0.9821 - val_loss: 1.8355 - val_accuracy: 0.6948\n",
      "Epoch 136/200\n",
      "20/20 [==============================] - 0s 4ms/step - loss: 0.0284 - accuracy: 0.9967 - val_loss: 1.9579 - val_accuracy: 0.6883\n",
      "Epoch 137/200\n",
      "20/20 [==============================] - 0s 4ms/step - loss: 0.0332 - accuracy: 0.9951 - val_loss: 1.8108 - val_accuracy: 0.6948\n",
      "Epoch 138/200\n",
      "20/20 [==============================] - 0s 4ms/step - loss: 0.0265 - accuracy: 0.9951 - val_loss: 1.8931 - val_accuracy: 0.6818\n",
      "Epoch 139/200\n",
      "20/20 [==============================] - 0s 4ms/step - loss: 0.0290 - accuracy: 0.9951 - val_loss: 2.1356 - val_accuracy: 0.6948\n",
      "Epoch 140/200\n",
      "20/20 [==============================] - 0s 4ms/step - loss: 0.0295 - accuracy: 0.9902 - val_loss: 1.9048 - val_accuracy: 0.7208\n",
      "Epoch 141/200\n",
      "20/20 [==============================] - 0s 4ms/step - loss: 0.0280 - accuracy: 0.9951 - val_loss: 1.8406 - val_accuracy: 0.6948\n",
      "Epoch 142/200\n",
      "20/20 [==============================] - 0s 4ms/step - loss: 0.0243 - accuracy: 0.9984 - val_loss: 2.0473 - val_accuracy: 0.6883\n",
      "Epoch 143/200\n",
      "20/20 [==============================] - 0s 4ms/step - loss: 0.0213 - accuracy: 0.9967 - val_loss: 1.9559 - val_accuracy: 0.6753\n",
      "Epoch 144/200\n",
      "20/20 [==============================] - 0s 4ms/step - loss: 0.0348 - accuracy: 0.9886 - val_loss: 2.1568 - val_accuracy: 0.6753\n",
      "Epoch 145/200\n",
      "20/20 [==============================] - 0s 4ms/step - loss: 0.0184 - accuracy: 0.9984 - val_loss: 1.9518 - val_accuracy: 0.7013\n",
      "Epoch 146/200\n",
      "20/20 [==============================] - 0s 4ms/step - loss: 0.0275 - accuracy: 0.9935 - val_loss: 2.1740 - val_accuracy: 0.6818\n",
      "Epoch 147/200\n",
      "20/20 [==============================] - 0s 4ms/step - loss: 0.0254 - accuracy: 0.9951 - val_loss: 2.0581 - val_accuracy: 0.6883\n",
      "Epoch 148/200\n",
      "20/20 [==============================] - 0s 4ms/step - loss: 0.0171 - accuracy: 0.9984 - val_loss: 2.2033 - val_accuracy: 0.6688\n",
      "Epoch 149/200\n",
      "20/20 [==============================] - 0s 4ms/step - loss: 0.0258 - accuracy: 0.9919 - val_loss: 2.4009 - val_accuracy: 0.6688\n",
      "Epoch 150/200\n",
      "20/20 [==============================] - 0s 4ms/step - loss: 0.0217 - accuracy: 0.9967 - val_loss: 2.1038 - val_accuracy: 0.7013\n",
      "Epoch 151/200\n",
      "20/20 [==============================] - 0s 4ms/step - loss: 0.0196 - accuracy: 0.9967 - val_loss: 2.2352 - val_accuracy: 0.6818\n",
      "Epoch 152/200\n",
      "20/20 [==============================] - 0s 4ms/step - loss: 0.0252 - accuracy: 0.9935 - val_loss: 2.2247 - val_accuracy: 0.6688\n",
      "Epoch 153/200\n",
      "20/20 [==============================] - 0s 4ms/step - loss: 0.0200 - accuracy: 0.9967 - val_loss: 2.2770 - val_accuracy: 0.7013\n",
      "Epoch 154/200\n",
      "20/20 [==============================] - 0s 4ms/step - loss: 0.0148 - accuracy: 0.9984 - val_loss: 2.2826 - val_accuracy: 0.6818\n",
      "Epoch 155/200\n",
      "20/20 [==============================] - 0s 4ms/step - loss: 0.0170 - accuracy: 0.9967 - val_loss: 2.2234 - val_accuracy: 0.7338\n",
      "Epoch 156/200\n",
      "20/20 [==============================] - 0s 4ms/step - loss: 0.0180 - accuracy: 0.9935 - val_loss: 2.2274 - val_accuracy: 0.6883\n",
      "Epoch 157/200\n",
      "20/20 [==============================] - 0s 4ms/step - loss: 0.0161 - accuracy: 1.0000 - val_loss: 2.4379 - val_accuracy: 0.6883\n",
      "Epoch 158/200\n",
      "20/20 [==============================] - 0s 4ms/step - loss: 0.0179 - accuracy: 0.9935 - val_loss: 2.4316 - val_accuracy: 0.7013\n",
      "Epoch 159/200\n",
      "20/20 [==============================] - 0s 4ms/step - loss: 0.0159 - accuracy: 0.9951 - val_loss: 2.3158 - val_accuracy: 0.6883\n",
      "Epoch 160/200\n",
      "20/20 [==============================] - 0s 4ms/step - loss: 0.0126 - accuracy: 0.9984 - val_loss: 2.4191 - val_accuracy: 0.6883\n",
      "Epoch 161/200\n",
      "20/20 [==============================] - 0s 4ms/step - loss: 0.0159 - accuracy: 0.9951 - val_loss: 2.5626 - val_accuracy: 0.6818\n",
      "Epoch 162/200\n",
      "20/20 [==============================] - 0s 4ms/step - loss: 0.0127 - accuracy: 0.9984 - val_loss: 2.6277 - val_accuracy: 0.6883\n",
      "Epoch 163/200\n",
      "20/20 [==============================] - 0s 4ms/step - loss: 0.0169 - accuracy: 0.9967 - val_loss: 2.6247 - val_accuracy: 0.7013\n",
      "Epoch 164/200\n",
      "20/20 [==============================] - 0s 4ms/step - loss: 0.0123 - accuracy: 0.9967 - val_loss: 2.5445 - val_accuracy: 0.6883\n",
      "Epoch 165/200\n",
      "20/20 [==============================] - 0s 4ms/step - loss: 0.0083 - accuracy: 1.0000 - val_loss: 2.5921 - val_accuracy: 0.7078\n",
      "Epoch 166/200\n",
      "20/20 [==============================] - 0s 4ms/step - loss: 0.0184 - accuracy: 0.9935 - val_loss: 2.6929 - val_accuracy: 0.6753\n",
      "Epoch 167/200\n",
      "20/20 [==============================] - 0s 4ms/step - loss: 0.0109 - accuracy: 0.9984 - val_loss: 2.4851 - val_accuracy: 0.6948\n",
      "Epoch 168/200\n",
      "20/20 [==============================] - 0s 4ms/step - loss: 0.0087 - accuracy: 0.9984 - val_loss: 2.5631 - val_accuracy: 0.7013\n",
      "Epoch 169/200\n",
      "20/20 [==============================] - 0s 4ms/step - loss: 0.0126 - accuracy: 0.9951 - val_loss: 2.7031 - val_accuracy: 0.7078\n",
      "Epoch 170/200\n",
      "20/20 [==============================] - 0s 4ms/step - loss: 0.0170 - accuracy: 0.9951 - val_loss: 2.6978 - val_accuracy: 0.6818\n",
      "Epoch 171/200\n",
      "20/20 [==============================] - 0s 4ms/step - loss: 0.0154 - accuracy: 0.9984 - val_loss: 2.7022 - val_accuracy: 0.6948\n",
      "Epoch 172/200\n",
      "20/20 [==============================] - 0s 5ms/step - loss: 0.0141 - accuracy: 0.9967 - val_loss: 2.6659 - val_accuracy: 0.6753\n",
      "Epoch 173/200\n",
      "20/20 [==============================] - 0s 4ms/step - loss: 0.0085 - accuracy: 1.0000 - val_loss: 2.8214 - val_accuracy: 0.7013\n",
      "Epoch 174/200\n",
      "20/20 [==============================] - 0s 4ms/step - loss: 0.0119 - accuracy: 0.9984 - val_loss: 2.8051 - val_accuracy: 0.6753\n",
      "Epoch 175/200\n",
      "20/20 [==============================] - 0s 3ms/step - loss: 0.0069 - accuracy: 0.9984 - val_loss: 2.6918 - val_accuracy: 0.7013\n",
      "Epoch 176/200\n",
      "20/20 [==============================] - 0s 4ms/step - loss: 0.0086 - accuracy: 1.0000 - val_loss: 3.0908 - val_accuracy: 0.6818\n",
      "Epoch 177/200\n",
      "20/20 [==============================] - 0s 4ms/step - loss: 0.0070 - accuracy: 1.0000 - val_loss: 2.8107 - val_accuracy: 0.6818\n",
      "Epoch 178/200\n",
      "20/20 [==============================] - 0s 5ms/step - loss: 0.0085 - accuracy: 1.0000 - val_loss: 2.7316 - val_accuracy: 0.7013\n",
      "Epoch 179/200\n",
      "20/20 [==============================] - 0s 4ms/step - loss: 0.0066 - accuracy: 0.9984 - val_loss: 2.7365 - val_accuracy: 0.6753\n",
      "Epoch 180/200\n",
      "20/20 [==============================] - 0s 4ms/step - loss: 0.0143 - accuracy: 0.9951 - val_loss: 3.0099 - val_accuracy: 0.6688\n",
      "Epoch 181/200\n",
      "20/20 [==============================] - 0s 4ms/step - loss: 0.0045 - accuracy: 1.0000 - val_loss: 2.9031 - val_accuracy: 0.6948\n",
      "Epoch 182/200\n",
      "20/20 [==============================] - 0s 4ms/step - loss: 0.0073 - accuracy: 0.9984 - val_loss: 3.0141 - val_accuracy: 0.6818\n",
      "Epoch 183/200\n",
      "20/20 [==============================] - 0s 4ms/step - loss: 0.0042 - accuracy: 1.0000 - val_loss: 2.8785 - val_accuracy: 0.6883\n",
      "Epoch 184/200\n",
      "20/20 [==============================] - 0s 4ms/step - loss: 0.0097 - accuracy: 1.0000 - val_loss: 2.7234 - val_accuracy: 0.7013\n",
      "Epoch 185/200\n",
      "20/20 [==============================] - 0s 4ms/step - loss: 0.0064 - accuracy: 0.9984 - val_loss: 3.1283 - val_accuracy: 0.6883\n",
      "Epoch 186/200\n",
      "20/20 [==============================] - 0s 4ms/step - loss: 0.0075 - accuracy: 0.9984 - val_loss: 2.8433 - val_accuracy: 0.7013\n",
      "Epoch 187/200\n",
      "20/20 [==============================] - 0s 4ms/step - loss: 0.0124 - accuracy: 0.9967 - val_loss: 3.0471 - val_accuracy: 0.6948\n",
      "Epoch 188/200\n",
      "20/20 [==============================] - 0s 4ms/step - loss: 0.0027 - accuracy: 1.0000 - val_loss: 3.0916 - val_accuracy: 0.6883\n",
      "Epoch 189/200\n",
      "20/20 [==============================] - 0s 4ms/step - loss: 0.0114 - accuracy: 0.9984 - val_loss: 3.0678 - val_accuracy: 0.7078\n",
      "Epoch 190/200\n",
      "20/20 [==============================] - 0s 4ms/step - loss: 0.0051 - accuracy: 1.0000 - val_loss: 3.1401 - val_accuracy: 0.7078\n",
      "Epoch 191/200\n",
      "20/20 [==============================] - 0s 4ms/step - loss: 0.0037 - accuracy: 1.0000 - val_loss: 3.0009 - val_accuracy: 0.6753\n",
      "Epoch 192/200\n",
      "20/20 [==============================] - 0s 4ms/step - loss: 0.0032 - accuracy: 1.0000 - val_loss: 3.1416 - val_accuracy: 0.6753\n",
      "Epoch 193/200\n",
      "20/20 [==============================] - 0s 4ms/step - loss: 0.0101 - accuracy: 0.9951 - val_loss: 3.2517 - val_accuracy: 0.6753\n",
      "Epoch 194/200\n",
      "20/20 [==============================] - 0s 4ms/step - loss: 0.0055 - accuracy: 1.0000 - val_loss: 3.3065 - val_accuracy: 0.6688\n",
      "Epoch 195/200\n",
      "20/20 [==============================] - 0s 4ms/step - loss: 0.0016 - accuracy: 1.0000 - val_loss: 3.4236 - val_accuracy: 0.7013\n",
      "Epoch 196/200\n",
      "20/20 [==============================] - 0s 4ms/step - loss: 0.0030 - accuracy: 1.0000 - val_loss: 3.4608 - val_accuracy: 0.6688\n",
      "Epoch 197/200\n",
      "20/20 [==============================] - 0s 4ms/step - loss: 0.0074 - accuracy: 0.9984 - val_loss: 3.4478 - val_accuracy: 0.6818\n",
      "Epoch 198/200\n",
      "20/20 [==============================] - 0s 4ms/step - loss: 0.0014 - accuracy: 1.0000 - val_loss: 3.3557 - val_accuracy: 0.6818\n",
      "Epoch 199/200\n",
      "20/20 [==============================] - 0s 4ms/step - loss: 0.0056 - accuracy: 0.9951 - val_loss: 3.3515 - val_accuracy: 0.6883\n",
      "Epoch 200/200\n",
      "20/20 [==============================] - 0s 6ms/step - loss: 0.0184 - accuracy: 0.9951 - val_loss: 3.5396 - val_accuracy: 0.6883\n"
     ]
    },
    {
     "data": {
      "text/plain": [
       "<keras.callbacks.History at 0x7e4100114c10>"
      ]
     },
     "execution_count": 37,
     "metadata": {},
     "output_type": "execute_result"
    }
   ],
   "source": [
    "model.fit(X_train, y_train, epochs=200, batch_size=32, initial_epoch=6, \n",
    "          validation_data=(X_test, y_test))"
   ]
  },
  {
   "cell_type": "code",
   "execution_count": 38,
   "id": "8cc7e9c6",
   "metadata": {
    "execution": {
     "iopub.execute_input": "2023-08-16T16:25:40.930981Z",
     "iopub.status.busy": "2023-08-16T16:25:40.929975Z",
     "iopub.status.idle": "2023-08-16T16:25:40.935846Z",
     "shell.execute_reply": "2023-08-16T16:25:40.934526Z"
    },
    "papermill": {
     "duration": 0.174288,
     "end_time": "2023-08-16T16:25:40.938488",
     "exception": false,
     "start_time": "2023-08-16T16:25:40.764200",
     "status": "completed"
    },
    "tags": []
   },
   "outputs": [],
   "source": [
    "# dropout\n",
    "# model.add(Dropout(hp.Choice('dropout', str(i), values=[0.1, 0.2, 0.3, 0.4, 0.5, 0.6, 0.7, 0.8, 0.9])))"
   ]
  }
 ],
 "metadata": {
  "kernelspec": {
   "display_name": "Python 3",
   "language": "python",
   "name": "python3"
  },
  "language_info": {
   "codemirror_mode": {
    "name": "ipython",
    "version": 3
   },
   "file_extension": ".py",
   "mimetype": "text/x-python",
   "name": "python",
   "nbconvert_exporter": "python",
   "pygments_lexer": "ipython3",
   "version": "3.10.12"
  },
  "papermill": {
   "default_parameters": {},
   "duration": 112.734065,
   "end_time": "2023-08-16T16:25:44.361301",
   "environment_variables": {},
   "exception": null,
   "input_path": "__notebook__.ipynb",
   "output_path": "__notebook__.ipynb",
   "parameters": {},
   "start_time": "2023-08-16T16:23:51.627236",
   "version": "2.4.0"
  }
 },
 "nbformat": 4,
 "nbformat_minor": 5
}
